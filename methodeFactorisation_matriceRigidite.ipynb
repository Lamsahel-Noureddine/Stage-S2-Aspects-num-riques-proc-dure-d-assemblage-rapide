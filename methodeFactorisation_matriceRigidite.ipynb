{
  "nbformat": 4,
  "nbformat_minor": 0,
  "metadata": {
    "colab": {
      "name": "methodeFactorisation_matriceRigidite.ipynb",
      "provenance": []
    },
    "kernelspec": {
      "name": "python3",
      "display_name": "Python 3"
    }
  },
  "cells": [
    {
      "cell_type": "markdown",
      "metadata": {
        "id": "fbXHB6lAx9i9"
      },
      "source": [
        "**Imports**"
      ]
    },
    {
      "cell_type": "code",
      "metadata": {
        "id": "p0O9cIaLaaDQ"
      },
      "source": [
        "!pip install pyccel\r\n",
        "!pip install numba\r\n",
        "import numpy as np\r\n",
        "import scipy as sp\r\n",
        "from scipy import special as ss\r\n",
        "import scipy.linalg as lg\r\n",
        "import matplotlib.pyplot as pl\r\n",
        "\r\n",
        "import time\r\n",
        "from time import process_time\r\n",
        "\r\n",
        "\r\n",
        "from numba import njit\r\n",
        "from pyccel.epyccel import epyccel\r\n",
        "from pyccel.decorators import types"
      ],
      "execution_count": null,
      "outputs": []
    },
    {
      "cell_type": "markdown",
      "metadata": {
        "id": "uLQ-vnlNyHJC"
      },
      "source": [
        "*transformation functions*"
      ]
    },
    {
      "cell_type": "code",
      "metadata": {
        "id": "Agn79J38sGyJ"
      },
      "source": [
        "def JT(x):\r\n",
        "  return sp.array([[1,2],[-1,0]])                          #Jacobien de FT\r\n",
        "  \r\n",
        "  \r\n",
        "  \r\n",
        "def F(x):\r\n",
        "  return sp.array([x[0],(1-x[0])*x[1]])                    #Transformation de Duffy"
      ],
      "execution_count": null,
      "outputs": []
    },
    {
      "cell_type": "markdown",
      "metadata": {
        "id": "akBgoht5yNhY"
      },
      "source": [
        "**Pure python function**"
      ]
    },
    {
      "cell_type": "code",
      "metadata": {
        "id": "zUvP3xATa5k1"
      },
      "source": [
        "def factorisation_pure(d,iteration,det,B0,B1,w0,w1,alphai,betaj,invJTdLmada,KalphaBitha):\r\n",
        "  iteration=0\r\n",
        "  q=d+1\r\n",
        "  gij=0.\r\n",
        "  for alpha1 in range(0,d+1):\r\n",
        "    for beta1 in range(0,d+1):\r\n",
        "      for alpha2 in range(0,d-alpha1+1):\r\n",
        "        for beta2 in range(0,d-beta1+1):\r\n",
        "          sum=0\r\n",
        "          for i in range(0,3):\r\n",
        "            alphai[0]=alpha1\r\n",
        "            alphai[1]=alpha2\r\n",
        "            alphai[2]=d-alpha1-alpha2\r\n",
        "            alphai[i]=alphai[i]-1\r\n",
        "            for j in range(0,3):\r\n",
        "              betaj[1]=beta2\r\n",
        "              betaj[2]=d-beta1-beta2\r\n",
        "              betaj[0]=beta1\r\n",
        "              betaj[j]=betaj[j]-1\r\n",
        "              if alphai[0] >=0  and betaj[0] >=0  and alphai[1] >=0  and betaj[1] >=0 and alphai[2] >=0  and betaj[2] >=0 :\r\n",
        "                sumr=0\r\n",
        "                for r in range(0,q):\r\n",
        "                  gij=det*invJTdLmada[i,j]\r\n",
        "                  sumr=sumr+(gij*w1[r]*B1[r,int(alphai[0])]*B1[r,int(betaj[0])])\r\n",
        "                sumsr=0\r\n",
        "                for s in range(0,q):\r\n",
        "                  sumsr=sumsr+(sumr*w0[s]*B0[s,int(d-1-alphai[0]),int(alphai[1])]*B0[s,int(d-1-betaj[0]),int(betaj[1])] )\r\n",
        "                sum=sum+sumsr \r\n",
        "          KalphaBitha[iteration]=((0.5)**3)*(d**2)*sum\r\n",
        "          iteration=iteration+1\r\n",
        "  return 0          "
      ],
      "execution_count": 59,
      "outputs": []
    },
    {
      "cell_type": "markdown",
      "metadata": {
        "id": "_8RBxSDqeZis"
      },
      "source": [
        "*test*"
      ]
    },
    {
      "cell_type": "code",
      "metadata": {
        "colab": {
          "base_uri": "https://localhost:8080/"
        },
        "id": "vRmedM_Ha5pW",
        "outputId": "e21450a1-0443-4650-c23d-2d5eb18dce91"
      },
      "source": [
        "p=2\r\n",
        "q=p+1\r\n",
        "t0,w0=ss.roots_jacobi(q,0,0)  \r\n",
        "ita0=(1/2)+0.5*t0  \r\n",
        "t1,w1=ss.roots_jacobi(q,1,0)\r\n",
        "ita1=(1/2)+0.5*t1\r\n",
        "C0=sp.diag(sp.ones(600))\r\n",
        "C0[:,0]=sp.ones(600)\r\n",
        "for n in range(1,600):                        # Formule de pascal\r\n",
        "     for m in range(1,n+1):\r\n",
        "        C0[n,m]= C0[n-1,m-1]+C0[n-1,m]\r\n",
        "JT=sp.eye(2)\r\n",
        "det=lg.det(JT)\r\n",
        "iteration=0\r\n",
        "ind=int(C0[p+2,2]**2)\r\n",
        "KalphaBitha=np.zeros(ind)\r\n",
        "alphai=np.zeros(3)\r\n",
        "betaj=np.zeros(3)\r\n",
        "Dlampda=np.array([[1,0],[0,1],[-1,-1]])                      # Dérivés des coordonnées barycentriques\r\n",
        "invJTdLmada=np.zeros((3,3))\r\n",
        "for i in range(3):\r\n",
        "  for j in range(3):\r\n",
        "    invJTdLmada[i,j]=sp.sum(Dlampda[i]*Dlampda[j])\r\n",
        "    \r\n",
        "B1=np.zeros((q,p)) \r\n",
        "B0=np.zeros((q,p,p))   \r\n",
        "for s in range(q):\r\n",
        "  x=ita0[s]\r\n",
        "  for n in range(p):\r\n",
        "    b = np.zeros(p)\r\n",
        "    b[0] = 1.\r\n",
        "    x1 = 1.-x\r\n",
        "    for j in range(1, n+1):\r\n",
        "      saved = 0.\r\n",
        "      for i in range(0, j):\r\n",
        "        tmp = b[i]\r\n",
        "        b[i] = saved + x1*tmp\r\n",
        "        saved = x*tmp\r\n",
        "      b[j] = saved \r\n",
        "    B0[s,n,:]=b                                                      #all_bernstein\r\n",
        "for s in range(q):\r\n",
        "  x=ita1[s]\r\n",
        "  b = np.zeros(p)\r\n",
        "  b[0] = 1.\r\n",
        "  x1 = 1.-x\r\n",
        "  for j in range(1, p):\r\n",
        "    saved = 0.\r\n",
        "    for i in range(0, j):\r\n",
        "      tmp = b[i]\r\n",
        "      b[i] = saved + x1*tmp\r\n",
        "      saved = x*tmp\r\n",
        "    b[j] = saved\r\n",
        "  B1[s,:]=b  \r\n",
        "  '''\r\n",
        "for s in range(q):\r\n",
        "  x=ita0[s]\r\n",
        "  y=ita1[s]\r\n",
        "  for n in range(p):\r\n",
        "    for k in range(n+1):                                           # the calculation with the analytical formula \r\n",
        "      B0[s,n,k]= C0[n,k]*((1-x)**(n-k))*(x**k)\r\n",
        "    B1[s,n]=C0[p-1,n]*((1-y)**(p-1-n))*(y**n)  \r\n",
        "'''  \r\n",
        "factorisation_pure(p,iteration,det,B0,B1,w0,w1,alphai,betaj,invJTdLmada,KalphaBitha)\r\n",
        "print(KalphaBitha)"
      ],
      "execution_count": 60,
      "outputs": [
        {
          "output_type": "stream",
          "text": [
            "[ 6.66666667e-01 -1.11022302e-16 -1.66666667e-01 -1.11022302e-16\n",
            "  6.66666667e-01 -1.66666667e-01 -1.66666667e-01 -1.66666667e-01\n",
            "  3.33333333e-01  0.00000000e+00 -3.33333333e-01  5.55111512e-17\n",
            " -3.33333333e-01 -1.66666667e-01  1.66666667e-01 -1.66666667e-01\n",
            " -1.66666667e-01  0.00000000e+00  0.00000000e+00  5.55111512e-17\n",
            " -1.66666667e-01 -3.33333333e-01 -3.33333333e-01  1.66666667e-01\n",
            "  6.66666667e-01 -3.33333333e-01 -3.33333333e-01  6.66666667e-01\n",
            " -1.66666667e-01  1.66666667e-01 -1.66666667e-01 -1.66666667e-01\n",
            "  0.00000000e+00 -1.66666667e-01  1.66666667e-01  3.33333333e-01]\n"
          ],
          "name": "stdout"
        },
        {
          "output_type": "stream",
          "text": [
            "/usr/local/lib/python3.6/dist-packages/ipykernel_launcher.py:7: DeprecationWarning: scipy.ones is deprecated and will be removed in SciPy 2.0.0, use numpy.ones instead\n",
            "  import sys\n",
            "/usr/local/lib/python3.6/dist-packages/ipykernel_launcher.py:7: DeprecationWarning: scipy.diag is deprecated and will be removed in SciPy 2.0.0, use numpy.diag instead\n",
            "  import sys\n",
            "/usr/local/lib/python3.6/dist-packages/ipykernel_launcher.py:8: DeprecationWarning: scipy.ones is deprecated and will be removed in SciPy 2.0.0, use numpy.ones instead\n",
            "  \n",
            "/usr/local/lib/python3.6/dist-packages/ipykernel_launcher.py:12: DeprecationWarning: scipy.eye is deprecated and will be removed in SciPy 2.0.0, use numpy.eye instead\n",
            "  if sys.path[0] == '':\n",
            "/usr/local/lib/python3.6/dist-packages/ipykernel_launcher.py:23: DeprecationWarning: scipy.sum is deprecated and will be removed in SciPy 2.0.0, use numpy.sum instead\n"
          ],
          "name": "stderr"
        }
      ]
    },
    {
      "cell_type": "markdown",
      "metadata": {
        "id": "Hbq9-UhOyT6y"
      },
      "source": [
        "**Numba accelerator**"
      ]
    },
    {
      "cell_type": "code",
      "metadata": {
        "id": "FNsnF_pJa56y"
      },
      "source": [
        "@njit\r\n",
        "def factorisation_numba(d,iteration,det,B0,B1,w0,w1,alphai,betaj,invJTdLmada,KalphaBitha):\r\n",
        "  iteration=0\r\n",
        "  q=d+1\r\n",
        "  gij=0.\r\n",
        "  for alpha1 in range(0,d+1):\r\n",
        "    for beta1 in range(0,d+1):\r\n",
        "      for alpha2 in range(0,d-alpha1+1):\r\n",
        "        for beta2 in range(0,d-beta1+1):\r\n",
        "          sum=0\r\n",
        "          for i in range(0,3):\r\n",
        "            alphai[0]=alpha1\r\n",
        "            alphai[1]=alpha2\r\n",
        "            alphai[2]=d-alpha1-alpha2\r\n",
        "            alphai[i]=alphai[i]-1\r\n",
        "            for j in range(0,3):\r\n",
        "              betaj[1]=beta2\r\n",
        "              betaj[2]=d-beta1-beta2\r\n",
        "              betaj[0]=beta1\r\n",
        "              betaj[j]=betaj[j]-1\r\n",
        "              if alphai[0] >=0  and betaj[0] >=0  and alphai[1] >=0  and betaj[1] >=0 and alphai[2] >=0  and betaj[2] >=0 :\r\n",
        "                sumr=0\r\n",
        "                for r in range(0,q):\r\n",
        "                  gij=det*invJTdLmada[i,j]\r\n",
        "                  sumr=sumr+(gij*w1[r]*B1[r,int(alphai[0])]*B1[r,int(betaj[0])])\r\n",
        "                sumsr=0\r\n",
        "                for s in range(0,q):\r\n",
        "                  sumsr=sumsr+(sumr*w0[s]*B0[s,int(d-1-alphai[0]),int(alphai[1])]*B0[s,int(d-1-betaj[0]),int(betaj[1])] )\r\n",
        "                sum=sum+sumsr \r\n",
        "          KalphaBitha[iteration]=((0.5)**3)*(d**2)*sum\r\n",
        "          iteration=iteration+1\r\n",
        "  return 0  "
      ],
      "execution_count": 61,
      "outputs": []
    },
    {
      "cell_type": "markdown",
      "metadata": {
        "id": "t86Yi0KYyZUM"
      },
      "source": [
        "**Pyccel accelerator**"
      ]
    },
    {
      "cell_type": "code",
      "metadata": {
        "id": "XNAl55aZa59S"
      },
      "source": [
        "@types('int','int','float','float[:,:,:]','float[:,:]','float[:]','float[:]','float[:]','float[:]','float[:,:]','float[:]')\r\n",
        "def factorisation_pyccel(d,iteration,det,B0,B1,w0,w1,alphai,betaj,invJTdLmada,KalphaBitha):\r\n",
        "  iteration=0\r\n",
        "  q=d+1\r\n",
        "  gij=0.\r\n",
        "  for alpha1 in range(0,d+1):\r\n",
        "    for beta1 in range(0,d+1):\r\n",
        "      for alpha2 in range(0,d-alpha1+1):\r\n",
        "        for beta2 in range(0,d-beta1+1):\r\n",
        "          sum=0.\r\n",
        "          for i in range(0,3):\r\n",
        "            alphai[0]=alpha1\r\n",
        "            alphai[1]=alpha2\r\n",
        "            alphai[2]=d-alpha1-alpha2\r\n",
        "            alphai[i]=alphai[i]-1\r\n",
        "            for j in range(0,3):\r\n",
        "              betaj[1]=beta2\r\n",
        "              betaj[2]=d-beta1-beta2\r\n",
        "              betaj[0]=beta1\r\n",
        "              betaj[j]=betaj[j]-1\r\n",
        "              if alphai[0] >=0  and betaj[0] >=0  and alphai[1] >=0  and betaj[1] >=0 and alphai[2] >=0  and betaj[2] >=0 :\r\n",
        "                sumr=0.\r\n",
        "                for r in range(0,q):\r\n",
        "                  gij=det*invJTdLmada[i,j]\r\n",
        "                  sumr=sumr+(gij*w1[r]*B1[r,int(alphai[0])]*B1[r,int(betaj[0])])\r\n",
        "                sumsr=0.\r\n",
        "                for s in range(0,q):\r\n",
        "                  sumsr=sumsr+(sumr*w0[s]*B0[s,int(d-1-alphai[0]),int(alphai[1])]*B0[s,int(d-1-betaj[0]),int(betaj[1])] )\r\n",
        "                sum=sum+sumsr \r\n",
        "          KalphaBitha[iteration]=((0.5)**3)*(d**2)*sum\r\n",
        "          iteration=iteration+1\r\n",
        "  return 0  "
      ],
      "execution_count": 62,
      "outputs": []
    },
    {
      "cell_type": "code",
      "metadata": {
        "id": "H6gr1Rlza6Al"
      },
      "source": [
        "factorisation=epyccel(factorisation_pyccel,language='fortran')"
      ],
      "execution_count": 63,
      "outputs": []
    },
    {
      "cell_type": "markdown",
      "metadata": {
        "id": "5A6BvmJFyfZP"
      },
      "source": [
        "**Inputs**"
      ]
    },
    {
      "cell_type": "code",
      "metadata": {
        "id": "RJkBvyBHq4bv"
      },
      "source": [
        "iteration=0\r\n",
        "\r\n",
        "Dlampda=np.array([[1,0],[0,1],[-1,-1]])                      # Dérivés des coordonnées barycentriques\r\n",
        "invJTdLmada=np.zeros((3,3))\r\n",
        "for i in range(3):\r\n",
        "  for j in range(3):\r\n",
        "    invJTdLmada[i,j]=sp.sum(Dlampda[i]*Dlampda[j])\r\n",
        "\r\n",
        "C0=sp.diag(sp.ones(500))\r\n",
        "C0[:,0]=sp.ones(500)\r\n",
        "for n in range(1,500):                                   # Formule de pascal\r\n",
        "     for m in range(1,n+1):\r\n",
        "        C0[n,m]= C0[n-1,m-1]+C0[n-1,m]\r\n",
        "JT=sp.eye(2)\r\n",
        "det=lg.det(JT)"
      ],
      "execution_count": null,
      "outputs": []
    },
    {
      "cell_type": "code",
      "metadata": {
        "id": "MGAt_GURq4pL"
      },
      "source": [
        "degremax=70"
      ],
      "execution_count": 73,
      "outputs": []
    },
    {
      "cell_type": "markdown",
      "metadata": {
        "id": "NrjKdaHby0b8"
      },
      "source": [
        "**time for pure function**"
      ]
    },
    {
      "cell_type": "code",
      "metadata": {
        "id": "wb-i0iLaq4sh"
      },
      "source": [
        "temCPUpureF=[]\r\n",
        "degre=[]\r\n",
        "for i in range(1,degremax+1):\r\n",
        "  degre.append(i)\r\n",
        "  q=i+1\r\n",
        "  t0,w0=ss.roots_jacobi(q,0,0)  \r\n",
        "  ita0=(1/2)+0.5*t0  \r\n",
        "  t1,w1=ss.roots_jacobi(q,1,0)                   #Méthode de Gauss-Jacobi\r\n",
        "  ita1=(1/2)+0.5*t1\r\n",
        "  ind=int(C0[i+2,2]**2)\r\n",
        "  KalphaBitha=np.zeros(ind)\r\n",
        "  alphai=np.zeros(3)\r\n",
        "  betaj=np.zeros(3)\r\n",
        "  B1=np.ones((q,i))\r\n",
        "  B0=np.ones((q,i,i))\r\n",
        "  t1r= process_time()\r\n",
        "  '''\r\n",
        "  for s in range(q):\r\n",
        "    x=ita0[s]\r\n",
        "    y=ita1[s]\r\n",
        "    for n in range(i):\r\n",
        "      for k in range(n+1):                                           # the calculation with the analytical formula \r\n",
        "        B0[s,n,k]= C0[n,k]*((1-x)**(n-k))*(x**k)\r\n",
        "      B1[s,n]=C0[i-1,n]*((1-y)**(i-1-n))*(y**n)  \r\n",
        "      '''\r\n",
        "  factorisation_pure(i,iteration,det,B0,B1,w0,w1,alphai,betaj,invJTdLmada,KalphaBitha)\r\n",
        "  t2r= process_time()\r\n",
        "  temCPUpureF.append(t2r-t1r)\r\n",
        "  print(i)"
      ],
      "execution_count": null,
      "outputs": []
    },
    {
      "cell_type": "markdown",
      "metadata": {
        "id": "ePKRj1cZy7G4"
      },
      "source": [
        "**Time for function with pyccel accelerator**"
      ]
    },
    {
      "cell_type": "code",
      "metadata": {
        "id": "pwnIcSlhq4xH"
      },
      "source": [
        "temCPUpyccelF=[]\r\n",
        "degre=[]\r\n",
        "for i in range(1,degremax+1):\r\n",
        "  degre.append(i)\r\n",
        "  q=i+1\r\n",
        "  t0,w0=ss.roots_jacobi(q,0,0)  \r\n",
        "  ita0=(1/2)+0.5*t0  \r\n",
        "  t1,w1=ss.roots_jacobi(q,1,0)                   #Méthode de Gauss-Jacobi\r\n",
        "  ita1=(1/2)+0.5*t1\r\n",
        "  ind=int(C0[i+2,2]**2)\r\n",
        "  KalphaBitha=np.zeros(ind)\r\n",
        "  alphai=np.zeros(3)\r\n",
        "  betaj=np.zeros(3)\r\n",
        "  B1=np.ones((q,i))\r\n",
        "  B0=np.ones((q,i,i))\r\n",
        "  t1P= process_time()\r\n",
        "  factorisation(i,iteration,det,B0,B1,w0,w1,alphai,betaj,invJTdLmada,KalphaBitha)\r\n",
        "  t2P= process_time()\r\n",
        "  temCPUpyccelF.append(t2P-t1P)\r\n",
        "  print(i)"
      ],
      "execution_count": null,
      "outputs": []
    },
    {
      "cell_type": "markdown",
      "metadata": {
        "id": "mVtJ-7kXzDtw"
      },
      "source": [
        "**Time for function with numba accelerator**"
      ]
    },
    {
      "cell_type": "code",
      "metadata": {
        "id": "DZ6IXY2Bq40d"
      },
      "source": [
        "temCPUnumbaF=[]\r\n",
        "degre=[]\r\n",
        "for i in range(1,degremax+1):\r\n",
        "  degre.append(i)\r\n",
        "  q=i+1\r\n",
        "  t0,w0=ss.roots_jacobi(q,0,0)  \r\n",
        "  ita0=(1/2)+0.5*t0  \r\n",
        "  t1,w1=ss.roots_jacobi(q,1,0)                   #Méthode de Gauss-Jacobi\r\n",
        "  ita1=(1/2)+0.5*t1\r\n",
        "  ind=int(C0[i+2,2]**2)\r\n",
        "  KalphaBitha=np.zeros(ind)\r\n",
        "  alphai=np.zeros(3)\r\n",
        "  betaj=np.zeros(3)\r\n",
        "  B1=np.ones((q,i))\r\n",
        "  B0=np.ones((q,i,i))\r\n",
        "  t1n= process_time()\r\n",
        "  '''\r\n",
        "  for s in range(q):\r\n",
        "    x=ita0[s]\r\n",
        "    y=ita1[s]\r\n",
        "    for n in range(i):\r\n",
        "      for k in range(n+1):                                           # the calculation with the analytical formula \r\n",
        "        B0[s,n,k]= C0[n,k]*((1-x)**(n-k))*(x**k)\r\n",
        "      B1[s,n]=C0[i-1,n]*((1-y)**(i-1-n))*(y**n)  \r\n",
        "      '''\r\n",
        "  factorisation_numba(i,iteration,det,B0,B1,w0,w1,alphai,betaj,invJTdLmada,KalphaBitha)\r\n",
        "  t2n= process_time()\r\n",
        "  temCPUnumbaF.append(t2n-t1n)\r\n",
        "  print(i)"
      ],
      "execution_count": null,
      "outputs": []
    },
    {
      "cell_type": "markdown",
      "metadata": {
        "id": "pycs58kUzJr2"
      },
      "source": [
        "*Plots*"
      ]
    },
    {
      "cell_type": "code",
      "metadata": {
        "colab": {
          "base_uri": "https://localhost:8080/",
          "height": 299
        },
        "id": "uRzlksWjq438",
        "outputId": "04845bc0-7975-411d-9b0a-d66614ea1a10"
      },
      "source": [
        "ax = pl.axes(xscale='log', yscale='log')\r\n",
        "pl.plot(degre,temCPUpyccelF,label='Factorisation avec Pyccel')\r\n",
        "pl.title(\"Temps de calcul de matrice de rigidité avec Pyccel\")\r\n",
        "pl.xlabel(\" degre d\")\r\n",
        "pl.ylabel(\"temps CPU\")\r\n",
        "Degre=np.array(degre)\r\n",
        "cst=4.1*(10**(-9))\r\n",
        "Z=cst*(Degre**5)\r\n",
        "pl.plot(degre,Z,'r--',label='$d^5$')\r\n",
        "pl.legend()\r\n",
        "pl.grid()\r\n",
        "pl.show()"
      ],
      "execution_count": 76,
      "outputs": [
        {
          "output_type": "display_data",
          "data": {
            "image/png": "[encoded data removed]",
            "text/plain": [
              "<Figure size 432x288 with 1 Axes>"
            ]
          },
          "metadata": {
            "tags": [],
            "needs_background": "light"
          }
        }
      ]
    },
    {
      "cell_type": "code",
      "metadata": {
        "colab": {
          "base_uri": "https://localhost:8080/",
          "height": 299
        },
        "id": "x81lvnZyq46-",
        "outputId": "dddaa22e-19e3-4840-bf13-0d3473c2e337"
      },
      "source": [
        "ax = pl.axes(xscale='log', yscale='log')\r\n",
        "pl.plot(degre,temCPUnumbaF,label='Factorisation avec numba')\r\n",
        "pl.title(\"Temps de calcul de matrice de rigidité avec numba\")\r\n",
        "pl.xlabel(\" degre d\")\r\n",
        "pl.ylabel(\"temps CPU\")\r\n",
        "Degre=np.array(degre)\r\n",
        "cst=4.21*(10**(-9))\r\n",
        "Z=cst*(Degre**5)\r\n",
        "pl.plot(degre,Z,'r--',label='$d^5$')\r\n",
        "pl.legend()\r\n",
        "pl.grid()\r\n",
        "pl.show()"
      ],
      "execution_count": 79,
      "outputs": [
        {
          "output_type": "display_data",
          "data": {
            "image/png": "[encoded data removed]",
            "text/plain": [
              "<Figure size 432x288 with 1 Axes>"
            ]
          },
          "metadata": {
            "tags": [],
            "needs_background": "light"
          }
        }
      ]
    },
    {
      "cell_type": "code",
      "metadata": {
        "colab": {
          "base_uri": "https://localhost:8080/",
          "height": 299
        },
        "id": "sNahmBdkq499",
        "outputId": "7fc58550-159a-4e37-f84f-734ad11d1a32"
      },
      "source": [
        "ax = pl.axes(xscale='log', yscale='log')\r\n",
        "pl.plot(degre,temCPUpureF,label='Factorisation avec pure')\r\n",
        "pl.title(\"Temps de calcul de matrice de rigidité avec pure\")\r\n",
        "pl.xlabel(\" degre d\")\r\n",
        "pl.ylabel(\"temps CPU\")\r\n",
        "Degre=np.array(degre)\r\n",
        "cst= 7.5*(10**(-6))\r\n",
        "Z=cst*(Degre**5)\r\n",
        "pl.plot(degre,Z,'r--',label='$d^5$')\r\n",
        "pl.legend()\r\n",
        "pl.grid()\r\n",
        "pl.show()"
      ],
      "execution_count": 72,
      "outputs": [
        {
          "output_type": "display_data",
          "data": {
            "image/png": "[encoded data removed]",
            "text/plain": [
              "<Figure size 432x288 with 1 Axes>"
            ]
          },
          "metadata": {
            "tags": [],
            "needs_background": "light"
          }
        }
      ]
    },
    {
      "cell_type": "code",
      "metadata": {
        "colab": {
          "base_uri": "https://localhost:8080/",
          "height": 299
        },
        "id": "VtD163hrq5Bq",
        "outputId": "3ae4709c-73e6-4261-fe11-f777621cca37"
      },
      "source": [
        "ax = pl.axes(xscale='log', yscale='log')\r\n",
        "#pl.plot(degre,temCPUpureF,label='Factorisation avec pure')\r\n",
        "pl.plot(degre,temCPUnumbaF,label='Factorisation avec numba')\r\n",
        "pl.plot(degre,temCPUpyccelF,label='Factorisation avec Pyccel')\r\n",
        "pl.title(\"Temps de calcul de matrice de rigidité avec , numba et pyccel\")\r\n",
        "pl.xlabel(\" degre d\")\r\n",
        "pl.ylabel(\"temps CPU\")\r\n",
        "Degre=np.array(degre)\r\n",
        "cst=4.5*(10**(-10))\r\n",
        "Z=cst*(Degre**5)\r\n",
        "#pl.plot(degre,Z,'r--',label='$d^5$')\r\n",
        "pl.legend()\r\n",
        "pl.grid()\r\n",
        "pl.show()"
      ],
      "execution_count": 80,
      "outputs": [
        {
          "output_type": "display_data",
          "data": {
            "image/png": "[encoded data removed]",
            "text/plain": [
              "<Figure size 432x288 with 1 Axes>"
            ]
          },
          "metadata": {
            "tags": [],
            "needs_background": "light"
          }
        }
      ]
    },
    {
      "cell_type": "code",
      "metadata": {
        "id": "GSz_sP4mq5EU"
      },
      "source": [
        ""
      ],
      "execution_count": null,
      "outputs": []
    }
  ]
}