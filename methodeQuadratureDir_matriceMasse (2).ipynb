{
  "nbformat": 4,
  "nbformat_minor": 0,
  "metadata": {
    "colab": {
      "name": "methodeQuadratureDir_matriceMasse.ipynb",
      "provenance": []
    },
    "kernelspec": {
      "name": "python3",
      "display_name": "Python 3"
    }
  },
  "cells": [
    {
      "cell_type": "markdown",
      "metadata": {
        "id": "jO4gKE-5tyEZ"
      },
      "source": [
        "**Imports**"
      ]
    },
    {
      "cell_type": "code",
      "metadata": {
        "id": "9pf0p7vxoMP4"
      },
      "source": [
        "!pip install pyccel\r\n",
        "!pip install numba\r\n",
        "import numpy as np\r\n",
        "import scipy as sp\r\n",
        "from scipy import special as ss\r\n",
        "import scipy.linalg as lg\r\n",
        "import matplotlib.pyplot as pl\r\n",
        "\r\n",
        "import time\r\n",
        "from time import process_time\r\n",
        "\r\n",
        "\r\n",
        "from numba import njit\r\n",
        "from pyccel.epyccel import epyccel\r\n",
        "from pyccel.decorators import types,pure"
      ],
      "execution_count": null,
      "outputs": []
    },
    {
      "cell_type": "markdown",
      "metadata": {
        "id": "DREEMdtbWbK1"
      },
      "source": [
        "***transformation functions***"
      ]
    },
    {
      "cell_type": "code",
      "metadata": {
        "id": "gtS-3tJqWW6J"
      },
      "source": [
        "\r\n",
        "def JT(x):\r\n",
        "  return sp.array([[1,2],[-1,0]])                          #Jacobien de FT\r\n",
        "  \r\n",
        "  \r\n",
        "  \r\n",
        "def F(x):\r\n",
        "  return sp.array([x[0],(1-x[0])*x[1]])                    #Transformation de Duffy"
      ],
      "execution_count": 2,
      "outputs": []
    },
    {
      "cell_type": "markdown",
      "metadata": {
        "id": "cZ9I4VTjt7CB"
      },
      "source": [
        "**Pure python function**"
      ]
    },
    {
      "cell_type": "code",
      "metadata": {
        "id": "5e3bCm-ZoYEg"
      },
      "source": [
        "\r\n",
        "def quadrature_pure(d,iteration,B0,B1,w0,w1,malphaBihaApp,grs):\r\n",
        "  iteration=0\r\n",
        "  q=d+1\r\n",
        "  for alpha1 in range(0,d+1):\r\n",
        "    for bita1 in range(0,d+1):\r\n",
        "      for alpha2 in range(0,d-alpha1+1):\r\n",
        "        for bita2 in range(0,d-bita1+1):\r\n",
        "          cMalphaBihaApp=0.\r\n",
        "          for s in range(0,q):\r\n",
        "            for r in range(0,q):\r\n",
        "              cMalphaBihaApp=cMalphaBihaApp+(grs*w1[r]*B1[r,alpha1]*B1[r,bita1]*w0[s]*B0[s,d-alpha1,alpha2]*B0[s,d-bita1,bita2] )\r\n",
        "          malphaBihaApp[iteration]=((0.5)**3)*cMalphaBihaApp \r\n",
        "          iteration=iteration+1      \r\n",
        "    \r\n",
        "\r\n",
        "  return 0"
      ],
      "execution_count": 3,
      "outputs": []
    },
    {
      "cell_type": "markdown",
      "metadata": {
        "id": "j7pBKVLkuN9T"
      },
      "source": [
        "**Numba accelerator**"
      ]
    },
    {
      "cell_type": "code",
      "metadata": {
        "id": "PqX8yF0ToYaW"
      },
      "source": [
        "\r\n",
        "@njit\r\n",
        "def quadrature_numba(d,iteration,B0,w0,B1,w1,malphaBihaApp,grs):\r\n",
        "  iteration=0\r\n",
        "  q=d+1\r\n",
        "  for alpha1 in range(0,d+1):\r\n",
        "    for bita1 in range(0,d+1):\r\n",
        "      for alpha2 in range(0,d-alpha1+1):\r\n",
        "        for bita2 in range(0,d-bita1+1):\r\n",
        "          cMalphaBihaApp=0.\r\n",
        "          for s in range(0,q):\r\n",
        "            for r in range(0,q):\r\n",
        "              cMalphaBihaApp=cMalphaBihaApp+(grs*w1[r]*B1[r,alpha1]*B1[r,bita1]*w0[s]*B0[s,d-alpha1,alpha2]*B0[s,d-bita1,bita2] )\r\n",
        "          malphaBihaApp[iteration]=((0.5)**3)*cMalphaBihaApp \r\n",
        "          iteration=iteration+1      \r\n",
        "    \r\n",
        "\r\n",
        "  return 0"
      ],
      "execution_count": 4,
      "outputs": []
    },
    {
      "cell_type": "markdown",
      "metadata": {
        "id": "kzeygeQtuVd6"
      },
      "source": [
        "**Pyccel accelerator**"
      ]
    },
    {
      "cell_type": "code",
      "metadata": {
        "id": "vi70Dd5roYjC"
      },
      "source": [
        "@types('int','int','float[:,:,:]','float[:]','float[:,:]','float[:]','float[:]','float')\r\n",
        "def quadrature_pyccel(d,iteration,B0,w0,B1,w1,malphaBihaApp,grs):\r\n",
        "  iteration=0\r\n",
        "  q=d+1\r\n",
        "  for alpha1 in range(0,d+1):\r\n",
        "    for bita1 in range(0,d+1):\r\n",
        "      for alpha2 in range(0,d-alpha1+1):\r\n",
        "        for bita2 in range(0,d-bita1+1):\r\n",
        "          cMalphaBihaApp=0.\r\n",
        "          for s in range(0,q):\r\n",
        "            for r in range(0,q):\r\n",
        "              cMalphaBihaApp=cMalphaBihaApp+(grs*w1[r]*B1[r,alpha1]*B1[r,bita1]*w0[s]*B0[s,d-alpha1,alpha2]*B0[s,d-bita1,bita2] )\r\n",
        "          malphaBihaApp[iteration]=((0.5)**3)*cMalphaBihaApp \r\n",
        "          iteration=iteration+1      \r\n",
        "    \r\n",
        "\r\n",
        "  return 0"
      ],
      "execution_count": 5,
      "outputs": []
    },
    {
      "cell_type": "code",
      "metadata": {
        "id": "qbEiZpazoYrU"
      },
      "source": [
        "quadrature=epyccel(quadrature_pyccel,language='fortran')"
      ],
      "execution_count": 6,
      "outputs": []
    },
    {
      "cell_type": "markdown",
      "metadata": {
        "id": "vuGY-kI6udKD"
      },
      "source": [
        "**Inputs**"
      ]
    },
    {
      "cell_type": "code",
      "metadata": {
        "id": "RUupsT4RoYzq"
      },
      "source": [
        "\r\n",
        "iteration=0\r\n",
        "\r\n",
        "itars=sp.array([0,0])\r\n",
        "zetars=F(itars)\r\n",
        "grs=lg.det(JT(zetars))\r\n",
        "\r\n",
        "C0=sp.diag(sp.ones(500))\r\n",
        "C0[:,0]=sp.ones(500)\r\n",
        "for n in range(1,500):                                   # Formule de pascal\r\n",
        "     for m in range(1,n+1):\r\n",
        "        C0[n,m]= C0[n-1,m-1]+C0[n-1,m] \r\n"
      ],
      "execution_count": null,
      "outputs": []
    },
    {
      "cell_type": "code",
      "metadata": {
        "id": "GZ62Nx0bkKgk"
      },
      "source": [
        "degremax=50"
      ],
      "execution_count": 22,
      "outputs": []
    },
    {
      "cell_type": "markdown",
      "metadata": {
        "id": "Nd8OxFivuiyD"
      },
      "source": [
        "**CALL Functions**"
      ]
    },
    {
      "cell_type": "markdown",
      "metadata": {
        "id": "rbgcprh_ut0T"
      },
      "source": [
        "**Function with pyccel accelerator**"
      ]
    },
    {
      "cell_type": "code",
      "metadata": {
        "id": "R8ZB11byqDj7"
      },
      "source": [
        "temCPUpyccelQ=[]\r\n",
        "degre=[]\r\n",
        "for i in range(1,degremax+1):\r\n",
        "  degre.append(i)\r\n",
        "  q=i+1\r\n",
        "  t0,w0=ss.roots_jacobi(q,0,0)  \r\n",
        "  ita0=(1/2)+0.5*t0  \r\n",
        "  t1,w1=ss.roots_jacobi(q,1,0)                   #Méthode de Gauss-Jacobi\r\n",
        "  ita1=(1/2)+0.5*t1\r\n",
        "  ind=int(C0[i+2,2]**2)\r\n",
        "  malphaBihaApp=np.zeros(ind)\r\n",
        "  B1=np.ones((q,q))\r\n",
        "  B0=np.ones((q,q,q))\r\n",
        "  '''\r\n",
        "  for s in range(q):\r\n",
        "    x=ita0[s]\r\n",
        "    y=ita1[s]\r\n",
        "    for n in range(q):\r\n",
        "      for k in range(n+1):                                           # the calculation with the analytical formula \r\n",
        "        B0[s,n,k]= C0[n,k]*((1-x)**(n-k))*(x**k)\r\n",
        "      B1[s,n]=C0[i,n]*((1-y)**(i-n))*(y**n)\r\n",
        "      '''\r\n",
        "  t1P= process_time()\r\n",
        "  quadrature(i,iteration,B0,w0,B1,w1,malphaBihaApp,grs)\r\n",
        "  t2P= process_time()\r\n",
        "  temCPUpyccelQ.append(t2P-t1P)\r\n",
        "  print(i)\r\n"
      ],
      "execution_count": null,
      "outputs": []
    },
    {
      "cell_type": "markdown",
      "metadata": {
        "id": "HNjwwsgHu-J0"
      },
      "source": [
        "**Function with numba accelerator**"
      ]
    },
    {
      "cell_type": "code",
      "metadata": {
        "id": "9pxWTcu5qDot"
      },
      "source": [
        "temCPUnumbaQ=[]\r\n",
        "degre=[]\r\n",
        "for i in range(1,degremax+1):\r\n",
        "  degre.append(i)\r\n",
        "  q=i+1\r\n",
        "  t0,w0=ss.roots_jacobi(q,0,0)  \r\n",
        "  ita0=(1/2)+0.5*t0  \r\n",
        "  t1,w1=ss.roots_jacobi(q,1,0)          #Méthode de Gauss-Jacobi\r\n",
        "  ita1=(1/2)+0.5*t1\r\n",
        "  ind=int(C0[i+2,2]**2)\r\n",
        "  malphaBihaApp=np.zeros(ind)\r\n",
        "  B1=np.ones((q,q))\r\n",
        "  B0=np.ones((q,q,q))\r\n",
        "  t1N= process_time()\r\n",
        "  quadrature_numba(i,iteration,B0,w0,B1,w1,malphaBihaApp,grs)\r\n",
        "  t2N= process_time()\r\n",
        "  temCPUnumbaQ.append(t2N-t1N)\r\n",
        "  print(i)"
      ],
      "execution_count": null,
      "outputs": []
    },
    {
      "cell_type": "markdown",
      "metadata": {
        "id": "wmJJTD2zvVT9"
      },
      "source": [
        "**Pure function**"
      ]
    },
    {
      "cell_type": "code",
      "metadata": {
        "colab": {
          "base_uri": "https://localhost:8080/"
        },
        "id": "OlVXfHdfqDsL",
        "outputId": "8508841f-b1fe-41df-cdce-24a0db942509"
      },
      "source": [
        "temCPUpureQ=[]\r\n",
        "degre=[]\r\n",
        "for i in range(1,degremax+1):\r\n",
        "  degre.append(i)\r\n",
        "  q=i+1\r\n",
        "  t0,w0=ss.roots_jacobi(q,0,0)  \r\n",
        "  ita0=(1/2)+0.5*t0  \r\n",
        "  t1,w1=ss.roots_jacobi(q,1,0)             #Méthode de Gauss-Jacobi\r\n",
        "  ita1=(1/2)+0.5*t1\r\n",
        "  ind=int(C0[i+2,2]**2)\r\n",
        "  malphaBihaApp=np.zeros(ind)\r\n",
        "  B1=np.ones((i+1,q))\r\n",
        "  B0=np.ones((i+1,q,q))\r\n",
        "  t1r= process_time()\r\n",
        "  quadrature_pure(i,iteration,B0,B1,w0,w1,malphaBihaApp,grs)\r\n",
        "  t2r= process_time()\r\n",
        "  temCPUpureQ.append(t2r-t1r)\r\n",
        "  print(i)"
      ],
      "execution_count": 15,
      "outputs": [
        {
          "output_type": "stream",
          "text": [
            "1\n",
            "2\n",
            "3\n",
            "4\n",
            "5\n",
            "6\n",
            "7\n",
            "8\n",
            "9\n",
            "10\n",
            "11\n",
            "12\n",
            "13\n",
            "14\n",
            "15\n",
            "16\n"
          ],
          "name": "stdout"
        }
      ]
    },
    {
      "cell_type": "markdown",
      "metadata": {
        "id": "Mc_DsK6yvhCW"
      },
      "source": [
        "*PLOTS*"
      ]
    },
    {
      "cell_type": "markdown",
      "metadata": {
        "id": "T8t257x5vllz"
      },
      "source": [
        "**Plot pyccel function**"
      ]
    },
    {
      "cell_type": "code",
      "metadata": {
        "colab": {
          "base_uri": "https://localhost:8080/",
          "height": 299
        },
        "id": "68pUoK4EqDv1",
        "outputId": "792c0aaf-b197-4a73-c111-dc02fe369109"
      },
      "source": [
        "ax = pl.axes(xscale='log', yscale='log')\r\n",
        "pl.plot(degre,temCPUpyccelQ,label='Quadrature directe avec Pyccel')\r\n",
        "pl.title(\"Temps de calcul de matrice de masse avec Pyccel\")\r\n",
        "pl.xlabel(\" degre d\")\r\n",
        "pl.ylabel(\"temps CPU\")\r\n",
        "Degre=np.array(degre)\r\n",
        "cst=3.2*(10**(-10))\r\n",
        "Z=cst*(Degre**6)\r\n",
        "pl.plot(degre,Z,'r--',label='$d^6$')\r\n",
        "pl.legend()\r\n",
        "pl.grid()\r\n",
        "pl.show() "
      ],
      "execution_count": 27,
      "outputs": [
        {
          "output_type": "display_data",
          "data": {
            "image/png": "[encoded data removed]",
            "text/plain": [
              "<Figure size 432x288 with 1 Axes>"
            ]
          },
          "metadata": {
            "tags": [],
            "needs_background": "light"
          }
        }
      ]
    },
    {
      "cell_type": "markdown",
      "metadata": {
        "id": "pc0FzOzNvtSB"
      },
      "source": [
        "**Plot numba function**"
      ]
    },
    {
      "cell_type": "code",
      "metadata": {
        "colab": {
          "base_uri": "https://localhost:8080/",
          "height": 299
        },
        "id": "Xml64d0Zqy68",
        "outputId": "e6646c9f-e23d-4f51-d417-1beea3b73396"
      },
      "source": [
        "ax = pl.axes(xscale='log', yscale='log')\r\n",
        "pl.plot(degre,temCPUnumbaQ,label='Quadrature directe  avec numba')\r\n",
        "pl.title(\"Temps de calcul de matrice de masse avec numba\")\r\n",
        "pl.xlabel(\" degre d\")\r\n",
        "pl.ylabel(\"temps CPU\")\r\n",
        "Degre=np.array(degre)\r\n",
        "cst=3*(10**(-10))\r\n",
        "Z=cst*(Degre**6)\r\n",
        "pl.plot(degre,Z,'r--',label='$d^6$')\r\n",
        "pl.legend()\r\n",
        "pl.grid()\r\n",
        "pl.show() "
      ],
      "execution_count": 30,
      "outputs": [
        {
          "output_type": "display_data",
          "data": {
            "image/png": "[encoded data removed]",
            "text/plain": [
              "<Figure size 432x288 with 1 Axes>"
            ]
          },
          "metadata": {
            "tags": [],
            "needs_background": "light"
          }
        }
      ]
    },
    {
      "cell_type": "markdown",
      "metadata": {
        "id": "8_su7MPSvz3m"
      },
      "source": [
        "**Plot pure function**"
      ]
    },
    {
      "cell_type": "code",
      "metadata": {
        "colab": {
          "base_uri": "https://localhost:8080/",
          "height": 299
        },
        "id": "71ViStJeq0-s",
        "outputId": "3f16e3db-3f8d-4a97-9fc1-697cc44c0e38"
      },
      "source": [
        "ax = pl.axes(xscale='log', yscale='log')\r\n",
        "pl.plot(degre,temCPUpureQ,label='Quadrature directe  avec pure')\r\n",
        "pl.title(\"Temps de calcul de matrice de masse avec pure\")\r\n",
        "pl.xlabel(\" degre d\")\r\n",
        "pl.ylabel(\"temps CPU\")\r\n",
        "Degre=np.array(degre)\r\n",
        "cst=4.5*(10**(-7))\r\n",
        "Z=cst*(Degre**6)\r\n",
        "pl.plot(degre,Z,'r--',label='$d^6$')\r\n",
        "pl.legend()\r\n",
        "pl.grid()\r\n",
        "pl.show() "
      ],
      "execution_count": 20,
      "outputs": [
        {
          "output_type": "display_data",
          "data": {
            "image/png": "[encoded data removed]",
            "text/plain": [
              "<Figure size 432x288 with 1 Axes>"
            ]
          },
          "metadata": {
            "tags": [],
            "needs_background": "light"
          }
        }
      ]
    },
    {
      "cell_type": "markdown",
      "metadata": {
        "id": "UeQyS8pfv5tf"
      },
      "source": [
        "*Plots pure, numba and pyccel functions*"
      ]
    },
    {
      "cell_type": "code",
      "metadata": {
        "colab": {
          "base_uri": "https://localhost:8080/",
          "height": 299
        },
        "id": "6QklZuVFq1Q9",
        "outputId": "feb20d9e-e81b-4e89-e135-f58804bde677"
      },
      "source": [
        "ax = pl.axes(xscale='log', yscale='log')\r\n",
        "#pl.plot(degre,temCPUpureQ,label='Quadrature directe  avec pure')\r\n",
        "pl.plot(degre,temCPUnumbaQ,label='Quadrature directe  avec numba')\r\n",
        "pl.plot(degre,temCPUpyccelQ,label='Quadrature directe  avec Pyccel')\r\n",
        "pl.title(\"Temps de calcul de matrice de masse avec  numba et pyccel\")\r\n",
        "pl.xlabel(\" degre d\")\r\n",
        "pl.ylabel(\"temps CPU\")\r\n",
        "Degre=np.array(degre)\r\n",
        "cst=4.5*(10**(-10))\r\n",
        "Z=cst*(Degre**6)\r\n",
        "#pl.plot(degre,Z,'r--',label='$d^6$')\r\n",
        "pl.legend()\r\n",
        "pl.grid()\r\n",
        "pl.show() "
      ],
      "execution_count": 32,
      "outputs": [
        {
          "output_type": "display_data",
          "data": {
            "image/png": "[encoded data removed]",
            "text/plain": [
              "<Figure size 432x288 with 1 Axes>"
            ]
          },
          "metadata": {
            "tags": [],
            "needs_background": "light"
          }
        }
      ]
    }
  ]
}