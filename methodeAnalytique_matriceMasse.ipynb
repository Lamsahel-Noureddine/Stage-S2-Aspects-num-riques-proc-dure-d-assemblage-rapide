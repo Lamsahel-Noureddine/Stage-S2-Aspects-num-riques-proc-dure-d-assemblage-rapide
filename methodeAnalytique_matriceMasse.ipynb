{
  "nbformat": 4,
  "nbformat_minor": 0,
  "metadata": {
    "colab": {
      "name": "methodeAnalytique_matriceMasse.ipynb",
      "provenance": []
    },
    "kernelspec": {
      "display_name": "Python 3",
      "name": "python3"
    }
  },
  "cells": [
    {
      "cell_type": "markdown",
      "metadata": {
        "id": "eS9F7GuJfTU9"
      },
      "source": [
        "**Imports**"
      ]
    },
    {
      "cell_type": "code",
      "metadata": {
        "colab": {
          "base_uri": "https://localhost:8080/"
        },
        "id": "4vdcjnDxONvx",
        "outputId": "1beb2285-dd5b-440e-ea19-3360c17d4ded"
      },
      "source": [
        "!pip install pyccel\n",
        "!pip install numba\n",
        "import numpy as np\n",
        "import scipy as sp\n",
        "from scipy import special as ss\n",
        "import scipy.linalg as lg\n",
        "import matplotlib.pyplot as pl\n",
        "\n",
        "import time\n",
        "from time import process_time\n",
        "\n",
        "\n",
        "from numba import njit\n",
        "from pyccel.epyccel import epyccel\n",
        "from pyccel.decorators import types\n",
        "\n"
      ],
      "execution_count": 1,
      "outputs": [
        {
          "output_type": "stream",
          "text": [
            "Requirement already satisfied: pyccel in /usr/local/lib/python3.6/dist-packages (1.0.0)\n",
            "Requirement already satisfied: textx>=1.6 in /usr/local/lib/python3.6/dist-packages (from pyccel) (2.3.0)\n",
            "Requirement already satisfied: termcolor in /usr/local/lib/python3.6/dist-packages (from pyccel) (1.1.0)\n",
            "Requirement already satisfied: numpy in /usr/local/lib/python3.6/dist-packages (from pyccel) (1.18.5)\n",
            "Requirement already satisfied: sympy>=1.2 in /usr/local/lib/python3.6/dist-packages (from pyccel) (1.7.1)\n",
            "Requirement already satisfied: Arpeggio>=1.9.0 in /usr/local/lib/python3.6/dist-packages (from textx>=1.6->pyccel) (1.10.1)\n",
            "Requirement already satisfied: mpmath>=0.19 in /usr/local/lib/python3.6/dist-packages (from sympy>=1.2->pyccel) (1.1.0)\n",
            "Requirement already satisfied: numba in /usr/local/lib/python3.6/dist-packages (0.48.0)\n",
            "Requirement already satisfied: setuptools in /usr/local/lib/python3.6/dist-packages (from numba) (50.3.2)\n",
            "Requirement already satisfied: numpy>=1.15 in /usr/local/lib/python3.6/dist-packages (from numba) (1.18.5)\n",
            "Requirement already satisfied: llvmlite<0.32.0,>=0.31.0dev0 in /usr/local/lib/python3.6/dist-packages (from numba) (0.31.0)\n"
          ],
          "name": "stdout"
        }
      ]
    },
    {
      "cell_type": "markdown",
      "metadata": {
        "id": "goGYdvx_fj7T"
      },
      "source": [
        "**Pure python function**"
      ]
    },
    {
      "cell_type": "code",
      "metadata": {
        "id": "q4cuVGwSObPz"
      },
      "source": [
        "def analytique_pure(d,iteration,det,C0,CalphaBitha,MalphaBithaAn):\n",
        "  iteration=0\n",
        "  for alpha1 in range(0,d+1):\n",
        "    for bita1 in range(0,d+1):\n",
        "      k=C0[bita1+alpha1,alpha1]/C0[2*d,d]\n",
        "      for alpha2 in range(0,d-alpha1+1):\n",
        "        for bita2 in range(0,d-bita1+1):\n",
        "          c=k*C0[bita2+alpha2,alpha2]\n",
        "          calphabita=c*C0[d-bita1-bita2+d-alpha1-alpha2,d-alpha1-alpha2]\n",
        "          CalphaBitha[iteration]=calphabita\n",
        "          iteration=iteration+1\n",
        "  MalphaBithaAn=((0.5*det)/C0[2*d+2,2])*CalphaBitha    \n",
        "  return 0"
      ],
      "execution_count": 2,
      "outputs": []
    },
    {
      "cell_type": "markdown",
      "metadata": {
        "id": "6RDr6je0fv7j"
      },
      "source": [
        "**Pyccel accelerator**"
      ]
    },
    {
      "cell_type": "code",
      "metadata": {
        "id": "E3M-hHqwHcf1"
      },
      "source": [
        "@types('int','int','float','float[:,:]','float[:]')\n",
        "def analytique_pyccel(d,iteration,det,C0,MalphaBithaAn):\n",
        "  iteration=0\n",
        "  for alpha1 in range(0,d+1):\n",
        "    for bita1 in range(0,d+1):\n",
        "      k=C0[bita1+alpha1,alpha1]/C0[2*d,d]\n",
        "      for alpha2 in range(0,d-alpha1+1):\n",
        "        for bita2 in range(0,d-bita1+1):\n",
        "          c=k*C0[bita2+alpha2,alpha2]\n",
        "          calphabita=c*C0[d-bita1-bita2+d-alpha1-alpha2,d-alpha1-alpha2]\n",
        "          MalphaBithaAn[iteration]=((0.5*det)/C0[2*d+2,2])*calphabita\n",
        "          iteration=iteration+1\n",
        "           \n",
        "  return 0\n",
        "  \n",
        "\n",
        " \n",
        "\n",
        " "
      ],
      "execution_count": 3,
      "outputs": []
    },
    {
      "cell_type": "markdown",
      "metadata": {
        "id": "r-blzxbCi3YJ"
      },
      "source": [
        "**Numba accelerator**"
      ]
    },
    {
      "cell_type": "code",
      "metadata": {
        "id": "CkKlGezHdEpB"
      },
      "source": [
        "@njit\r\n",
        "def analytique_numba(d,iteration,C0,det,MalphaBithaAn):\r\n",
        "  iteration=0\r\n",
        "  for alpha1 in range(0,d+1):\r\n",
        "    for bita1 in range(0,d+1):\r\n",
        "      k=C0[bita1+alpha1,alpha1]/C0[2*d,d]\r\n",
        "      for alpha2 in range(0,d-alpha1+1):\r\n",
        "        for bita2 in range(0,d-bita1+1):\r\n",
        "          c=k*C0[bita2+alpha2,alpha2]\r\n",
        "          calphabita=c*C0[d-bita1-bita2+d-alpha1-alpha2,d-alpha1-alpha2]\r\n",
        "          MalphaBithaAn[iteration]=((0.5*det)/C0[2*d+2,2])*calphabita\r\n",
        "          iteration=iteration+1\r\n",
        " \r\n",
        "  return 0"
      ],
      "execution_count": 4,
      "outputs": []
    },
    {
      "cell_type": "markdown",
      "metadata": {
        "id": "m8DLkMmfjD4o"
      },
      "source": [
        "**Epyccel function**"
      ]
    },
    {
      "cell_type": "code",
      "metadata": {
        "id": "gFYJCFv6Vc8F"
      },
      "source": [
        "analytique=epyccel(analytique_pyccel)"
      ],
      "execution_count": 5,
      "outputs": []
    },
    {
      "cell_type": "markdown",
      "metadata": {
        "id": "afJWEQUOjOc6"
      },
      "source": [
        "**Inputs**"
      ]
    },
    {
      "cell_type": "code",
      "metadata": {
        "colab": {
          "base_uri": "https://localhost:8080/"
        },
        "id": "6JSGuh-1meo0",
        "outputId": "aed57cc4-ad60-450e-e596-122653000161"
      },
      "source": [
        "M=sp.array([[1,1,0],[1,2,1],[1,0,1]])          # Triangle T  \r\n",
        "det=lg.det(M)\r\n",
        "\r\n",
        "C0=sp.diag(sp.ones(600))\r\n",
        "C0[:,0]=sp.ones(600)\r\n",
        "for n in range(1,600):                        # Formule de pascal\r\n",
        "     for m in range(1,n+1):\r\n",
        "        C0[n,m]= C0[n-1,m-1]+C0[n-1,m] "
      ],
      "execution_count": 7,
      "outputs": [
        {
          "output_type": "stream",
          "text": [
            "/usr/local/lib/python3.6/dist-packages/ipykernel_launcher.py:1: DeprecationWarning: scipy.array is deprecated and will be removed in SciPy 2.0.0, use numpy.array instead\n",
            "  \"\"\"Entry point for launching an IPython kernel.\n",
            "/usr/local/lib/python3.6/dist-packages/ipykernel_launcher.py:4: DeprecationWarning: scipy.ones is deprecated and will be removed in SciPy 2.0.0, use numpy.ones instead\n",
            "  after removing the cwd from sys.path.\n",
            "/usr/local/lib/python3.6/dist-packages/ipykernel_launcher.py:4: DeprecationWarning: scipy.diag is deprecated and will be removed in SciPy 2.0.0, use numpy.diag instead\n",
            "  after removing the cwd from sys.path.\n",
            "/usr/local/lib/python3.6/dist-packages/ipykernel_launcher.py:5: DeprecationWarning: scipy.ones is deprecated and will be removed in SciPy 2.0.0, use numpy.ones instead\n",
            "  \"\"\"\n"
          ],
          "name": "stderr"
        }
      ]
    },
    {
      "cell_type": "code",
      "metadata": {
        "id": "EutZsu8aV302"
      },
      "source": [
        "\n",
        "degremax=100\n",
        "iteration=0\n",
        "ind=int(C0[degremax+2,2]**2)\n",
        "CalphaBitha=np.zeros(ind) \n",
        "MalphaBithaAn=np.zeros(ind)\n"
      ],
      "execution_count": 8,
      "outputs": []
    },
    {
      "cell_type": "markdown",
      "metadata": {
        "id": "260JNaZGjZcR"
      },
      "source": [
        "**time for pure function**"
      ]
    },
    {
      "cell_type": "code",
      "metadata": {
        "id": "YpVvpEw9i4xv"
      },
      "source": [
        "temCPUpur=[]                                               \n",
        "degre=[]\n",
        "for i in range(1,degremax+1):\n",
        "  degre.append(i)\n",
        "  t1= process_time()\n",
        "  analytique_pure(i,iteration,det,C0,CalphaBitha,MalphaBithaAn)\n",
        "  t2= process_time()\n",
        "  temCPUpur.append(t2-t1)\n",
        "  \n",
        "\n"
      ],
      "execution_count": 258,
      "outputs": []
    },
    {
      "cell_type": "markdown",
      "metadata": {
        "id": "qOTcVSabjtA6"
      },
      "source": [
        "**Time for function with numba accelerator**"
      ]
    },
    {
      "cell_type": "code",
      "metadata": {
        "id": "KRIulNc0dmyC",
        "colab": {
          "base_uri": "https://localhost:8080/",
          "height": 35
        },
        "outputId": "8522ad53-521a-4ab8-facb-157046f785bd"
      },
      "source": [
        "temCPUnumba=[]\r\n",
        "degre=[]\r\n",
        "for i in range(1,degremax+1):\r\n",
        "  degre.append(i)\r\n",
        "  t1n= process_time()\r\n",
        "  analytique_numba(i,iteration,C0,det,MalphaBithaAn)  \r\n",
        "  t2n= process_time()\r\n",
        "  temCPUnumba.append(t2n-t1n)\r\n",
        "'''\r\n",
        "  star=time.time()\r\n",
        "  analytique_numba(i,iteration,C0,CalphaBitha,MalphaBithaAn) \r\n",
        "  end=time.time()\r\n",
        "  temCPUnumba2.append(end-star)\r\n",
        "  '''\r\n"
      ],
      "execution_count": 9,
      "outputs": [
        {
          "output_type": "execute_result",
          "data": {
            "application/vnd.google.colaboratory.intrinsic+json": {
              "type": "string"
            },
            "text/plain": [
              "'\\n  star=time.time()\\n  analytique_numba(i,iteration,C0,CalphaBitha,MalphaBithaAn) \\n  end=time.time()\\n  temCPUnumba2.append(end-star)\\n  '"
            ]
          },
          "metadata": {
            "tags": []
          },
          "execution_count": 9
        }
      ]
    },
    {
      "cell_type": "code",
      "metadata": {
        "colab": {
          "base_uri": "https://localhost:8080/"
        },
        "id": "ng1f0UzVO7RL",
        "outputId": "ec0952af-5697-4593-c9eb-f47f0576565f"
      },
      "source": [
        "'''\r\n",
        "t1pyp= process_time()\r\n",
        "MalphaBithaAn=((0.5*det)/C0[2*d+2,2])*CalphaBitha   \r\n",
        "t2pyp= process_time()\r\n",
        "print(t2pyp-t1pyp)\r\n",
        "'''\r\n"
      ],
      "execution_count": 233,
      "outputs": [
        {
          "output_type": "stream",
          "text": [
            "0.059703155999955015\n"
          ],
          "name": "stdout"
        }
      ]
    },
    {
      "cell_type": "code",
      "metadata": {
        "colab": {
          "base_uri": "https://localhost:8080/"
        },
        "id": "nopZATSAPNyS",
        "outputId": "fd4427ac-157c-4dfe-9eae-0a41e5019f11"
      },
      "source": [
        "'''\r\n",
        "t1pyf= process_time()\r\n",
        "c=CalphaBitha.shape[0]\r\n",
        "for i in range(c):\r\n",
        "  MalphaBithaAn[i]=((0.5*det)/C0[2*d+2,2])*CalphaBitha[i]  \r\n",
        "t2pyf= process_time()\r\n",
        "print(t2pyf-t1pyf)\r\n",
        "'''"
      ],
      "execution_count": 235,
      "outputs": [
        {
          "output_type": "stream",
          "text": [
            "19.436626731000047\n"
          ],
          "name": "stdout"
        }
      ]
    },
    {
      "cell_type": "markdown",
      "metadata": {
        "id": "9s2R4imikQ6t"
      },
      "source": [
        "**Time for function with pyccel accelerator**"
      ]
    },
    {
      "cell_type": "code",
      "metadata": {
        "id": "z5SuL9vAH6-s"
      },
      "source": [
        "temCPUpyccel=[]\n",
        "degre=[]\n",
        "for i in range(1,degremax+1):\n",
        "  degre.append(i)\n",
        "  t1P= process_time()\n",
        "  analytique(i,iteration,det,C0,MalphaBithaAn)\n",
        "  t2P= process_time()\n",
        "  temCPUpyccel.append(t2P-t1P)\n",
        "\n",
        "  \n",
        "\n",
        "\n"
      ],
      "execution_count": 10,
      "outputs": []
    },
    {
      "cell_type": "markdown",
      "metadata": {
        "id": "N8_ZjOWMk-jr"
      },
      "source": [
        "**Plot** "
      ]
    },
    {
      "cell_type": "markdown",
      "metadata": {
        "id": "YiwK9VNCkanB"
      },
      "source": [
        "**Plot pure function**"
      ]
    },
    {
      "cell_type": "code",
      "metadata": {
        "colab": {
          "base_uri": "https://localhost:8080/",
          "height": 483
        },
        "id": "KjYxg4W8dJkD",
        "outputId": "cbe1242d-e51e-4a6f-cbc8-0e617a72c984"
      },
      "source": [
        "ax = pl.axes(xscale='log', yscale='log')\n",
        "pl.plot(degre,temCPUpur,label='Analytique pure')\n",
        "pl.grid()\n",
        "pl.title(\"Temps de calcul de matrice de masse\")\n",
        "pl.xlabel(\" degre d\")\n",
        "pl.ylabel(\"temps CPU\")\n",
        "Degre=np.array(degre)\n",
        "cst=1.8*(10**(-7))\n",
        "Z=cst*(Degre**4)\n",
        "#pl.plot(degre,Z,'r--',label='$d^4$')\n",
        "pl.legend()\n",
        "pl.grid()\n",
        "pl.show() "
      ],
      "execution_count": 11,
      "outputs": [
        {
          "output_type": "error",
          "ename": "NameError",
          "evalue": "ignored",
          "traceback": [
            "\u001b[0;31m---------------------------------------------------------------------------\u001b[0m",
            "\u001b[0;31mNameError\u001b[0m                                 Traceback (most recent call last)",
            "\u001b[0;32m<ipython-input-11-93cb2c0409dd>\u001b[0m in \u001b[0;36m<module>\u001b[0;34m()\u001b[0m\n\u001b[1;32m      1\u001b[0m \u001b[0max\u001b[0m \u001b[0;34m=\u001b[0m \u001b[0mpl\u001b[0m\u001b[0;34m.\u001b[0m\u001b[0maxes\u001b[0m\u001b[0;34m(\u001b[0m\u001b[0mxscale\u001b[0m\u001b[0;34m=\u001b[0m\u001b[0;34m'log'\u001b[0m\u001b[0;34m,\u001b[0m \u001b[0myscale\u001b[0m\u001b[0;34m=\u001b[0m\u001b[0;34m'log'\u001b[0m\u001b[0;34m)\u001b[0m\u001b[0;34m\u001b[0m\u001b[0;34m\u001b[0m\u001b[0m\n\u001b[0;32m----> 2\u001b[0;31m \u001b[0mpl\u001b[0m\u001b[0;34m.\u001b[0m\u001b[0mplot\u001b[0m\u001b[0;34m(\u001b[0m\u001b[0mdegre\u001b[0m\u001b[0;34m,\u001b[0m\u001b[0mtemCPUpur\u001b[0m\u001b[0;34m,\u001b[0m\u001b[0mlabel\u001b[0m\u001b[0;34m=\u001b[0m\u001b[0;34m'Analytique pure'\u001b[0m\u001b[0;34m)\u001b[0m\u001b[0;34m\u001b[0m\u001b[0;34m\u001b[0m\u001b[0m\n\u001b[0m\u001b[1;32m      3\u001b[0m \u001b[0mpl\u001b[0m\u001b[0;34m.\u001b[0m\u001b[0mgrid\u001b[0m\u001b[0;34m(\u001b[0m\u001b[0;34m)\u001b[0m\u001b[0;34m\u001b[0m\u001b[0;34m\u001b[0m\u001b[0m\n\u001b[1;32m      4\u001b[0m \u001b[0mpl\u001b[0m\u001b[0;34m.\u001b[0m\u001b[0mtitle\u001b[0m\u001b[0;34m(\u001b[0m\u001b[0;34m\"Temps de calcul de matrice de masse\"\u001b[0m\u001b[0;34m)\u001b[0m\u001b[0;34m\u001b[0m\u001b[0;34m\u001b[0m\u001b[0m\n\u001b[1;32m      5\u001b[0m \u001b[0mpl\u001b[0m\u001b[0;34m.\u001b[0m\u001b[0mxlabel\u001b[0m\u001b[0;34m(\u001b[0m\u001b[0;34m\" degre d\"\u001b[0m\u001b[0;34m)\u001b[0m\u001b[0;34m\u001b[0m\u001b[0;34m\u001b[0m\u001b[0m\n",
            "\u001b[0;31mNameError\u001b[0m: name 'temCPUpur' is not defined"
          ]
        },
        {
          "output_type": "display_data",
          "data": {
            "image/png": "[encoded data removed]",
            "text/plain": [
              "<Figure size 432x288 with 1 Axes>"
            ]
          },
          "metadata": {
            "tags": [],
            "needs_background": "light"
          }
        }
      ]
    },
    {
      "cell_type": "markdown",
      "metadata": {
        "id": "xw9ipvPjkfxz"
      },
      "source": [
        "**Plot pyccel function**"
      ]
    },
    {
      "cell_type": "code",
      "metadata": {
        "colab": {
          "base_uri": "https://localhost:8080/",
          "height": 299
        },
        "id": "36Lq-OfGdJpO",
        "outputId": "ac8b2f3a-f631-4140-db58-198009ca7cc1"
      },
      "source": [
        "ax = pl.axes(xscale='log', yscale='log')\n",
        "pl.plot(degre,temCPUpyccel,label='Analytique avec Pyccel')\n",
        "pl.grid()\n",
        "pl.title(\"Temps de calcul de matrice de masse avec Pyccel\")\n",
        "pl.xlabel(\" degre d\")\n",
        "pl.ylabel(\"temps CPU\")\n",
        "Degre=np.array(degre)\n",
        "cst=3.1*(10**(-10))\n",
        "Z=cst*(Degre**4)\n",
        "pl.plot(degre,Z,'r--',label='$d^4$')\n",
        "pl.legend()\n",
        "pl.grid()\n",
        "pl.show() "
      ],
      "execution_count": 13,
      "outputs": [
        {
          "output_type": "display_data",
          "data": {
            "image/png": "[encoded data removed]",
            "text/plain": [
              "<Figure size 432x288 with 1 Axes>"
            ]
          },
          "metadata": {
            "tags": [],
            "needs_background": "light"
          }
        }
      ]
    },
    {
      "cell_type": "markdown",
      "metadata": {
        "id": "IozZN9xgknQf"
      },
      "source": [
        "**Plot numba function**"
      ]
    },
    {
      "cell_type": "code",
      "metadata": {
        "colab": {
          "base_uri": "https://localhost:8080/",
          "height": 299
        },
        "id": "TLlVRAYSec9e",
        "outputId": "ed78fbf9-7f17-425c-c5fc-98d9034ceb57"
      },
      "source": [
        "ax = pl.axes(xscale='log', yscale='log')\r\n",
        "pl.plot(degre,temCPUnumba,label='Analytique avec numba')\r\n",
        "pl.grid()\r\n",
        "pl.title(\"Temps de calcul de matrice de masse avec numba\")\r\n",
        "pl.xlabel(\" degre d\")\r\n",
        "pl.ylabel(\"temps CPU\")\r\n",
        "Degre=np.array(degre)\r\n",
        "cst=4.7*(10**(-10))\r\n",
        "Z=cst*(Degre**4)\r\n",
        "pl.plot(degre,Z,'r--',label='$d^4$')\r\n",
        "pl.legend()\r\n",
        "pl.grid()\r\n",
        "pl.show() "
      ],
      "execution_count": 17,
      "outputs": [
        {
          "output_type": "display_data",
          "data": {
            "image/png": "[encoded data removed]",
            "text/plain": [
              "<Figure size 432x288 with 1 Axes>"
            ]
          },
          "metadata": {
            "tags": [],
            "needs_background": "light"
          }
        }
      ]
    },
    {
      "cell_type": "markdown",
      "metadata": {
        "id": "FywaWCJykuyj"
      },
      "source": [
        "**Time CPU for numba, pyccel and pure function**"
      ]
    },
    {
      "cell_type": "code",
      "metadata": {
        "colab": {
          "base_uri": "https://localhost:8080/",
          "height": 299
        },
        "id": "tReOiMUjkDwL",
        "outputId": "ceef5d85-888d-4751-f377-fea020732a26"
      },
      "source": [
        "ax = pl.axes(xscale='log', yscale='log')\r\n",
        "pl.plot(degre,temCPUnumba,label='Analytique avec numba')\r\n",
        "pl.plot(degre,temCPUpyccel,label='Analytique avec Pyccel')\r\n",
        "#pl.plot(degre,temCPUpur,label='Analytique pure')\r\n",
        "pl.grid()\r\n",
        "pl.title(\"Temps de calcul de matrice de masse avec numba, pyccel et pure\")\r\n",
        "pl.xlabel(\" degre d\")\r\n",
        "pl.ylabel(\"temps CPU\")\r\n",
        "Degre=np.array(degre)\r\n",
        "cst=3.1*(10**(-10))\r\n",
        "Z=cst*(Degre**4)\r\n",
        "#pl.plot(degre,Z,'r--',label='$d^4$')\r\n",
        "pl.legend()\r\n",
        "pl.grid()\r\n",
        "pl.show() "
      ],
      "execution_count": 19,
      "outputs": [
        {
          "output_type": "display_data",
          "data": {
            "image/png": "[encoded data removed]",
            "text/plain": [
              "<Figure size 432x288 with 1 Axes>"
            ]
          },
          "metadata": {
            "tags": [],
            "needs_background": "light"
          }
        }
      ]
    }
  ]
}