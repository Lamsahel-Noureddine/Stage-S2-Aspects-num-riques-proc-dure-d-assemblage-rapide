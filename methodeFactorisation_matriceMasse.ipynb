{
  "nbformat": 4,
  "nbformat_minor": 0,
  "metadata": {
    "colab": {
      "name": "methodeFactorisation_matriceMasse.ipynb",
      "provenance": []
    },
    "kernelspec": {
      "display_name": "Python 3",
      "name": "python3"
    }
  },
  "cells": [
    {
      "cell_type": "markdown",
      "metadata": {
        "id": "En8DTa3PaUbA"
      },
      "source": [
        "**Imports**"
      ]
    },
    {
      "cell_type": "code",
      "metadata": {
        "colab": {
          "base_uri": "https://localhost:8080/"
        },
        "id": "zk2IBlL0lbkz",
        "outputId": "4a8764e3-5e22-4fb6-9d1f-5475033be5bd"
      },
      "source": [
        "!pip install pyccel\n",
        "!pip install numba\n",
        "import numpy as np\n",
        "import scipy as sp\n",
        "from scipy import special as ss\n",
        "import scipy.linalg as lg\n",
        "import matplotlib.pyplot as pl\n",
        "\n",
        "import time\n",
        "from time import process_time\n",
        "\n",
        "\n",
        "from numba import njit\n",
        "from pyccel.epyccel import epyccel\n",
        "from pyccel.decorators import types,pure\n"
      ],
      "execution_count": 82,
      "outputs": [
        {
          "output_type": "stream",
          "text": [
            "Requirement already satisfied: pyccel in /usr/local/lib/python3.6/dist-packages (1.0.0)\n",
            "Requirement already satisfied: termcolor in /usr/local/lib/python3.6/dist-packages (from pyccel) (1.1.0)\n",
            "Requirement already satisfied: textx>=1.6 in /usr/local/lib/python3.6/dist-packages (from pyccel) (2.3.0)\n",
            "Requirement already satisfied: sympy>=1.2 in /usr/local/lib/python3.6/dist-packages (from pyccel) (1.7.1)\n",
            "Requirement already satisfied: numpy in /usr/local/lib/python3.6/dist-packages (from pyccel) (1.18.5)\n",
            "Requirement already satisfied: Arpeggio>=1.9.0 in /usr/local/lib/python3.6/dist-packages (from textx>=1.6->pyccel) (1.10.1)\n",
            "Requirement already satisfied: mpmath>=0.19 in /usr/local/lib/python3.6/dist-packages (from sympy>=1.2->pyccel) (1.1.0)\n",
            "Requirement already satisfied: numba in /usr/local/lib/python3.6/dist-packages (0.48.0)\n",
            "Requirement already satisfied: llvmlite<0.32.0,>=0.31.0dev0 in /usr/local/lib/python3.6/dist-packages (from numba) (0.31.0)\n",
            "Requirement already satisfied: setuptools in /usr/local/lib/python3.6/dist-packages (from numba) (50.3.2)\n",
            "Requirement already satisfied: numpy>=1.15 in /usr/local/lib/python3.6/dist-packages (from numba) (1.18.5)\n"
          ],
          "name": "stdout"
        }
      ]
    },
    {
      "cell_type": "markdown",
      "metadata": {
        "id": "KkO21cF2afNt"
      },
      "source": [
        "**Pure python function**"
      ]
    },
    {
      "cell_type": "code",
      "metadata": {
        "id": "9lOPq8wRlnzj"
      },
      "source": [
        "\r\n",
        "def Bpyccel(n,k,t,C0):\r\n",
        "  return C0[n,k]*((1-t)**(n-k))*(t**k)                    #polynome de Bernstien\r\n",
        "\r\n",
        "def factorisation_pure(d,iteration,ita0,w0,ita1,w1,malphaBihaApp,C0,grs):\r\n",
        "  iteration=0\r\n",
        "  for alpha1 in range(0,d+1):\r\n",
        "    for bita1 in range(0,d+1):\r\n",
        "      for alpha2 in range(0,d-alpha1+1):\r\n",
        "        for bita2 in range(0,d-bita1+1):\r\n",
        "          cMalphaBihaApp=0.\r\n",
        "          for s in range(0,q):\r\n",
        "            c=0.\r\n",
        "            for r in range(0,q):\r\n",
        "              c=c+(grs*w1[r]*Bpyccel(d,alpha1,ita1[r],C0)*Bpyccel(d,bita1,ita1[r],C0))\r\n",
        "            cMalphaBihaApp=cMalphaBihaApp+c*w0[s]*Bpyccel(d-alpha1,alpha2,ita0[s],C0)*Bpyccel(d-bita1,bita2,ita0[s],C0)  \r\n",
        "          malphaBihaApp[iteration]=((0.5)**3)*cMalphaBihaApp \r\n",
        "          iteration=iteration+1      \r\n",
        "    \r\n",
        "\r\n",
        "  return 0"
      ],
      "execution_count": 83,
      "outputs": []
    },
    {
      "cell_type": "markdown",
      "metadata": {
        "id": "AANBIdXSao5t"
      },
      "source": [
        "**Numba accelerator**"
      ]
    },
    {
      "cell_type": "code",
      "metadata": {
        "id": "4IEPDY4Pl1Sc"
      },
      "source": [
        "@njit\n",
        "def Bpyccel(n,k,t,C0):\n",
        "  return C0[n,k]*((1-t)**(n-k))*(t**k)                #polynome de Bernstien\n",
        "@njit\n",
        "def factorisation_numba(d,iteration,ita0,w0,ita1,w1,malphaBihaApp,C0,grs):\n",
        "\n",
        "  iteration=0\n",
        "  for alpha1 in range(0,d+1):\n",
        "    for bita1 in range(0,d+1):\n",
        "      for alpha2 in range(0,d-alpha1+1):\n",
        "        for bita2 in range(0,d-bita1+1):\n",
        "          cMalphaBihaApp=0.\n",
        "          for s in range(0,q):\n",
        "            c=0.\n",
        "            for r in range(0,q):\n",
        "              c=c+(grs*w1[r]*Bpyccel(d,alpha1,ita1[r],C0)*Bpyccel(d,bita1,ita1[r],C0))\n",
        "            cMalphaBihaApp=cMalphaBihaApp+c*w0[s]*Bpyccel(d-alpha1,alpha2,ita0[s],C0)*Bpyccel(d-bita1,bita2,ita0[s],C0)  \n",
        "          malphaBihaApp[iteration]=((0.5)**3)*cMalphaBihaApp \n",
        "          iteration=iteration+1      \n",
        "    \n",
        "\n",
        "  return 0"
      ],
      "execution_count": 84,
      "outputs": []
    },
    {
      "cell_type": "markdown",
      "metadata": {
        "id": "-Hzp36sha3R9"
      },
      "source": [
        "**Pyccel accelerator**"
      ]
    },
    {
      "cell_type": "code",
      "metadata": {
        "id": "ZfJjPpDNuNyw"
      },
      "source": [
        "\n",
        "@types('int','int','float[:]','float[:]','float[:]','float[:]','float[:]','float[:,:]','float')\n",
        "def factorisation_pyccel(d,iteration,ita0,w0,ita1,w1,malphaBihaApp,C0,grs):\n",
        "  @types('int','int','float','float[:,:]')\n",
        "  def Bpyccel(n,k,t,C0):\n",
        "    return C0[n,k]*((1-t)**(n-k))*(t**k)                            #polynome de Bernstien\n",
        "  q=d+1\n",
        "  for alpha1 in range(0,d+1):\n",
        "    for bita1 in range(0,d+1):\n",
        "      for alpha2 in range(0,d-alpha1+1):\n",
        "        for bita2 in range(0,d-bita1+1):\n",
        "          cMalphaBihaApp=0.\n",
        "          for s in range(0,q):\n",
        "            c=0.\n",
        "            for r in range(0,q):\n",
        "              c=c+(grs*w1[r]*Bpyccel(d,alpha1,ita1[r],C0)*Bpyccel(d,bita1,ita1[r],C0))\n",
        "            cMalphaBihaApp=cMalphaBihaApp+c*w0[s]*Bpyccel(d-alpha1,alpha2,ita0[s],C0)*Bpyccel(d-bita1,bita2,ita0[s],C0)  \n",
        "          malphaBihaApp[iteration]=((0.5)**3)*cMalphaBihaApp \n",
        "          iteration=iteration+1\n",
        "\n",
        "  return 0"
      ],
      "execution_count": 85,
      "outputs": []
    },
    {
      "cell_type": "markdown",
      "metadata": {
        "id": "gz24qTsjbBAd"
      },
      "source": [
        "**Epyccel function**"
      ]
    },
    {
      "cell_type": "code",
      "metadata": {
        "id": "LN3Y7zHcmY9Z"
      },
      "source": [
        "factorisation=epyccel(factorisation_pyccel,language='fortran')"
      ],
      "execution_count": 86,
      "outputs": []
    },
    {
      "cell_type": "markdown",
      "metadata": {
        "id": "tDQ3_7fAbDSk"
      },
      "source": [
        "**Inputs**"
      ]
    },
    {
      "cell_type": "code",
      "metadata": {
        "colab": {
          "base_uri": "https://localhost:8080/"
        },
        "id": "f06JtxUlbKXP",
        "outputId": "415c8aee-d6ff-4e92-9d11-0e93580a1ce6"
      },
      "source": [
        "C0=sp.diag(sp.ones(500))\r\n",
        "C0[:,0]=sp.ones(500)\r\n",
        "for n in range(1,500):                                   # Formule de pascal\r\n",
        "     for m in range(1,n+1):\r\n",
        "        C0[n,m]= C0[n-1,m-1]+C0[n-1,m] \r\n",
        "\r\n",
        "\r\n",
        "def JT(x):\r\n",
        "  return sp.array([[1,2],[-1,0]])                          #Jacobien de FT\r\n",
        "  \r\n",
        "  \r\n",
        "  \r\n",
        "def F(x):\r\n",
        "  return sp.array([x[0],(1-x[0])*x[1]])                    #Transformation de Duffy\r\n",
        "\r\n",
        "\r\n",
        "iteration=0\r\n",
        "\r\n",
        "itars=sp.array([0,0])\r\n",
        "zetars=F(itars)\r\n",
        "grs=lg.det(JT(zetars))"
      ],
      "execution_count": 88,
      "outputs": [
        {
          "output_type": "stream",
          "text": [
            "/usr/local/lib/python3.6/dist-packages/ipykernel_launcher.py:1: DeprecationWarning: scipy.ones is deprecated and will be removed in SciPy 2.0.0, use numpy.ones instead\n",
            "  \"\"\"Entry point for launching an IPython kernel.\n",
            "/usr/local/lib/python3.6/dist-packages/ipykernel_launcher.py:1: DeprecationWarning: scipy.diag is deprecated and will be removed in SciPy 2.0.0, use numpy.diag instead\n",
            "  \"\"\"Entry point for launching an IPython kernel.\n",
            "/usr/local/lib/python3.6/dist-packages/ipykernel_launcher.py:2: DeprecationWarning: scipy.ones is deprecated and will be removed in SciPy 2.0.0, use numpy.ones instead\n",
            "  \n",
            "/usr/local/lib/python3.6/dist-packages/ipykernel_launcher.py:19: DeprecationWarning: scipy.array is deprecated and will be removed in SciPy 2.0.0, use numpy.array instead\n",
            "/usr/local/lib/python3.6/dist-packages/ipykernel_launcher.py:14: DeprecationWarning: scipy.array is deprecated and will be removed in SciPy 2.0.0, use numpy.array instead\n",
            "  \n",
            "/usr/local/lib/python3.6/dist-packages/ipykernel_launcher.py:9: DeprecationWarning: scipy.array is deprecated and will be removed in SciPy 2.0.0, use numpy.array instead\n",
            "  if __name__ == '__main__':\n"
          ],
          "name": "stderr"
        }
      ]
    },
    {
      "cell_type": "code",
      "metadata": {
        "id": "gVfscTktuMCe"
      },
      "source": [
        "degremax=100\n",
        "\n",
        "\n"
      ],
      "execution_count": 98,
      "outputs": []
    },
    {
      "cell_type": "markdown",
      "metadata": {
        "id": "jWTVCpHObni6"
      },
      "source": [
        "**Time for function with pyccel accelerator**"
      ]
    },
    {
      "cell_type": "code",
      "metadata": {
        "id": "f_IpqEbq3G80"
      },
      "source": [
        "temCPUpyccelF=[]\n",
        "degre=[]\n",
        "for i in range(1,degremax+1):\n",
        "  degre.append(i)\n",
        "  q=i+1\n",
        "  t0,w0=ss.roots_jacobi(q,0,0)  \n",
        "  ita0=(1/2)+0.5*t0  \n",
        "  t1,w1=ss.roots_jacobi(q,1,0)                   #Méthode de Gauss-Jacobi\n",
        "  ita1=(1/2)+0.5*t1\n",
        "  ind=int(C0[i+2,2]**2)\n",
        "  malphaBihaApp=np.zeros(ind)\n",
        "\n",
        "  t1P= process_time()\n",
        "  factorisation(i,iteration,ita0,w0,ita1,w1,malphaBihaApp,C0,grs)\n",
        "  t2P= process_time()\n",
        "\n",
        "  temCPUpyccelF.append(t2P-t1P)\n"
      ],
      "execution_count": 90,
      "outputs": []
    },
    {
      "cell_type": "markdown",
      "metadata": {
        "id": "l4g0C2ktbvD8"
      },
      "source": [
        "**Time for function with numba accelerator**"
      ]
    },
    {
      "cell_type": "code",
      "metadata": {
        "id": "58fqMzqD3HI-"
      },
      "source": [
        "temCPUnumbaF=[]\r\n",
        "degre=[]\r\n",
        "for i in range(1,degremax+1):\r\n",
        "  degre.append(i)\r\n",
        "\r\n",
        "  q=i+1\r\n",
        "  t0,w0=ss.roots_jacobi(q,0,0)  \r\n",
        "  ita0=(1/2)+0.5*t0  \r\n",
        "  t1,w1=ss.roots_jacobi(q,1,0)          #Méthode de Gauss-Jacobi\r\n",
        "  ita1=(1/2)+0.5*t1\r\n",
        "  ind=int(C0[i+2,2]**2)\r\n",
        "  malphaBihaApp=np.zeros(ind)\r\n",
        "\r\n",
        "  t1N= process_time()\r\n",
        "  factorisation_numba(i,iteration,ita0,w0,ita1,w1,malphaBihaApp,C0,grs)\r\n",
        "  t2N= process_time()\r\n",
        "\r\n",
        "  temCPUnumbaF.append(t2N-t1N)"
      ],
      "execution_count": 99,
      "outputs": []
    },
    {
      "cell_type": "markdown",
      "metadata": {
        "id": "uX3DMXuub2TO"
      },
      "source": [
        "**time for pure function**"
      ]
    },
    {
      "cell_type": "code",
      "metadata": {
        "id": "iQuCMF7Ol_Q3"
      },
      "source": [
        "temCPUpureF=[]\r\n",
        "degre=[]\r\n",
        "for i in range(1,degremax+1):\r\n",
        "  degre.append(i)\r\n",
        "\r\n",
        "  q=i+1\r\n",
        "  t0,w0=ss.roots_jacobi(q,0,0)  \r\n",
        "  ita0=(1/2)+0.5*t0  \r\n",
        "  t1,w1=ss.roots_jacobi(q,1,0)             #Méthode de Gauss-Jacobi\r\n",
        "  ita1=(1/2)+0.5*t1\r\n",
        "  ind=int(C0[i+2,2]**2)\r\n",
        "  malphaBihaApp=np.zeros(ind)\r\n",
        "\r\n",
        "  t1r= process_time()\r\n",
        "  factorisation_pure(i,iteration,ita0,w0,ita1,w1,malphaBihaApp,C0,grs)\r\n",
        "  t2r= process_time()\r\n",
        "\r\n",
        "  temCPUpureF.append(t2r-t1r)"
      ],
      "execution_count": 92,
      "outputs": []
    },
    {
      "cell_type": "markdown",
      "metadata": {
        "id": "whIYCipvb-RI"
      },
      "source": [
        "**Plot**"
      ]
    },
    {
      "cell_type": "markdown",
      "metadata": {
        "id": "P4O36JXhcGQk"
      },
      "source": [
        "**Plot pyccel function**"
      ]
    },
    {
      "cell_type": "code",
      "metadata": {
        "colab": {
          "base_uri": "https://localhost:8080/",
          "height": 299
        },
        "id": "X4owXZR93HTK",
        "outputId": "194526f9-699d-4698-a45e-4960ca67520a"
      },
      "source": [
        "ax = pl.axes(xscale='log', yscale='log')\n",
        "pl.plot(degre,temCPUpyccelF,label='Factorisation avec Pyccel')\n",
        "pl.title(\"Temps de calcul de matrice de masse avec Pyccel\")\n",
        "pl.xlabel(\" degre d\")\n",
        "pl.ylabel(\"temps CPU\")\n",
        "Degre=np.array(degre)\n",
        "cst=5.7*(10**(-8))\n",
        "Z=cst*(Degre**5)\n",
        "pl.plot(degre,Z,'r--',label='$d^5$')\n",
        "pl.legend()\n",
        "pl.grid()\n",
        "pl.show() "
      ],
      "execution_count": 93,
      "outputs": [
        {
          "output_type": "display_data",
          "data": {
            "image/png": "[encoded data removed]",
            "text/plain": [
              "<Figure size 432x288 with 1 Axes>"
            ]
          },
          "metadata": {
            "tags": [],
            "needs_background": "light"
          }
        }
      ]
    },
    {
      "cell_type": "markdown",
      "metadata": {
        "id": "MPJraL6KcXQy"
      },
      "source": [
        "**plot numba function**"
      ]
    },
    {
      "cell_type": "code",
      "metadata": {
        "colab": {
          "base_uri": "https://localhost:8080/",
          "height": 299
        },
        "id": "uLYqQbHJhxJj",
        "outputId": "b1627cc9-ac2e-4f41-d350-8ba86d8d08fd"
      },
      "source": [
        "ax = pl.axes(xscale='log', yscale='log')\r\n",
        "pl.plot(degre,temCPUnumbaF,label='Factorisation avec numba')\r\n",
        "pl.title(\"Temps de calcul de matrice de masse avec numba\")\r\n",
        "pl.xlabel(\" degre d\")\r\n",
        "pl.ylabel(\"temps CPU\")\r\n",
        "Degre=np.array(degre)\r\n",
        "cst=6*(10**(-10))\r\n",
        "Z=cst*(Degre**5)\r\n",
        "pl.plot(degre,Z,'r--',label='$d^5$')\r\n",
        "pl.legend()\r\n",
        "pl.grid()\r\n",
        "pl.show() "
      ],
      "execution_count": 100,
      "outputs": [
        {
          "output_type": "display_data",
          "data": {
            "image/png": "[encoded data removed]",
            "text/plain": [
              "<Figure size 432x288 with 1 Axes>"
            ]
          },
          "metadata": {
            "tags": [],
            "needs_background": "light"
          }
        }
      ]
    },
    {
      "cell_type": "markdown",
      "metadata": {
        "id": "J3H9uq6ecfDX"
      },
      "source": [
        "**Plot pure function**"
      ]
    },
    {
      "cell_type": "code",
      "metadata": {
        "colab": {
          "base_uri": "https://localhost:8080/",
          "height": 299
        },
        "id": "OPFbqamLmSyR",
        "outputId": "19811739-7dc2-4046-ef9c-b03ad4dd05cc"
      },
      "source": [
        "ax = pl.axes(xscale='log', yscale='log')\r\n",
        "pl.plot(degre,temCPUpureF,label='Factorisation avec pure')\r\n",
        "pl.title(\"Temps de calcul de matrice de masse avec pure\")\r\n",
        "pl.xlabel(\" degre d\")\r\n",
        "pl.ylabel(\"temps CPU\")\r\n",
        "Degre=np.array(degre)\r\n",
        "cst=4.5*(10**(-6))\r\n",
        "Z=cst*(Degre**5)\r\n",
        "pl.plot(degre,Z,'r--',label='$d^5$')\r\n",
        "pl.legend()\r\n",
        "pl.grid()\r\n",
        "pl.show() "
      ],
      "execution_count": 96,
      "outputs": [
        {
          "output_type": "display_data",
          "data": {
            "image/png": "[encoded data removed]",
            "text/plain": [
              "<Figure size 432x288 with 1 Axes>"
            ]
          },
          "metadata": {
            "tags": [],
            "needs_background": "light"
          }
        }
      ]
    },
    {
      "cell_type": "markdown",
      "metadata": {
        "id": "OziHBZwAclR9"
      },
      "source": [
        "**Plot pure, numba and pyccel functions**"
      ]
    },
    {
      "cell_type": "code",
      "metadata": {
        "colab": {
          "base_uri": "https://localhost:8080/",
          "height": 299
        },
        "id": "QRGqSwXXmeel",
        "outputId": "2ff50a55-2954-49cc-cc95-899867d3b45c"
      },
      "source": [
        "ax = pl.axes(xscale='log', yscale='log')\r\n",
        "pl.plot(degre,temCPUpureF,label='Factorisation avec pure')\r\n",
        "pl.plot(degre,temCPUnumbaF,label='Factorisation avec numba')\r\n",
        "pl.plot(degre,temCPUpyccelF,label='Factorisation avec Pyccel')\r\n",
        "pl.title(\"Temps de calcul de matrice de masse avec pure, numba et pyccel\")\r\n",
        "pl.xlabel(\" degre d\")\r\n",
        "pl.ylabel(\"temps CPU\")\r\n",
        "Degre=np.array(degre)\r\n",
        "cst=4.5*(10**(-10))\r\n",
        "Z=cst*(Degre**5)\r\n",
        "#pl.plot(degre,Z,'r--',label='$d^5$')\r\n",
        "pl.legend()\r\n",
        "pl.grid()\r\n",
        "pl.show() "
      ],
      "execution_count": 97,
      "outputs": [
        {
          "output_type": "display_data",
          "data": {
            "image/png": "[encoded data removed]",
            "text/plain": [
              "<Figure size 432x288 with 1 Axes>"
            ]
          },
          "metadata": {
            "tags": [],
            "needs_background": "light"
          }
        }
      ]
    }
  ]
}