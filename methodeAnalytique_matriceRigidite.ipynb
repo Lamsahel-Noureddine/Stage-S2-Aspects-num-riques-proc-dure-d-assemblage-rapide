{
  "nbformat": 4,
  "nbformat_minor": 0,
  "metadata": {
    "colab": {
      "name": "methodeAnalytique_matriceRigidite.ipynb",
      "provenance": []
    },
    "kernelspec": {
      "name": "python3",
      "display_name": "Python 3"
    }
  },
  "cells": [
    {
      "cell_type": "markdown",
      "metadata": {
        "id": "Tl1YIbfI6vJb"
      },
      "source": [
        "**Imports**"
      ]
    },
    {
      "cell_type": "code",
      "metadata": {
        "colab": {
          "base_uri": "https://localhost:8080/"
        },
        "id": "ghpQp5Fsi0sl",
        "outputId": "797d6c6b-57b8-4c76-a32f-3f75cee053c7"
      },
      "source": [
        "!pip install pyccel\r\n",
        "!pip install numba\r\n",
        "import numpy as np\r\n",
        "import scipy as sp\r\n",
        "from scipy import special as ss\r\n",
        "import scipy.linalg as lg\r\n",
        "import matplotlib.pyplot as pl\r\n",
        "\r\n",
        "import time\r\n",
        "from time import process_time\r\n",
        "\r\n",
        "\r\n",
        "from numba import njit\r\n",
        "from pyccel.epyccel import epyccel\r\n",
        "from pyccel.decorators import types"
      ],
      "execution_count": 123,
      "outputs": [
        {
          "output_type": "stream",
          "text": [
            "Requirement already satisfied: pyccel in /usr/local/lib/python3.6/dist-packages (1.0.0)\n",
            "Requirement already satisfied: sympy>=1.2 in /usr/local/lib/python3.6/dist-packages (from pyccel) (1.7.1)\n",
            "Requirement already satisfied: textx>=1.6 in /usr/local/lib/python3.6/dist-packages (from pyccel) (2.3.0)\n",
            "Requirement already satisfied: numpy in /usr/local/lib/python3.6/dist-packages (from pyccel) (1.19.4)\n",
            "Requirement already satisfied: termcolor in /usr/local/lib/python3.6/dist-packages (from pyccel) (1.1.0)\n",
            "Requirement already satisfied: mpmath>=0.19 in /usr/local/lib/python3.6/dist-packages (from sympy>=1.2->pyccel) (1.1.0)\n",
            "Requirement already satisfied: Arpeggio>=1.9.0 in /usr/local/lib/python3.6/dist-packages (from textx>=1.6->pyccel) (1.10.1)\n",
            "Requirement already satisfied: numba in /usr/local/lib/python3.6/dist-packages (0.48.0)\n",
            "Requirement already satisfied: llvmlite<0.32.0,>=0.31.0dev0 in /usr/local/lib/python3.6/dist-packages (from numba) (0.31.0)\n",
            "Requirement already satisfied: numpy>=1.15 in /usr/local/lib/python3.6/dist-packages (from numba) (1.19.4)\n",
            "Requirement already satisfied: setuptools in /usr/local/lib/python3.6/dist-packages (from numba) (50.3.2)\n"
          ],
          "name": "stdout"
        }
      ]
    },
    {
      "cell_type": "markdown",
      "metadata": {
        "id": "zXPj_Zgo68ly"
      },
      "source": [
        "**Pure python function**"
      ]
    },
    {
      "cell_type": "code",
      "metadata": {
        "id": "fMZlLM6TjLra"
      },
      "source": [
        "def analytique_pure(d,iteration,alphai,betaj,C0,invJTdLmada,KalphaBitha):\r\n",
        "  iteration=0\r\n",
        "  for alpha1 in range(0,d+1):\r\n",
        "    for beta1 in range(0,d+1):\r\n",
        "      for alpha2 in range(0,d-alpha1+1):\r\n",
        "        for beta2 in range(0,d-beta1+1):\r\n",
        "          sum=0\r\n",
        "          for i in range(0,3):\r\n",
        "            alphai[0]=alpha1\r\n",
        "            alphai[1]=alpha2\r\n",
        "            alphai[2]=d-alpha1-alpha2\r\n",
        "            alphai[i]=alphai[i]-1\r\n",
        "            for j in range(0,3):\r\n",
        "              betaj[1]=beta2\r\n",
        "              betaj[2]=d-beta1-beta2\r\n",
        "              betaj[0]=beta1\r\n",
        "              betaj[j]=betaj[j]-1\r\n",
        "              if alphai[0] >=0  and betaj[0] >=0  and alphai[1] >=0  and betaj[1] >=0 and alphai[2] >=0  and betaj[2] >=0 :\r\n",
        "                c=C0[int(betaj[0]+alphai[0]),int(alphai[0])]/C0[d-1+d-1,d-1]\r\n",
        "                c=c*C0[int(betaj[1]+alphai[1]),int(alphai[1])]\r\n",
        "                Cij=c*C0[int(betaj[2]+alphai[2]),int(alphai[2])]\r\n",
        "                sum=sum+invJTdLmada[i,j]*(0.5/C0[2*(d-1)+2,2])*Cij  \r\n",
        "          KalphaBitha[iteration]=(d**2)*sum\r\n",
        "          iteration=iteration+1\r\n",
        "  return 0          \r\n",
        "\r\n",
        " "
      ],
      "execution_count": 124,
      "outputs": []
    },
    {
      "cell_type": "markdown",
      "metadata": {
        "id": "H-xRgKSp7ET4"
      },
      "source": [
        "*test*"
      ]
    },
    {
      "cell_type": "code",
      "metadata": {
        "colab": {
          "base_uri": "https://localhost:8080/"
        },
        "id": "-2feK34SjL19",
        "outputId": "f172b65e-df9f-46d6-c395-d3ef6189d803"
      },
      "source": [
        "p=2\r\n",
        "C0=sp.diag(sp.ones(600))\r\n",
        "C0[:,0]=sp.ones(600)\r\n",
        "for n in range(1,600):                        # Formule de pascal\r\n",
        "     for m in range(1,n+1):\r\n",
        "        C0[n,m]= C0[n-1,m-1]+C0[n-1,m]\r\n",
        "JT=sp.eye(2)\r\n",
        "iteration=0\r\n",
        "ind=int(C0[p+2,2]**2)\r\n",
        "KalphaBitha=np.zeros(ind)\r\n",
        "alphai=np.zeros(3)\r\n",
        "betaj=np.zeros(3)\r\n",
        "Dlampda=np.array([[1,0],[0,1],[-1,-1]])                      # Dérivés des coordonnées barycentriques\r\n",
        "invJTdLmada=np.zeros((3,3))\r\n",
        "for i in range(3):\r\n",
        "  for j in range(3):\r\n",
        "    invJTdLmada[i,j]=sp.sum(Dlampda[i]*Dlampda[j])\r\n",
        "\r\n",
        "analytique_pure(p,iteration,alphai,betaj,C0,invJTdLmada,KalphaBitha)\r\n",
        "print(KalphaBitha)"
      ],
      "execution_count": 125,
      "outputs": [
        {
          "output_type": "stream",
          "text": [
            "[ 0.66666667  0.         -0.16666667  0.          0.66666667 -0.16666667\n",
            " -0.16666667 -0.16666667  0.33333333  0.         -0.33333333  0.\n",
            " -0.33333333 -0.16666667  0.16666667 -0.16666667 -0.16666667  0.\n",
            "  0.          0.         -0.16666667 -0.33333333 -0.33333333  0.16666667\n",
            "  0.66666667 -0.33333333 -0.33333333  0.66666667 -0.16666667  0.16666667\n",
            " -0.16666667 -0.16666667  0.         -0.16666667  0.16666667  0.33333333]\n"
          ],
          "name": "stdout"
        },
        {
          "output_type": "stream",
          "text": [
            "/usr/local/lib/python3.6/dist-packages/ipykernel_launcher.py:2: DeprecationWarning: scipy.ones is deprecated and will be removed in SciPy 2.0.0, use numpy.ones instead\n",
            "  \n",
            "/usr/local/lib/python3.6/dist-packages/ipykernel_launcher.py:2: DeprecationWarning: scipy.diag is deprecated and will be removed in SciPy 2.0.0, use numpy.diag instead\n",
            "  \n",
            "/usr/local/lib/python3.6/dist-packages/ipykernel_launcher.py:3: DeprecationWarning: scipy.ones is deprecated and will be removed in SciPy 2.0.0, use numpy.ones instead\n",
            "  This is separate from the ipykernel package so we can avoid doing imports until\n",
            "/usr/local/lib/python3.6/dist-packages/ipykernel_launcher.py:7: DeprecationWarning: scipy.eye is deprecated and will be removed in SciPy 2.0.0, use numpy.eye instead\n",
            "  import sys\n",
            "/usr/local/lib/python3.6/dist-packages/ipykernel_launcher.py:17: DeprecationWarning: scipy.sum is deprecated and will be removed in SciPy 2.0.0, use numpy.sum instead\n"
          ],
          "name": "stderr"
        }
      ]
    },
    {
      "cell_type": "markdown",
      "metadata": {
        "id": "r56Oe3oU7KXo"
      },
      "source": [
        "**Pyccel accelerator**"
      ]
    },
    {
      "cell_type": "code",
      "metadata": {
        "id": "EE6vp-UwjL9E"
      },
      "source": [
        "@types('int','int','float[:]','float[:]','float[:,:]','float[:,:]','float[:]')\r\n",
        "def analytique_pyccel(d,iteration,alphai,betaj,C0,invJTdLmada,KalphaBitha):\r\n",
        "  iteration=0\r\n",
        "  for alpha1 in range(0,d+1):\r\n",
        "    for beta1 in range(0,d+1):\r\n",
        "      for alpha2 in range(0,d-alpha1+1):\r\n",
        "        for beta2 in range(0,d-beta1+1):\r\n",
        "          sum=0.\r\n",
        "          for i in range(0,3):\r\n",
        "            alphai[0]=alpha1\r\n",
        "            alphai[1]=alpha2\r\n",
        "            alphai[2]=d-alpha1-alpha2\r\n",
        "            alphai[i]=alphai[i]-1\r\n",
        "            for j in range(0,3):\r\n",
        "              betaj[1]=beta2\r\n",
        "              betaj[2]=d-beta1-beta2\r\n",
        "              betaj[0]=beta1\r\n",
        "              betaj[j]=betaj[j]-1\r\n",
        "              if alphai[0] >=0  and betaj[0] >=0  and alphai[1] >=0  and betaj[1] >=0 and alphai[2] >=0  and betaj[2] >=0 :\r\n",
        "                c=C0[int(betaj[0]+alphai[0]),int(alphai[0])]/C0[d-1+d-1,d-1]\r\n",
        "                c=c*C0[int(betaj[1]+alphai[1]),int(alphai[1])]\r\n",
        "                Cij=c*C0[int(betaj[2]+alphai[2]),int(alphai[2])]\r\n",
        "                sum=sum+invJTdLmada[i,j]*(0.5/C0[2*(d-1)+2,2])*Cij  \r\n",
        "          KalphaBitha[iteration]=(d**2)*sum\r\n",
        "          iteration=iteration+1\r\n",
        "  return 0       "
      ],
      "execution_count": 126,
      "outputs": []
    },
    {
      "cell_type": "code",
      "metadata": {
        "id": "GInZe66g4xcg"
      },
      "source": [
        "analytique=epyccel(analytique_pyccel)"
      ],
      "execution_count": 127,
      "outputs": []
    },
    {
      "cell_type": "markdown",
      "metadata": {
        "id": "fum7AiUp7XhP"
      },
      "source": [
        "**Numba accelerator**"
      ]
    },
    {
      "cell_type": "code",
      "metadata": {
        "id": "NiEQ6Re1jMHh"
      },
      "source": [
        "@njit\r\n",
        "def analytique_numba(d,iteration,alphai,betaj,C0,invJTdLmada,KalphaBitha):\r\n",
        "  iteration=0\r\n",
        "  for alpha1 in range(0,d+1):\r\n",
        "    for beta1 in range(0,d+1):\r\n",
        "      for alpha2 in range(0,d-alpha1+1):\r\n",
        "        for beta2 in range(0,d-beta1+1):\r\n",
        "          sum=0.\r\n",
        "          for i in range(0,3):\r\n",
        "            alphai[0]=alpha1\r\n",
        "            alphai[1]=alpha2\r\n",
        "            alphai[2]=d-alpha1-alpha2\r\n",
        "            alphai[i]=alphai[i]-1\r\n",
        "            for j in range(0,3):\r\n",
        "              betaj[1]=beta2\r\n",
        "              betaj[2]=d-beta1-beta2\r\n",
        "              betaj[0]=beta1\r\n",
        "              betaj[j]=betaj[j]-1\r\n",
        "              if alphai[0] >=0  and betaj[0] >=0  and alphai[1] >=0  and betaj[1] >=0 and alphai[2] >=0  and betaj[2] >=0 :\r\n",
        "                c=C0[int(betaj[0]+alphai[0]),int(alphai[0])]/C0[d-1+d-1,d-1]\r\n",
        "                c=c*C0[int(betaj[1]+alphai[1]),int(alphai[1])]\r\n",
        "                Cij=c*C0[int(betaj[2]+alphai[2]),int(alphai[2])]\r\n",
        "                sum=sum+invJTdLmada[i,j]*(0.5/C0[2*(d-1)+2,2])*Cij  \r\n",
        "          KalphaBitha[iteration]=(d**2)*sum\r\n",
        "          iteration=iteration+1\r\n",
        "  return 0       "
      ],
      "execution_count": 128,
      "outputs": []
    },
    {
      "cell_type": "markdown",
      "metadata": {
        "id": "TIzmrNTh7iBt"
      },
      "source": [
        "**Inputs**"
      ]
    },
    {
      "cell_type": "code",
      "metadata": {
        "colab": {
          "base_uri": "https://localhost:8080/"
        },
        "id": "Of5D1XVEjMOo",
        "outputId": "4a5ceb3f-4679-4508-a685-64d8708a86bd"
      },
      "source": [
        "C0=sp.diag(sp.ones(600))\r\n",
        "C0[:,0]=sp.ones(600)\r\n",
        "for n in range(1,600):                        # Formule de pascal\r\n",
        "     for m in range(1,n+1):\r\n",
        "        C0[n,m]= C0[n-1,m-1]+C0[n-1,m]\r\n",
        "\r\n",
        "JT=sp.eye(2)\r\n",
        "\r\n",
        "alphai=np.zeros(3)\r\n",
        "betaj=np.zeros(3)\r\n",
        "Dlampda=np.array([[1,0],[0,1],[-1,-1]])\r\n",
        "invJTdLmada=np.zeros((3,3))\r\n",
        "for i in range(3):\r\n",
        "  for j in range(3):\r\n",
        "    invJTdLmada[i,j]=sp.sum(Dlampda[i]*Dlampda[j])\r\n"
      ],
      "execution_count": 129,
      "outputs": [
        {
          "output_type": "stream",
          "text": [
            "/usr/local/lib/python3.6/dist-packages/ipykernel_launcher.py:1: DeprecationWarning: scipy.ones is deprecated and will be removed in SciPy 2.0.0, use numpy.ones instead\n",
            "  \"\"\"Entry point for launching an IPython kernel.\n",
            "/usr/local/lib/python3.6/dist-packages/ipykernel_launcher.py:1: DeprecationWarning: scipy.diag is deprecated and will be removed in SciPy 2.0.0, use numpy.diag instead\n",
            "  \"\"\"Entry point for launching an IPython kernel.\n",
            "/usr/local/lib/python3.6/dist-packages/ipykernel_launcher.py:2: DeprecationWarning: scipy.ones is deprecated and will be removed in SciPy 2.0.0, use numpy.ones instead\n",
            "  \n",
            "/usr/local/lib/python3.6/dist-packages/ipykernel_launcher.py:7: DeprecationWarning: scipy.eye is deprecated and will be removed in SciPy 2.0.0, use numpy.eye instead\n",
            "  import sys\n",
            "/usr/local/lib/python3.6/dist-packages/ipykernel_launcher.py:15: DeprecationWarning: scipy.sum is deprecated and will be removed in SciPy 2.0.0, use numpy.sum instead\n",
            "  from ipykernel import kernelapp as app\n"
          ],
          "name": "stderr"
        }
      ]
    },
    {
      "cell_type": "code",
      "metadata": {
        "id": "-DIgzCWP5uVG"
      },
      "source": [
        "degremax=100"
      ],
      "execution_count": 143,
      "outputs": []
    },
    {
      "cell_type": "markdown",
      "metadata": {
        "id": "hAMioj-e8uRL"
      },
      "source": [
        "**time for pure function**"
      ]
    },
    {
      "cell_type": "code",
      "metadata": {
        "id": "BUjXFpkt591p"
      },
      "source": [
        "temCPUpur=[]                                               \r\n",
        "degre=[]\r\n",
        "for i in range(1,degremax+1):\r\n",
        "  degre.append(i)\r\n",
        "  alphai=np.zeros(3)\r\n",
        "  betaj=np.zeros(3)\r\n",
        "  iteration=0\r\n",
        "  ind=int(C0[i+2,2]**2)\r\n",
        "  KalphaBitha=np.zeros(ind)\r\n",
        "  t1= process_time()\r\n",
        "  analytique_pure(i,iteration,alphai,betaj,C0,invJTdLmada,KalphaBitha)\r\n",
        "  t2= process_time()\r\n",
        "  temCPUpur.append(t2-t1)"
      ],
      "execution_count": 142,
      "outputs": []
    },
    {
      "cell_type": "markdown",
      "metadata": {
        "id": "jtOEtjLy84LZ"
      },
      "source": [
        "**Time for function with numba accelerator**"
      ]
    },
    {
      "cell_type": "code",
      "metadata": {
        "id": "l8MslrBq59p8"
      },
      "source": [
        "temCPUnumba=[]\r\n",
        "degre=[]\r\n",
        "for i in range(1,degremax+1):\r\n",
        "  degre.append(i)\r\n",
        "  ind=int(C0[i+2,2]**2)\r\n",
        "  KalphaBitha=np.zeros(ind)\r\n",
        "  alphai=np.zeros(3)\r\n",
        "  betaj=np.zeros(3)\r\n",
        "  t1n= process_time()\r\n",
        "  analytique_numba(i,iteration,alphai,betaj,C0,invJTdLmada,KalphaBitha)  \r\n",
        "  t2n= process_time()\r\n",
        "  temCPUnumba.append(t2n-t1n)"
      ],
      "execution_count": 134,
      "outputs": []
    },
    {
      "cell_type": "markdown",
      "metadata": {
        "id": "xCRLyKL29CoK"
      },
      "source": [
        "**Time for function with pyccel accelerator**"
      ]
    },
    {
      "cell_type": "code",
      "metadata": {
        "id": "KwIskXY059nL"
      },
      "source": [
        "temCPUpyccel=[]\r\n",
        "degre=[]\r\n",
        "for i in range(1,degremax+1):\r\n",
        "  degre.append(i)\r\n",
        "  ind=int(C0[i+2,2]**2)\r\n",
        "  KalphaBitha=np.zeros(ind)\r\n",
        "  alphai=np.zeros(3)\r\n",
        "  betaj=np.zeros(3)\r\n",
        "  t1P= process_time()\r\n",
        "  analytique(i,iteration,alphai,betaj,C0,invJTdLmada,KalphaBitha)\r\n",
        "  t2P= process_time()\r\n",
        "  temCPUpyccel.append(t2P-t1P)"
      ],
      "execution_count": 135,
      "outputs": []
    },
    {
      "cell_type": "markdown",
      "metadata": {
        "id": "v5l9c0Jh-W-_"
      },
      "source": [
        "**Plots**"
      ]
    },
    {
      "cell_type": "code",
      "metadata": {
        "colab": {
          "base_uri": "https://localhost:8080/",
          "height": 299
        },
        "id": "rHblAVUu59iV",
        "outputId": "933198e0-4689-4db9-96d4-b6be9ceca565"
      },
      "source": [
        "ax = pl.axes(xscale='log', yscale='log')\r\n",
        "pl.plot(degre,temCPUpur,label='Analytique pure')\r\n",
        "pl.grid()\r\n",
        "pl.title(\"Temps de calcul de matrice de rigidité \")\r\n",
        "pl.xlabel(\" degre d\")\r\n",
        "pl.ylabel(\"temps CPU\")\r\n",
        "Degre=np.array(degre)\r\n",
        "cst=1.8*(10**(-5))\r\n",
        "Z=cst*(Degre**4)\r\n",
        "pl.plot(degre,Z,'r--',label='$d^4$')\r\n",
        "pl.legend()\r\n",
        "pl.grid()\r\n",
        "pl.show()"
      ],
      "execution_count": 145,
      "outputs": [
        {
          "output_type": "display_data",
          "data": {
            "image/png": "[encoded data removed]",
            "text/plain": [
              "<Figure size 432x288 with 1 Axes>"
            ]
          },
          "metadata": {
            "tags": [],
            "needs_background": "light"
          }
        }
      ]
    },
    {
      "cell_type": "code",
      "metadata": {
        "colab": {
          "base_uri": "https://localhost:8080/",
          "height": 299
        },
        "id": "CHbq-zE659d-",
        "outputId": "9c6439dd-699c-40d3-c9a8-8a3818f3038a"
      },
      "source": [
        "ax = pl.axes(xscale='log', yscale='log')\r\n",
        "pl.plot(degre,temCPUpyccel,label='Analytique avec Pyccel')\r\n",
        "pl.grid()\r\n",
        "pl.title(\"Temps de calcul de matrice de rigidité avec Pyccel\")\r\n",
        "pl.xlabel(\" degre d\")\r\n",
        "pl.ylabel(\"temps CPU\")\r\n",
        "Degre=np.array(degre)\r\n",
        "cst=1.1*(10**(-8))\r\n",
        "Z=cst*(Degre**4)\r\n",
        "pl.plot(degre,Z,'r--',label='$d^4$')\r\n",
        "pl.legend()\r\n",
        "pl.grid()\r\n",
        "pl.show()"
      ],
      "execution_count": 136,
      "outputs": [
        {
          "output_type": "display_data",
          "data": {
            "image/png": "[encoded data removed]",
            "text/plain": [
              "<Figure size 432x288 with 1 Axes>"
            ]
          },
          "metadata": {
            "tags": [],
            "needs_background": "light"
          }
        }
      ]
    },
    {
      "cell_type": "code",
      "metadata": {
        "colab": {
          "base_uri": "https://localhost:8080/",
          "height": 299
        },
        "id": "vMWy5GKI59Xa",
        "outputId": "82b5b543-0990-4fd5-edda-d27b17e096d0"
      },
      "source": [
        "ax = pl.axes(xscale='log', yscale='log')\r\n",
        "pl.plot(degre,temCPUnumba,label='Analytique avec numba')\r\n",
        "pl.grid()\r\n",
        "pl.title(\"Temps de calcul de matrice de rigidité avec numba\")\r\n",
        "pl.xlabel(\" degre d\")\r\n",
        "pl.ylabel(\"temps CPU\")\r\n",
        "Degre=np.array(degre)\r\n",
        "cst=1.7*(10**(-8))\r\n",
        "Z=cst*(Degre**4)\r\n",
        "pl.plot(degre,Z,'r--',label='$d^4$')\r\n",
        "pl.legend()\r\n",
        "pl.grid()\r\n",
        "pl.show()"
      ],
      "execution_count": 138,
      "outputs": [
        {
          "output_type": "display_data",
          "data": {
            "image/png": "[encoded data removed]",
            "text/plain": [
              "<Figure size 432x288 with 1 Axes>"
            ]
          },
          "metadata": {
            "tags": [],
            "needs_background": "light"
          }
        }
      ]
    },
    {
      "cell_type": "code",
      "metadata": {
        "colab": {
          "base_uri": "https://localhost:8080/",
          "height": 299
        },
        "id": "1iHGq7R159M1",
        "outputId": "5c631a22-5310-4443-a089-0a8bdd0dc550"
      },
      "source": [
        "ax = pl.axes(xscale='log', yscale='log')\r\n",
        "pl.plot(degre,temCPUnumba,label='Analytique avec numba')\r\n",
        "pl.plot(degre,temCPUpyccel,label='Analytique avec Pyccel')\r\n",
        "#pl.plot(degre,temCPUpur,label='Analytique pure')\r\n",
        "pl.grid()\r\n",
        "pl.title(\"Temps de calcul de matrice de rigidité avec numba et pyccel \")\r\n",
        "pl.xlabel(\" degre d\")\r\n",
        "pl.ylabel(\"temps CPU\")\r\n",
        "Degre=np.array(degre)\r\n",
        "cst=3.1*(10**(-10))\r\n",
        "Z=cst*(Degre**4)\r\n",
        "#pl.plot(degre,Z,'r--',label='$d^4$')\r\n",
        "pl.legend()\r\n",
        "pl.grid()\r\n",
        "pl.show()"
      ],
      "execution_count": 140,
      "outputs": [
        {
          "output_type": "display_data",
          "data": {
            "image/png": "[encoded data removed]",
            "text/plain": [
              "<Figure size 432x288 with 1 Axes>"
            ]
          },
          "metadata": {
            "tags": [],
            "needs_background": "light"
          }
        }
      ]
    }
  ]
}