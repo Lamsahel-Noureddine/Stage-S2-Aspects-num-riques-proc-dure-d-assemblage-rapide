{
  "nbformat": 4,
  "nbformat_minor": 0,
  "metadata": {
    "colab": {
      "name": "methodeFactorisation_matriceMasse.ipynb",
      "provenance": []
    },
    "kernelspec": {
      "display_name": "Python 3",
      "name": "python3"
    }
  },
  "cells": [
    {
      "cell_type": "markdown",
      "metadata": {
        "id": "En8DTa3PaUbA"
      },
      "source": [
        "**Imports**"
      ]
    },
    {
      "cell_type": "code",
      "metadata": {
        "id": "zk2IBlL0lbkz"
      },
      "source": [
        "!pip install pyccel\n",
        "!pip install numba\n",
        "import numpy as np\n",
        "import scipy as sp\n",
        "from scipy import special as ss\n",
        "import scipy.linalg as lg\n",
        "import matplotlib.pyplot as pl\n",
        "\n",
        "import time\n",
        "from time import process_time\n",
        "\n",
        "\n",
        "from numba import njit\n",
        "from pyccel.epyccel import epyccel\n",
        "from pyccel.decorators import types,pure\n"
      ],
      "execution_count": null,
      "outputs": []
    },
    {
      "cell_type": "markdown",
      "metadata": {
        "id": "Vh72ejfnxnUh"
      },
      "source": [
        "*transformation functions*"
      ]
    },
    {
      "cell_type": "code",
      "metadata": {
        "id": "9HulOXmClRXY"
      },
      "source": [
        "\r\n",
        "def JT(x):\r\n",
        "  return sp.array([[1,2],[-1,0]])                          #Jacobien de FT\r\n",
        "  \r\n",
        "  \r\n",
        "  \r\n",
        "def F(x):\r\n",
        "  return sp.array([x[0],(1-x[0])*x[1]])                    #Transformation de Duffy"
      ],
      "execution_count": 65,
      "outputs": []
    },
    {
      "cell_type": "markdown",
      "metadata": {
        "id": "KkO21cF2afNt"
      },
      "source": [
        "**Pure python function**"
      ]
    },
    {
      "cell_type": "code",
      "metadata": {
        "id": "OP4JbSZtqcFV"
      },
      "source": [
        "def factorisation_pure(d,iteration,B0,B1,w0,w1,malphaBihaApp,grs):\r\n",
        "  iteration=0\r\n",
        "  q=d+1\r\n",
        "  for alpha1 in range(0,d+1):\r\n",
        "    for bita1 in range(0,d+1):\r\n",
        "      c=0.\r\n",
        "      for r in range(0,q):\r\n",
        "        c=c+(grs*w1[r]*B1[r,alpha1]*B1[r,bita1])\r\n",
        "      for alpha2 in range(0,d-alpha1+1):\r\n",
        "        for bita2 in range(0,d-bita1+1):\r\n",
        "          cMalphaBihaApp=0.\r\n",
        "          for s in range(0,q):\r\n",
        "            cMalphaBihaApp = cMalphaBihaApp+c*w0[s]*B0[s,d-alpha1,alpha2]*B0[s,d-bita1,bita2]\r\n",
        "          malphaBihaApp[iteration]=((0.5)**3)*cMalphaBihaApp \r\n",
        "          iteration=iteration+1 \r\n",
        "    \r\n",
        "\r\n",
        "  return 0"
      ],
      "execution_count": 66,
      "outputs": []
    },
    {
      "cell_type": "markdown",
      "metadata": {
        "id": "AANBIdXSao5t"
      },
      "source": [
        "**Numba accelerator**"
      ]
    },
    {
      "cell_type": "code",
      "metadata": {
        "id": "4IEPDY4Pl1Sc"
      },
      "source": [
        "@njit\n",
        "def factorisation_numba(d,iteration,B0,w0,B1,w1,malphaBihaApp,grs):\n",
        "  iteration=0\n",
        "  q=d+1\n",
        "  for alpha1 in range(0,d+1):\n",
        "    for bita1 in range(0,d+1):\n",
        "      c=0.\n",
        "      for r in range(0,q):\n",
        "        c=c+(grs*w1[r]*B1[r,alpha1]*B1[r,bita1])\n",
        "      for alpha2 in range(0,d-alpha1+1):\n",
        "        for bita2 in range(0,d-bita1+1):\n",
        "          cMalphaBihaApp=0.\n",
        "          for s in range(0,q):\n",
        "            cMalphaBihaApp = cMalphaBihaApp+c*w0[s]*B0[s,d-alpha1,alpha2]*B0[s,d-bita1,bita2]\n",
        "          malphaBihaApp[iteration]=((0.5)**3)*cMalphaBihaApp \n",
        "          iteration=iteration+1 \n",
        "    \n",
        "\n",
        "  return 0"
      ],
      "execution_count": 67,
      "outputs": []
    },
    {
      "cell_type": "markdown",
      "metadata": {
        "id": "-Hzp36sha3R9"
      },
      "source": [
        "**Pyccel accelerator**"
      ]
    },
    {
      "cell_type": "code",
      "metadata": {
        "id": "ZfJjPpDNuNyw"
      },
      "source": [
        "@types('int','int','float[:,:,:]','float[:]','float[:,:]','float[:]','float[:]','float')\n",
        "def factorisation_pyccel(d,iteration,B0,w0,B1,w1,malphaBihaApp,grs):\n",
        "  iteration=0\n",
        "  q=d+1\n",
        "  for alpha1 in range(0,d+1):\n",
        "    for bita1 in range(0,d+1):\n",
        "      c=0.\n",
        "      for r in range(0,q):\n",
        "        c=c+(grs*w1[r]*B1[r,alpha1]*B1[r,bita1])\n",
        "      for alpha2 in range(0,d-alpha1+1):\n",
        "        for bita2 in range(0,d-bita1+1):\n",
        "          cMalphaBihaApp=0.\n",
        "          for s in range(0,q):\n",
        "            cMalphaBihaApp = cMalphaBihaApp+c*w0[s]*B0[s,d-alpha1,alpha2]*B0[s,d-bita1,bita2]\n",
        "          malphaBihaApp[iteration]=((0.5)**3)*cMalphaBihaApp \n",
        "          iteration=iteration+1 \n",
        "    \n",
        "\n",
        "  return 0\n"
      ],
      "execution_count": 68,
      "outputs": []
    },
    {
      "cell_type": "markdown",
      "metadata": {
        "id": "gz24qTsjbBAd"
      },
      "source": [
        "**Epyccel function**"
      ]
    },
    {
      "cell_type": "code",
      "metadata": {
        "id": "LN3Y7zHcmY9Z"
      },
      "source": [
        "factorisation=epyccel(factorisation_pyccel,language='fortran')"
      ],
      "execution_count": 69,
      "outputs": []
    },
    {
      "cell_type": "markdown",
      "metadata": {
        "id": "i8oepw78yTou"
      },
      "source": [
        "**Bernstein's function**"
      ]
    },
    {
      "cell_type": "code",
      "metadata": {
        "colab": {
          "base_uri": "https://localhost:8080/"
        },
        "id": "DcLxsH3VEKD5",
        "outputId": "1e63fbe4-0448-4751-8567-4cb735794ece"
      },
      "source": [
        "########################################## B[s,n,k] avec n entre 0 et degre pmax, k entre 0 et n ##################################################\r\n",
        "C0=sp.diag(sp.ones(500))\r\n",
        "C0[:,0]=sp.ones(500)\r\n",
        "for n in range(1,500):                                   # Formule de pascal\r\n",
        "     for m in range(1,n+1):\r\n",
        "        C0[n,m]= C0[n-1,m-1]+C0[n-1,m] \r\n",
        "p=100\r\n",
        "q=p+1\r\n",
        "t0,w0=ss.roots_jacobi(q,0,0)  \r\n",
        "ita0=(1/2)+0.5*t0\r\n",
        "##########################################  analytique ############################\r\n",
        "B=np.zeros((q,q,q))\r\n",
        "star_temp1=process_time()\r\n",
        "for s in range(q):\r\n",
        "  x=ita0[s]\r\n",
        "  for n in range(q):\r\n",
        "    for k in range(n+1):\r\n",
        "      B[s,n,k]=C0[n,k]*((1-x)**(n-k))*(x**k)\r\n",
        "end_temp1=process_time()\r\n",
        "##########################################  methode iterative #############################\r\n",
        "B=np.zeros((q,q,q))\r\n",
        "star_temp2=process_time()\r\n",
        "for s in range(q):\r\n",
        "  x=ita0[s]\r\n",
        "  B[s,0,0]=1\r\n",
        "  for n in range(1,q):\r\n",
        "    B[s,n,0]=(1-x)*B[s,n-1,0]\r\n",
        "    for k in range(1,n+1):\r\n",
        "      B[s,n,k]=x*B[s,n-1,k-1]+(1-x)*B[s,n-1,k]\r\n",
        "end_temp2=process_time()  \r\n",
        "\r\n",
        "\r\n",
        "########################################## all_bernstein   #############################\r\n",
        "B=np.zeros((q,q,q))\r\n",
        "star_temp6=process_time()\r\n",
        "for s in range(q):\r\n",
        "  x=ita0[s]\r\n",
        "  for n in range(q):\r\n",
        "    b = np.zeros(q)\r\n",
        "    b[0] = 1.\r\n",
        "    x1 = 1.-x\r\n",
        "    for j in range(1, n+1):\r\n",
        "      saved = 0.\r\n",
        "      for i in range(0, j):\r\n",
        "        tmp = b[i]\r\n",
        "        b[i] = saved + x1*tmp\r\n",
        "        saved = x*tmp\r\n",
        "      b[j] = saved \r\n",
        "    B[s,n,:]=b  \r\n",
        "end_temp6=process_time()  \r\n",
        "\r\n",
        "\r\n",
        "\r\n",
        "print('temps calcul analytique de B : ',end_temp1-star_temp1)\r\n",
        "print('temps calcul itérative de B:  ',end_temp2-star_temp2)\r\n",
        "print('temps calcul all_bernstein  B: ',end_temp6-star_temp6)\r\n",
        "print('///////////////////// ////////////////////////////////////////////////////////////////////////\\n')\r\n",
        "########################################## B[s,k] avec  et k entre 0 et p ####################################################################\r\n",
        "t1,w1=ss.roots_jacobi(q,1,0)  \r\n",
        "ita1=(1/2)+0.5*t1\r\n",
        "##########################################  analytique ############################\r\n",
        "Bfix=np.zeros((q,q))\r\n",
        "star_temp3=process_time()\r\n",
        "for s in range(q):\r\n",
        "  x=ita1[s]\r\n",
        "  for k in range(q):\r\n",
        "    Bfix[s,k]=C0[n,k]*((1-x)**(n-k))*(x**k)\r\n",
        "end_temp3=process_time()\r\n",
        "##########################################  methode iterative #############################\r\n",
        "Bfix=np.zeros((q,q))\r\n",
        "star_temp4=process_time()\r\n",
        "for s in range(q):\r\n",
        "  x=ita1[s]\r\n",
        "  Bfix[s,0]=(1-x)**p\r\n",
        "  for k in range(1,q):\r\n",
        "    Bfix[s,k]=(x/(1-x))*((p-k+1)/k)*Bfix[s,k-1]\r\n",
        "end_temp4=process_time() \r\n",
        "\r\n",
        "########################################## all_bernstein   #############################\r\n",
        "Bfix=np.zeros((q,q))\r\n",
        "star_temp5=process_time()\r\n",
        "for s in range(q):\r\n",
        "  x=ita1[s]\r\n",
        "  b = np.zeros(q)\r\n",
        "  b[0] = 1.\r\n",
        "  x1 = 1.-x\r\n",
        "  for j in range(1, q):\r\n",
        "    saved = 0.\r\n",
        "    for i in range(0, j):\r\n",
        "      tmp = b[i]\r\n",
        "      b[i] = saved + x1*tmp\r\n",
        "      saved = x*tmp\r\n",
        "    b[j] = saved\r\n",
        "  Bfix[s,:]=b  \r\n",
        "end_temp5=process_time() \r\n",
        "     \r\n",
        "print('temps calcul analytique Bfix: ',end_temp3-star_temp3)\r\n",
        "print('temps calcul itérative Bfix: ',end_temp4-star_temp4)\r\n",
        "print('temps calcul all_bernstein  Bfix: ',end_temp5-star_temp5)"
      ],
      "execution_count": 72,
      "outputs": [
        {
          "output_type": "stream",
          "text": [
            "/usr/local/lib/python3.6/dist-packages/ipykernel_launcher.py:2: DeprecationWarning: scipy.ones is deprecated and will be removed in SciPy 2.0.0, use numpy.ones instead\n",
            "  \n",
            "/usr/local/lib/python3.6/dist-packages/ipykernel_launcher.py:2: DeprecationWarning: scipy.diag is deprecated and will be removed in SciPy 2.0.0, use numpy.diag instead\n",
            "  \n",
            "/usr/local/lib/python3.6/dist-packages/ipykernel_launcher.py:3: DeprecationWarning: scipy.ones is deprecated and will be removed in SciPy 2.0.0, use numpy.ones instead\n",
            "  This is separate from the ipykernel package so we can avoid doing imports until\n"
          ],
          "name": "stderr"
        },
        {
          "output_type": "stream",
          "text": [
            "temps calcul analytique de B :  0.9657749840000065\n",
            "temps calcul itérative de B:   0.6931942809999896\n",
            "temps calcul all_bernstein  B:  12.637057869000046\n",
            "///////////////////// ////////////////////////////////////////////////////////////////////////\n",
            "\n",
            "temps calcul analytique Bfix:  0.018779289000008248\n",
            "temps calcul itérative Bfix:  0.013169989000004989\n",
            "temps calcul all_bernstein  Bfix:  0.3619967939999924\n"
          ],
          "name": "stdout"
        }
      ]
    },
    {
      "cell_type": "markdown",
      "metadata": {
        "id": "tDQ3_7fAbDSk"
      },
      "source": [
        "**Inputs**"
      ]
    },
    {
      "cell_type": "code",
      "metadata": {
        "id": "f06JtxUlbKXP"
      },
      "source": [
        "\r\n",
        "iteration=0\r\n",
        "\r\n",
        "itars=sp.array([0,0])\r\n",
        "zetars=F(itars)\r\n",
        "grs=lg.det(JT(zetars))\r\n",
        "\r\n",
        "C0=sp.diag(sp.ones(500))\r\n",
        "C0[:,0]=sp.ones(500)\r\n",
        "for n in range(1,500):                                   # Formule de pascal\r\n",
        "     for m in range(1,n+1):\r\n",
        "        C0[n,m]= C0[n-1,m-1]+C0[n-1,m] "
      ],
      "execution_count": null,
      "outputs": []
    },
    {
      "cell_type": "code",
      "metadata": {
        "id": "gVfscTktuMCe"
      },
      "source": [
        "degremax=100\n",
        "\n",
        "\n"
      ],
      "execution_count": 74,
      "outputs": []
    },
    {
      "cell_type": "markdown",
      "metadata": {
        "id": "jWTVCpHObni6"
      },
      "source": [
        "**Time for function with pyccel accelerator**"
      ]
    },
    {
      "cell_type": "code",
      "metadata": {
        "id": "f_IpqEbq3G80"
      },
      "source": [
        "temCPUpyccelF=[]\n",
        "degre=[]\n",
        "for i in range(1,degremax+1):\n",
        "  degre.append(i)\n",
        "  q=i+1\n",
        "  t0,w0=ss.roots_jacobi(q,0,0)  \n",
        "  ita0=(1/2)+0.5*t0  \n",
        "  t1,w1=ss.roots_jacobi(q,1,0)                   #Méthode de Gauss-Jacobi\n",
        "  ita1=(1/2)+0.5*t1\n",
        "  ind=int(C0[i+2,2]**2)\n",
        "  malphaBihaApp=np.zeros(ind)\n",
        "  B1=np.ones((q,q))\n",
        "  B0=np.ones((q,q,q))\n",
        "  t1P= process_time()\n",
        "  factorisation(i,iteration,B0,w0,B1,w1,malphaBihaApp,grs)\n",
        "  t2P= process_time()\n",
        "  temCPUpyccelF.append(t2P-t1P)\n",
        "\n",
        "  "
      ],
      "execution_count": null,
      "outputs": []
    },
    {
      "cell_type": "markdown",
      "metadata": {
        "id": "l4g0C2ktbvD8"
      },
      "source": [
        "**Time for function with numba accelerator**"
      ]
    },
    {
      "cell_type": "code",
      "metadata": {
        "id": "58fqMzqD3HI-"
      },
      "source": [
        "temCPUnumbaF=[]\r\n",
        "degre=[]\r\n",
        "for i in range(1,degremax+1):\r\n",
        "  degre.append(i)\r\n",
        "  q=i+1\r\n",
        "  t0,w0=ss.roots_jacobi(q,0,0)  \r\n",
        "  ita0=(1/2)+0.5*t0  \r\n",
        "  t1,w1=ss.roots_jacobi(q,1,0)          #Méthode de Gauss-Jacobi\r\n",
        "  ita1=(1/2)+0.5*t1\r\n",
        "  ind=int(C0[i+2,2]**2)\r\n",
        "  malphaBihaApp=np.zeros(ind)\r\n",
        "  B1=np.ones((q,q))\r\n",
        "  B0=np.ones((q,q,q))\r\n",
        "  t1N= process_time()\r\n",
        "  factorisation_numba(i,iteration,B0,w0,B1,w1,malphaBihaApp,grs)\r\n",
        "  t2N= process_time()\r\n",
        "  temCPUnumbaF.append(t2N-t1N)"
      ],
      "execution_count": null,
      "outputs": []
    },
    {
      "cell_type": "markdown",
      "metadata": {
        "id": "uX3DMXuub2TO"
      },
      "source": [
        "**time for pure function**"
      ]
    },
    {
      "cell_type": "code",
      "metadata": {
        "id": "iQuCMF7Ol_Q3"
      },
      "source": [
        "temCPUpureF=[]\r\n",
        "degre=[]\r\n",
        "for i in range(1,degremax+1):\r\n",
        "  degre.append(i)\r\n",
        "  q=i+1\r\n",
        "  t0,w0=ss.roots_jacobi(q,0,0)  \r\n",
        "  ita0=(1/2)+0.5*t0  \r\n",
        "  t1,w1=ss.roots_jacobi(q,1,0)             #Méthode de Gauss-Jacobi\r\n",
        "  ita1=(1/2)+0.5*t1\r\n",
        "  ind=int(C0[i+2,2]**2)\r\n",
        "  malphaBihaApp=np.zeros(ind)\r\n",
        "  B1=np.ones((i+1,q))\r\n",
        "  B0=np.ones((i+1,q,q))\r\n",
        "  '''\r\n",
        "  for s in range(q):\r\n",
        "    x=ita0[s]\r\n",
        "    y=ita1[s]\r\n",
        "    for n in range(q):\r\n",
        "      for k in range(n+1):                                           # the calculation with the analytical formula \r\n",
        "        B0[s,n,k]= C0[n,k]*((1-x)**(n-k))*(x**k)\r\n",
        "      B1[s,n]=C0[i,n]*((1-y)**(i-n))*(y**n)\r\n",
        "   '''\r\n",
        "  t1r= process_time()\r\n",
        "  factorisation_pure(i,iteration,B0,B1,w0,w1,malphaBihaApp,grs)\r\n",
        "  t2r= process_time()\r\n",
        "  temCPUpureF.append(t2r-t1r)\r\n",
        "  print(i)"
      ],
      "execution_count": null,
      "outputs": []
    },
    {
      "cell_type": "markdown",
      "metadata": {
        "id": "whIYCipvb-RI"
      },
      "source": [
        "**Plot**"
      ]
    },
    {
      "cell_type": "markdown",
      "metadata": {
        "id": "P4O36JXhcGQk"
      },
      "source": [
        "**Plot pyccel function**"
      ]
    },
    {
      "cell_type": "code",
      "metadata": {
        "colab": {
          "base_uri": "https://localhost:8080/",
          "height": 299
        },
        "id": "X4owXZR93HTK",
        "outputId": "e8c46d63-c9b9-45bc-ae10-edef9c3ce6bf"
      },
      "source": [
        "ax = pl.axes(xscale='log', yscale='log')\n",
        "pl.plot(degre,temCPUpyccelF,label='Factorisation avec Pyccel')\n",
        "pl.title(\"Temps de calcul de matrice de masse avec Pyccel\")\n",
        "pl.xlabel(\" degre d\")\n",
        "pl.ylabel(\"temps CPU\")\n",
        "Degre=np.array(degre)\n",
        "cst=3.1*(10**(-10))\n",
        "Z=cst*(Degre**5)\n",
        "pl.plot(degre,Z,'r--',label='$d^5$')\n",
        "pl.legend()\n",
        "pl.grid()\n",
        "pl.show() "
      ],
      "execution_count": 78,
      "outputs": [
        {
          "output_type": "display_data",
          "data": {
            "image/png": "[encoded data removed]",
            "text/plain": [
              "<Figure size 432x288 with 1 Axes>"
            ]
          },
          "metadata": {
            "tags": [],
            "needs_background": "light"
          }
        }
      ]
    },
    {
      "cell_type": "markdown",
      "metadata": {
        "id": "MPJraL6KcXQy"
      },
      "source": [
        "**plot numba function**"
      ]
    },
    {
      "cell_type": "code",
      "metadata": {
        "colab": {
          "base_uri": "https://localhost:8080/",
          "height": 299
        },
        "id": "uLYqQbHJhxJj",
        "outputId": "9d74e6e2-c5c4-4b95-8667-9e81df6b0419"
      },
      "source": [
        "ax = pl.axes(xscale='log', yscale='log')\r\n",
        "pl.plot(degre,temCPUnumbaF,label='Factorisation avec numba')\r\n",
        "pl.title(\"Temps de calcul de matrice de masse avec numba\")\r\n",
        "pl.xlabel(\" degre d\")\r\n",
        "pl.ylabel(\"temps CPU\")\r\n",
        "Degre=np.array(degre)\r\n",
        "cst=3.21*(10**(-10))\r\n",
        "Z=cst*(Degre**5)\r\n",
        "pl.plot(degre,Z,'r--',label='$d^5$')\r\n",
        "pl.legend()\r\n",
        "pl.grid()\r\n",
        "pl.show() "
      ],
      "execution_count": 79,
      "outputs": [
        {
          "output_type": "display_data",
          "data": {
            "image/png": "[encoded data removed]",
            "text/plain": [
              "<Figure size 432x288 with 1 Axes>"
            ]
          },
          "metadata": {
            "tags": [],
            "needs_background": "light"
          }
        }
      ]
    },
    {
      "cell_type": "markdown",
      "metadata": {
        "id": "J3H9uq6ecfDX"
      },
      "source": [
        "**Plot pure function**"
      ]
    },
    {
      "cell_type": "code",
      "metadata": {
        "colab": {
          "base_uri": "https://localhost:8080/",
          "height": 299
        },
        "id": "OPFbqamLmSyR",
        "outputId": "3b2f665d-c916-465b-a9ce-846a93a883aa"
      },
      "source": [
        "ax = pl.axes(xscale='log', yscale='log')\r\n",
        "pl.plot(degre,temCPUpureF,label='Factorisation avec pure')\r\n",
        "pl.title(\"Temps de calcul de matrice de masse avec pure\")\r\n",
        "pl.xlabel(\" degre d\")\r\n",
        "pl.ylabel(\"temps CPU\")\r\n",
        "Degre=np.array(degre)\r\n",
        "cst=4.5*(10**(-6))\r\n",
        "Z=cst*(Degre**5)\r\n",
        "pl.plot(degre,Z,'r--',label='$d^5$')\r\n",
        "pl.legend()\r\n",
        "pl.grid()\r\n",
        "pl.show() "
      ],
      "execution_count": 56,
      "outputs": [
        {
          "output_type": "display_data",
          "data": {
            "image/png": "[encoded data removed]",
            "text/plain": [
              "<Figure size 432x288 with 1 Axes>"
            ]
          },
          "metadata": {
            "tags": [],
            "needs_background": "light"
          }
        }
      ]
    },
    {
      "cell_type": "markdown",
      "metadata": {
        "id": "OziHBZwAclR9"
      },
      "source": [
        "**Plot pure, numba and pyccel functions**"
      ]
    },
    {
      "cell_type": "code",
      "metadata": {
        "colab": {
          "base_uri": "https://localhost:8080/",
          "height": 299
        },
        "id": "QRGqSwXXmeel",
        "outputId": "742a4c3a-ebfb-4fc1-eedc-1427bfa0704a"
      },
      "source": [
        "ax = pl.axes(xscale='log', yscale='log')\r\n",
        "#pl.plot(degre,temCPUpureF,label='Factorisation avec pure')\r\n",
        "pl.plot(degre,temCPUnumbaF,label='Factorisation avec numba')\r\n",
        "pl.plot(degre,temCPUpyccelF,label='Factorisation avec Pyccel')\r\n",
        "pl.title(\"Temps de calcul de matrice de masse avec pure, numba et pyccel\")\r\n",
        "pl.xlabel(\" degre d\")\r\n",
        "pl.ylabel(\"temps CPU\")\r\n",
        "Degre=np.array(degre)\r\n",
        "cst=4.5*(10**(-10))\r\n",
        "Z=cst*(Degre**5)\r\n",
        "#pl.plot(degre,Z,'r--',label='$d^5$')\r\n",
        "pl.legend()\r\n",
        "pl.grid()\r\n",
        "pl.show() "
      ],
      "execution_count": 80,
      "outputs": [
        {
          "output_type": "display_data",
          "data": {
            "image/png": "[encoded data removed]",
            "text/plain": [
              "<Figure size 432x288 with 1 Axes>"
            ]
          },
          "metadata": {
            "tags": [],
            "needs_background": "light"
          }
        }
      ]
    }
  ]
}