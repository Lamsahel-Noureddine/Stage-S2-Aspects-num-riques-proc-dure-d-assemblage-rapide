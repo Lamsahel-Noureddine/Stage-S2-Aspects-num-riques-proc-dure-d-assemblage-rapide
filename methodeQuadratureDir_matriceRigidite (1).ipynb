{
  "nbformat": 4,
  "nbformat_minor": 0,
  "metadata": {
    "colab": {
      "name": "methodeQuadratureDir_matriceRigidite.ipynb",
      "provenance": []
    },
    "kernelspec": {
      "name": "python3",
      "display_name": "Python 3"
    }
  },
  "cells": [
    {
      "cell_type": "markdown",
      "metadata": {
        "id": "_B1Vjv7ryIq_"
      },
      "source": [
        "**Imports**"
      ]
    },
    {
      "cell_type": "code",
      "metadata": {
        "id": "F0BhVx_Fsp0-"
      },
      "source": [
        "!pip install pyccel\r\n",
        "!pip install numba\r\n",
        "import numpy as np\r\n",
        "import scipy as sp\r\n",
        "from scipy import special as ss\r\n",
        "import scipy.linalg as lg\r\n",
        "import matplotlib.pyplot as pl\r\n",
        "\r\n",
        "import time\r\n",
        "from time import process_time\r\n",
        "\r\n",
        "\r\n",
        "from numba import njit\r\n",
        "from pyccel.epyccel import epyccel\r\n",
        "from pyccel.decorators import types"
      ],
      "execution_count": null,
      "outputs": []
    },
    {
      "cell_type": "code",
      "metadata": {
        "id": "aIEQWUWftBpL"
      },
      "source": [
        "\r\n",
        "  \r\n",
        "  \r\n",
        "  \r\n",
        "def F(x):\r\n",
        "  return sp.array([x[0],(1-x[0])*x[1]])                    #Transformation de Duffy"
      ],
      "execution_count": 2,
      "outputs": []
    },
    {
      "cell_type": "markdown",
      "metadata": {
        "id": "UfJZubz3yQ_8"
      },
      "source": [
        "**Pure python function**"
      ]
    },
    {
      "cell_type": "code",
      "metadata": {
        "id": "rZGHruwJtBsH"
      },
      "source": [
        "def quadrature_pure(d,iteration,det,B0,B1,w0,w1,alphai,betaj,invJTdLmada,KalphaBitha):\r\n",
        "  iteration=0\r\n",
        "  q=d+1\r\n",
        "  gij=0.\r\n",
        "  for alpha1 in range(0,d+1):\r\n",
        "    for beta1 in range(0,d+1):\r\n",
        "      for alpha2 in range(0,d-alpha1+1):\r\n",
        "        for beta2 in range(0,d-beta1+1):\r\n",
        "          sum=0\r\n",
        "          for i in range(0,3):\r\n",
        "            alphai[0]=alpha1\r\n",
        "            alphai[1]=alpha2\r\n",
        "            alphai[2]=d-alpha1-alpha2\r\n",
        "            alphai[i]=alphai[i]-1\r\n",
        "            for j in range(0,3):\r\n",
        "              betaj[1]=beta2\r\n",
        "              betaj[2]=d-beta1-beta2\r\n",
        "              betaj[0]=beta1\r\n",
        "              betaj[j]=betaj[j]-1\r\n",
        "              if alphai[0] >=0  and betaj[0] >=0  and alphai[1] >=0  and betaj[1] >=0 and alphai[2] >=0  and betaj[2] >=0 :\r\n",
        "                sumsr=0\r\n",
        "                for s in range(0,q):\r\n",
        "                  for r in range(0,q):\r\n",
        "                    gij=det*invJTdLmada[i,j]\r\n",
        "                    sumsr=sumsr+(gij*w1[r]*B1[r,int(alphai[0])]*B1[r,int(betaj[0])]*w0[s]*B0[s,int(d-1-alphai[0]),int(alphai[1])]*B0[s,int(d-1-betaj[0]),int(betaj[1])] )\r\n",
        "                sum=sum+sumsr \r\n",
        "          KalphaBitha[iteration]=((0.5)**3)*(d**2)*sum\r\n",
        "          iteration=iteration+1\r\n",
        "  return 0    "
      ],
      "execution_count": 3,
      "outputs": []
    },
    {
      "cell_type": "markdown",
      "metadata": {
        "id": "gJdWaq6IyXcQ"
      },
      "source": [
        "**test for the pure function**"
      ]
    },
    {
      "cell_type": "code",
      "metadata": {
        "colab": {
          "base_uri": "https://localhost:8080/"
        },
        "id": "yEPi-7zutBvg",
        "outputId": "e3790dc4-5c1e-4cfb-8269-eb9ca446e9f9"
      },
      "source": [
        "p=2\r\n",
        "q=p+1\r\n",
        "t0,w0=ss.roots_jacobi(q,0,0)  \r\n",
        "ita0=(1/2)+0.5*t0  \r\n",
        "t1,w1=ss.roots_jacobi(q,1,0)\r\n",
        "ita1=(1/2)+0.5*t1\r\n",
        "C0=sp.diag(sp.ones(600))\r\n",
        "C0[:,0]=sp.ones(600)\r\n",
        "for n in range(1,600):                        # Formule de pascal\r\n",
        "     for m in range(1,n+1):\r\n",
        "        C0[n,m]= C0[n-1,m-1]+C0[n-1,m]\r\n",
        "JT=sp.eye(2)\r\n",
        "det=lg.det(JT)\r\n",
        "iteration=0\r\n",
        "ind=int(C0[p+2,2]**2)\r\n",
        "KalphaBitha=np.zeros(ind)\r\n",
        "alphai=np.zeros(3)\r\n",
        "betaj=np.zeros(3)\r\n",
        "Dlampda=np.array([[1,0],[0,1],[-1,-1]])                      # Dérivés des coordonnées barycentriques\r\n",
        "invJTdLmada=np.zeros((3,3))\r\n",
        "for i in range(3):\r\n",
        "  for j in range(3):\r\n",
        "    invJTdLmada[i,j]=sp.sum(Dlampda[i]*Dlampda[j])\r\n",
        "    \r\n",
        "B1=np.zeros((q,p)) \r\n",
        "B0=np.zeros((q,p,p))   \r\n",
        "\r\n",
        "for s in range(q):\r\n",
        "  x=ita0[s]\r\n",
        "  for n in range(p):\r\n",
        "    b = np.zeros(p)\r\n",
        "    b[0] = 1.\r\n",
        "    x1 = 1.-x\r\n",
        "    for j in range(1, n+1):\r\n",
        "      saved = 0.\r\n",
        "      for i in range(0, j):\r\n",
        "        tmp = b[i]\r\n",
        "        b[i] = saved + x1*tmp\r\n",
        "        saved = x*tmp\r\n",
        "      b[j] = saved \r\n",
        "    B0[s,n,:]=b                                                      #all_bernstein\r\n",
        "for s in range(q):\r\n",
        "  x=ita1[s]\r\n",
        "  b = np.zeros(p)\r\n",
        "  b[0] = 1.\r\n",
        "  x1 = 1.-x\r\n",
        "  for j in range(1, p):\r\n",
        "    saved = 0.\r\n",
        "    for i in range(0, j):\r\n",
        "      tmp = b[i]\r\n",
        "      b[i] = saved + x1*tmp\r\n",
        "      saved = x*tmp\r\n",
        "    b[j] = saved\r\n",
        "  B1[s,:]=b  \r\n",
        "\r\n",
        "quadrature_pure(p,iteration,det,B0,B1,w0,w1,alphai,betaj,invJTdLmada,KalphaBitha)\r\n",
        "print(KalphaBitha)"
      ],
      "execution_count": 4,
      "outputs": [
        {
          "output_type": "stream",
          "text": [
            "[ 6.66666667e-01 -1.66533454e-16 -1.66666667e-01 -1.66533454e-16\n",
            "  6.66666667e-01 -1.66666667e-01 -1.66666667e-01 -1.66666667e-01\n",
            "  3.33333333e-01  0.00000000e+00 -3.33333333e-01  5.55111512e-17\n",
            " -3.33333333e-01 -1.66666667e-01  1.66666667e-01 -1.66666667e-01\n",
            " -1.66666667e-01  0.00000000e+00  0.00000000e+00  5.55111512e-17\n",
            " -1.66666667e-01 -3.33333333e-01 -3.33333333e-01  1.66666667e-01\n",
            "  6.66666667e-01 -3.33333333e-01 -3.33333333e-01  6.66666667e-01\n",
            " -1.66666667e-01  1.66666667e-01 -1.66666667e-01 -1.66666667e-01\n",
            "  0.00000000e+00 -1.66666667e-01  1.66666667e-01  3.33333333e-01]\n"
          ],
          "name": "stdout"
        },
        {
          "output_type": "stream",
          "text": [
            "/usr/local/lib/python3.6/dist-packages/ipykernel_launcher.py:7: DeprecationWarning: scipy.ones is deprecated and will be removed in SciPy 2.0.0, use numpy.ones instead\n",
            "  import sys\n",
            "/usr/local/lib/python3.6/dist-packages/ipykernel_launcher.py:7: DeprecationWarning: scipy.diag is deprecated and will be removed in SciPy 2.0.0, use numpy.diag instead\n",
            "  import sys\n",
            "/usr/local/lib/python3.6/dist-packages/ipykernel_launcher.py:8: DeprecationWarning: scipy.ones is deprecated and will be removed in SciPy 2.0.0, use numpy.ones instead\n",
            "  \n",
            "/usr/local/lib/python3.6/dist-packages/ipykernel_launcher.py:12: DeprecationWarning: scipy.eye is deprecated and will be removed in SciPy 2.0.0, use numpy.eye instead\n",
            "  if sys.path[0] == '':\n",
            "/usr/local/lib/python3.6/dist-packages/ipykernel_launcher.py:23: DeprecationWarning: scipy.sum is deprecated and will be removed in SciPy 2.0.0, use numpy.sum instead\n"
          ],
          "name": "stderr"
        }
      ]
    },
    {
      "cell_type": "markdown",
      "metadata": {
        "id": "_pP_g5K7y7GR"
      },
      "source": [
        "**Numba accelerator**"
      ]
    },
    {
      "cell_type": "code",
      "metadata": {
        "id": "-NxfKmeLtBzA"
      },
      "source": [
        "@njit\r\n",
        "def quadrature_numba(d,iteration,det,B0,B1,w0,w1,alphai,betaj,invJTdLmada,KalphaBitha):\r\n",
        "  iteration=0\r\n",
        "  q=d+1\r\n",
        "  gij=0.\r\n",
        "  for alpha1 in range(0,d+1):\r\n",
        "    for beta1 in range(0,d+1):\r\n",
        "      for alpha2 in range(0,d-alpha1+1):\r\n",
        "        for beta2 in range(0,d-beta1+1):\r\n",
        "          sum=0\r\n",
        "          for i in range(0,3):\r\n",
        "            alphai[0]=alpha1\r\n",
        "            alphai[1]=alpha2\r\n",
        "            alphai[2]=d-alpha1-alpha2\r\n",
        "            alphai[i]=alphai[i]-1\r\n",
        "            for j in range(0,3):\r\n",
        "              betaj[1]=beta2\r\n",
        "              betaj[2]=d-beta1-beta2\r\n",
        "              betaj[0]=beta1\r\n",
        "              betaj[j]=betaj[j]-1\r\n",
        "              if alphai[0] >=0  and betaj[0] >=0  and alphai[1] >=0  and betaj[1] >=0 and alphai[2] >=0  and betaj[2] >=0 :\r\n",
        "                sumsr=0\r\n",
        "                for s in range(0,q):\r\n",
        "                  for r in range(0,q):\r\n",
        "                    gij=det*invJTdLmada[i,j]\r\n",
        "                    sumsr=sumsr+(gij*w1[r]*B1[r,int(alphai[0])]*B1[r,int(betaj[0])]*w0[s]*B0[s,int(d-1-alphai[0]),int(alphai[1])]*B0[s,int(d-1-betaj[0]),int(betaj[1])] )\r\n",
        "                sum=sum+sumsr \r\n",
        "          KalphaBitha[iteration]=((0.5)**3)*(d**2)*sum\r\n",
        "          iteration=iteration+1\r\n",
        "  return 0    "
      ],
      "execution_count": 5,
      "outputs": []
    },
    {
      "cell_type": "markdown",
      "metadata": {
        "id": "J4YaSK04zCPb"
      },
      "source": [
        "**Pyccel accelerator**"
      ]
    },
    {
      "cell_type": "code",
      "metadata": {
        "id": "5hHOLdQotB1l"
      },
      "source": [
        "@types('int','int','float','float[:,:,:]','float[:,:]','float[:]','float[:]','float[:]','float[:]','float[:,:]','float[:]')\r\n",
        "def quadrature_pyccel(d,iteration,det,B0,B1,w0,w1,alphai,betaj,invJTdLmada,KalphaBitha):\r\n",
        "  iteration=0\r\n",
        "  q=d+1\r\n",
        "  gij=0.\r\n",
        "  for alpha1 in range(0,d+1):\r\n",
        "    for beta1 in range(0,d+1):\r\n",
        "      for alpha2 in range(0,d-alpha1+1):\r\n",
        "        for beta2 in range(0,d-beta1+1):\r\n",
        "          sum=0.\r\n",
        "          for i in range(0,3):\r\n",
        "            alphai[0]=alpha1\r\n",
        "            alphai[1]=alpha2\r\n",
        "            alphai[2]=d-alpha1-alpha2\r\n",
        "            alphai[i]=alphai[i]-1\r\n",
        "            for j in range(0,3):\r\n",
        "              betaj[1]=beta2\r\n",
        "              betaj[2]=d-beta1-beta2\r\n",
        "              betaj[0]=beta1\r\n",
        "              betaj[j]=betaj[j]-1\r\n",
        "              if alphai[0] >=0  and betaj[0] >=0  and alphai[1] >=0  and betaj[1] >=0 and alphai[2] >=0  and betaj[2] >=0 :\r\n",
        "                sumsr=0.\r\n",
        "                for s in range(0,q):\r\n",
        "                  for r in range(0,q):\r\n",
        "                    gij=det*invJTdLmada[i,j]\r\n",
        "                    sumsr=sumsr+(gij*w1[r]*B1[r,int(alphai[0])]*B1[r,int(betaj[0])]*w0[s]*B0[s,int(d-1-alphai[0]),int(alphai[1])]*B0[s,int(d-1-betaj[0]),int(betaj[1])] )\r\n",
        "                sum=sum+sumsr \r\n",
        "          KalphaBitha[iteration]=((0.5)**3)*(d**2)*sum\r\n",
        "          iteration=iteration+1\r\n",
        "  return 0    "
      ],
      "execution_count": 6,
      "outputs": []
    },
    {
      "cell_type": "code",
      "metadata": {
        "id": "S0ftAbdxtB4t"
      },
      "source": [
        "quadrature=epyccel(quadrature_pyccel,language='fortran')"
      ],
      "execution_count": 7,
      "outputs": []
    },
    {
      "cell_type": "markdown",
      "metadata": {
        "id": "G_32nCJLzIg7"
      },
      "source": [
        "**Inputs**"
      ]
    },
    {
      "cell_type": "code",
      "metadata": {
        "id": "2IoNl8o2tB7p"
      },
      "source": [
        "iteration=0\r\n",
        "\r\n",
        "Dlampda=np.array([[1,0],[0,1],[-1,-1]])                      # Dérivés des coordonnées barycentriques\r\n",
        "invJTdLmada=np.zeros((3,3))\r\n",
        "for i in range(3):\r\n",
        "  for j in range(3):\r\n",
        "    invJTdLmada[i,j]=sp.sum(Dlampda[i]*Dlampda[j])\r\n",
        "\r\n",
        "C0=sp.diag(sp.ones(500))\r\n",
        "C0[:,0]=sp.ones(500)\r\n",
        "for n in range(1,500):                                   # Formule de pascal\r\n",
        "     for m in range(1,n+1):\r\n",
        "        C0[n,m]= C0[n-1,m-1]+C0[n-1,m]\r\n",
        "JT=sp.eye(2)\r\n",
        "det=lg.det(JT)"
      ],
      "execution_count": null,
      "outputs": []
    },
    {
      "cell_type": "code",
      "metadata": {
        "id": "mupkz_C1tB_y"
      },
      "source": [
        "degremax=50"
      ],
      "execution_count": 9,
      "outputs": []
    },
    {
      "cell_type": "markdown",
      "metadata": {
        "id": "M9VaYmVKzPQV"
      },
      "source": [
        "**time for pure function**"
      ]
    },
    {
      "cell_type": "code",
      "metadata": {
        "id": "M3xBiCOKtCDE"
      },
      "source": [
        "temCPUpureQ=[]\r\n",
        "degre=[]\r\n",
        "for i in range(1,degremax+1):\r\n",
        "  degre.append(i)\r\n",
        "  q=i+1\r\n",
        "  t0,w0=ss.roots_jacobi(q,0,0)  \r\n",
        "  ita0=(1/2)+0.5*t0  \r\n",
        "  t1,w1=ss.roots_jacobi(q,1,0)                   #Méthode de Gauss-Jacobi\r\n",
        "  ita1=(1/2)+0.5*t1\r\n",
        "  ind=int(C0[i+2,2]**2)\r\n",
        "  KalphaBitha=np.zeros(ind)\r\n",
        "  alphai=np.zeros(3)\r\n",
        "  betaj=np.zeros(3)\r\n",
        "  B1=np.ones((q,i))\r\n",
        "  B0=np.ones((q,i,i))\r\n",
        "  t1r= process_time()\r\n",
        "  '''\r\n",
        "  for s in range(q):\r\n",
        "    x=ita0[s]\r\n",
        "    y=ita1[s]\r\n",
        "    for n in range(i):\r\n",
        "      for k in range(n+1):                                           # the calculation with the analytical formula \r\n",
        "        B0[s,n,k]= C0[n,k]*((1-x)**(n-k))*(x**k)\r\n",
        "      B1[s,n]=C0[i-1,n]*((1-y)**(i-1-n))*(y**n)  \r\n",
        "      '''\r\n",
        "  quadrature_pure(i,iteration,det,B0,B1,w0,w1,alphai,betaj,invJTdLmada,KalphaBitha)\r\n",
        "  t2r= process_time()\r\n",
        "  temCPUpureQ.append(t2r-t1r)\r\n",
        "  print(i)"
      ],
      "execution_count": null,
      "outputs": []
    },
    {
      "cell_type": "markdown",
      "metadata": {
        "id": "tMmiEsDkzWPB"
      },
      "source": [
        "**Time for function with pyccel accelerator**"
      ]
    },
    {
      "cell_type": "code",
      "metadata": {
        "id": "buhrqbxqtCFa"
      },
      "source": [
        "temCPUpyccelQ=[]\r\n",
        "degre=[]\r\n",
        "for i in range(1,degremax+1):\r\n",
        "  degre.append(i)\r\n",
        "  q=i+1\r\n",
        "  t0,w0=ss.roots_jacobi(q,0,0)  \r\n",
        "  ita0=(1/2)+0.5*t0  \r\n",
        "  t1,w1=ss.roots_jacobi(q,1,0)                   #Méthode de Gauss-Jacobi\r\n",
        "  ita1=(1/2)+0.5*t1\r\n",
        "  ind=int(C0[i+2,2]**2)\r\n",
        "  KalphaBitha=np.zeros(ind)\r\n",
        "  alphai=np.zeros(3)\r\n",
        "  betaj=np.zeros(3)\r\n",
        "  B1=np.ones((q,i))\r\n",
        "  B0=np.ones((q,i,i))\r\n",
        "  t1P= process_time()\r\n",
        "  quadrature(i,iteration,det,B0,B1,w0,w1,alphai,betaj,invJTdLmada,KalphaBitha)\r\n",
        "  t2P= process_time()\r\n",
        "  temCPUpyccelQ.append(t2P-t1P)\r\n",
        "  print(i)"
      ],
      "execution_count": null,
      "outputs": []
    },
    {
      "cell_type": "markdown",
      "metadata": {
        "id": "nxyBDYxYzeBE"
      },
      "source": [
        "**Time for function with numba accelerator**"
      ]
    },
    {
      "cell_type": "code",
      "metadata": {
        "id": "WzjQfKU-tCIN"
      },
      "source": [
        "temCPUnumbaQ=[]\r\n",
        "degre=[]\r\n",
        "for i in range(1,degremax+1):\r\n",
        "  degre.append(i)\r\n",
        "  q=i+1\r\n",
        "  t0,w0=ss.roots_jacobi(q,0,0)  \r\n",
        "  ita0=(1/2)+0.5*t0  \r\n",
        "  t1,w1=ss.roots_jacobi(q,1,0)                   #Méthode de Gauss-Jacobi\r\n",
        "  ita1=(1/2)+0.5*t1\r\n",
        "  ind=int(C0[i+2,2]**2)\r\n",
        "  KalphaBitha=np.zeros(ind)\r\n",
        "  alphai=np.zeros(3)\r\n",
        "  betaj=np.zeros(3)\r\n",
        "  B1=np.ones((q,i))\r\n",
        "  B0=np.ones((q,i,i))\r\n",
        "  t1n= process_time()\r\n",
        "  '''\r\n",
        "  for s in range(q):\r\n",
        "    x=ita0[s]\r\n",
        "    y=ita1[s]\r\n",
        "    for n in range(i):\r\n",
        "      for k in range(n+1):                                           # the calculation with the analytical formula \r\n",
        "        B0[s,n,k]= C0[n,k]*((1-x)**(n-k))*(x**k)\r\n",
        "      B1[s,n]=C0[i-1,n]*((1-y)**(i-1-n))*(y**n)  \r\n",
        "      '''\r\n",
        "  quadrature_numba(i,iteration,det,B0,B1,w0,w1,alphai,betaj,invJTdLmada,KalphaBitha)\r\n",
        "  t2n= process_time()\r\n",
        "  temCPUnumbaQ.append(t2n-t1n)\r\n",
        "  print(i)"
      ],
      "execution_count": null,
      "outputs": []
    },
    {
      "cell_type": "markdown",
      "metadata": {
        "id": "qnkvp82XzjXp"
      },
      "source": [
        "**Plots**"
      ]
    },
    {
      "cell_type": "code",
      "metadata": {
        "colab": {
          "base_uri": "https://localhost:8080/",
          "height": 299
        },
        "id": "k08drL95tCNr",
        "outputId": "05a80314-4d9f-4117-fd2d-89aed0fc1aad"
      },
      "source": [
        "ax = pl.axes(xscale='log', yscale='log')\r\n",
        "pl.plot(degre,temCPUpyccelQ,label='Quadrature directe avec Pyccel')\r\n",
        "pl.title(\"Temps de calcul de matrice de rigidité avec Pyccel\")\r\n",
        "pl.xlabel(\" degre d\")\r\n",
        "pl.ylabel(\"temps CPU\")\r\n",
        "Degre=np.array(degre)\r\n",
        "cst=2.2*(10**(-9))\r\n",
        "Z=cst*(Degre**6)\r\n",
        "pl.plot(degre,Z,'r--',label='$d^6$')\r\n",
        "pl.legend()\r\n",
        "pl.grid()\r\n",
        "pl.show()"
      ],
      "execution_count": 42,
      "outputs": [
        {
          "output_type": "display_data",
          "data": {
            "image/png": "[encoded data removed]",
            "text/plain": [
              "<Figure size 432x288 with 1 Axes>"
            ]
          },
          "metadata": {
            "tags": [],
            "needs_background": "light"
          }
        }
      ]
    },
    {
      "cell_type": "code",
      "metadata": {
        "colab": {
          "base_uri": "https://localhost:8080/",
          "height": 299
        },
        "id": "nIxTo9jetCQ7",
        "outputId": "5ffe75a4-4fa3-42de-aeb5-ba2fc1526ffd"
      },
      "source": [
        "ax = pl.axes(xscale='log', yscale='log')\r\n",
        "pl.plot(degre,temCPUnumbaQ,label='Quadrature directe avec numba')\r\n",
        "pl.title(\"Temps de calcul de matrice de rigidité avec numba\")\r\n",
        "pl.xlabel(\" degre d\")\r\n",
        "pl.ylabel(\"temps CPU\")\r\n",
        "Degre=np.array(degre)\r\n",
        "cst=2.1*(10**(-9))\r\n",
        "Z=cst*(Degre**6)\r\n",
        "pl.plot(degre,Z,'r--',label='$d^6$')\r\n",
        "pl.legend()\r\n",
        "pl.grid()\r\n",
        "pl.show()"
      ],
      "execution_count": 47,
      "outputs": [
        {
          "output_type": "display_data",
          "data": {
            "image/png": "[encoded data removed]",
            "text/plain": [
              "<Figure size 432x288 with 1 Axes>"
            ]
          },
          "metadata": {
            "tags": [],
            "needs_background": "light"
          }
        }
      ]
    },
    {
      "cell_type": "code",
      "metadata": {
        "colab": {
          "base_uri": "https://localhost:8080/",
          "height": 299
        },
        "id": "M7slyo97tCUc",
        "outputId": "3bfdfaf7-1e6d-404d-cf80-452e795279ec"
      },
      "source": [
        "ax = pl.axes(xscale='log', yscale='log')\r\n",
        "pl.plot(degre,temCPUpureQ,label='Quadrature directe avec pure')\r\n",
        "pl.title(\"Temps de calcul de matrice de rigidité avec pure\")\r\n",
        "pl.xlabel(\" degre d\")\r\n",
        "pl.ylabel(\"temps CPU\")\r\n",
        "Degre=np.array(degre)\r\n",
        "cst= 9.5*(10**(-6))\r\n",
        "Z=cst*(Degre**6)\r\n",
        "pl.plot(degre,Z,'r--',label='$d^6$')\r\n",
        "pl.legend()\r\n",
        "pl.grid()\r\n",
        "pl.show()"
      ],
      "execution_count": 23,
      "outputs": [
        {
          "output_type": "display_data",
          "data": {
            "image/png": "[encoded data removed]",
            "text/plain": [
              "<Figure size 432x288 with 1 Axes>"
            ]
          },
          "metadata": {
            "tags": [],
            "needs_background": "light"
          }
        }
      ]
    },
    {
      "cell_type": "code",
      "metadata": {
        "colab": {
          "base_uri": "https://localhost:8080/",
          "height": 299
        },
        "id": "UXKbYpgrtCXC",
        "outputId": "baabe475-c192-421e-af80-f57fc750d62e"
      },
      "source": [
        "ax = pl.axes(xscale='log', yscale='log')\r\n",
        "#pl.plot(degre,temCPUpureQ,label='Quadrature directe avec pure')\r\n",
        "pl.plot(degre,temCPUnumbaQ,label='Quadrature directeavec numba')\r\n",
        "pl.plot(degre,temCPUpyccelQ,label='Quadrature directe avec Pyccel')\r\n",
        "pl.title(\"Temps de calcul de matrice de rigidité avec , numba et pyccel\")\r\n",
        "pl.xlabel(\" degre d\")\r\n",
        "pl.ylabel(\"temps CPU\")\r\n",
        "Degre=np.array(degre)\r\n",
        "cst=4.5*(10**(-10))\r\n",
        "Z=cst*(Degre**6)\r\n",
        "#pl.plot(degre,Z,'r--',label='$d^6$')\r\n",
        "pl.legend()\r\n",
        "pl.grid()\r\n",
        "pl.show()"
      ],
      "execution_count": 49,
      "outputs": [
        {
          "output_type": "display_data",
          "data": {
            "image/png": "[encoded data removed]",
            "text/plain": [
              "<Figure size 432x288 with 1 Axes>"
            ]
          },
          "metadata": {
            "tags": [],
            "needs_background": "light"
          }
        }
      ]
    }
  ]
}