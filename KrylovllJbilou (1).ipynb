{
  "nbformat": 4,
  "nbformat_minor": 0,
  "metadata": {
    "colab": {
      "name": "KrylovllJbilou.ipynb",
      "provenance": [],
      "collapsed_sections": []
    },
    "kernelspec": {
      "name": "python3",
      "display_name": "Python 3"
    }
  },
  "cells": [
    {
      "cell_type": "markdown",
      "metadata": {
        "id": "XF2whK-_U7ON"
      },
      "source": [
        "**The Steepest Descent Algorithm**"
      ]
    },
    {
      "cell_type": "code",
      "metadata": {
        "colab": {
          "base_uri": "https://localhost:8080/"
        },
        "id": "pEgjgmI9USlO",
        "outputId": "4b5b6c10-9413-4872-bf11-f55f6cadc25e"
      },
      "source": [
        "import numpy as np\r\n",
        "import scipy as sp\r\n",
        "from scipy import linalg as lg\r\n",
        "\r\n",
        "\r\n",
        "\r\n",
        "# Ax=b\r\n",
        "\r\n",
        "d1=2*np.ones(3)\r\n",
        "d2=(-1)*np.ones(2)\r\n",
        "A=np.diag(d1)+np.diag(d2,-1)+np.diag(d2,1) # A is a symetric  positive deinete matrix\r\n",
        "print('A=',A)\r\n",
        "b=np.array([1,1,1])\r\n",
        "##########################      python pure     ##################\"\"\r\n",
        "xpython=lg.solve(A,b)    # x with python  \r\n",
        "print('la solution avec python de Ax=b est :',xpython)\r\n",
        "print('Erreur entre inv(A)b et la solution avec python est : ',sp.dot(lg.inv(A),b)-xpython)\r\n",
        "print(\"////////////////////////////////////////////////\")\r\n",
        "##################         Algorithm   WITH pk=rk     ####################################\r\n",
        "\r\n",
        "x=np.zeros(3)\r\n",
        "r=b                        #r(x)=b-Ax\r\n",
        "Nmax= 30                    # nombres  des iterations maximal\r\n",
        "epsilon=0.000000001\r\n",
        "\r\n",
        "for i in range(1,Nmax+1):\r\n",
        "  Ar=sp.dot(A,r)\r\n",
        "  alpha=(np.sum(r*r))/(np.sum(Ar*r))\r\n",
        "  x=x+alpha*r\r\n",
        "  r=r-alpha*Ar\r\n",
        "  cond=sp.sum(r*r)\r\n",
        "  if sp.sqrt(cond) <= epsilon:\r\n",
        "    break\r\n",
        "  \r\n",
        "print(\"la méthode converge vers \",x ,\" dans \",i ,\" ietration\",\" avec erreur de \",lg.norm(cond))"
      ],
      "execution_count": 83,
      "outputs": [
        {
          "output_type": "stream",
          "text": [
            "A= [[ 2. -1.  0.]\n",
            " [-1.  2. -1.]\n",
            " [ 0. -1.  2.]]\n",
            "la solution avec python de Ax=b est : [1.5 2.  1.5]\n",
            "Erreur entre inv(A)b et la solution avec python est :  [ 0.00000000e+00 -4.44089210e-16 -2.22044605e-16]\n",
            "////////////////////////////////////////////////\n",
            "la méthode converge vers  [1.5 2.  1.5]  dans  20  ietration  avec erreur de  3.0000000000009657e-20\n"
          ],
          "name": "stdout"
        },
        {
          "output_type": "stream",
          "text": [
            "/usr/local/lib/python3.6/dist-packages/ipykernel_launcher.py:17: DeprecationWarning: scipy.dot is deprecated and will be removed in SciPy 2.0.0, use numpy.dot instead\n",
            "/usr/local/lib/python3.6/dist-packages/ipykernel_launcher.py:27: DeprecationWarning: scipy.dot is deprecated and will be removed in SciPy 2.0.0, use numpy.dot instead\n",
            "/usr/local/lib/python3.6/dist-packages/ipykernel_launcher.py:31: DeprecationWarning: scipy.sum is deprecated and will be removed in SciPy 2.0.0, use numpy.sum instead\n",
            "/usr/local/lib/python3.6/dist-packages/ipykernel_launcher.py:32: DeprecationWarning: scipy.sqrt is deprecated and will be removed in SciPy 2.0.0, use numpy.lib.scimath.sqrt instead\n"
          ],
          "name": "stderr"
        }
      ]
    },
    {
      "cell_type": "markdown",
      "metadata": {
        "id": "OVQW5K52o5Fx"
      },
      "source": [
        "**The Conjugate Gradient Algorithm**"
      ]
    },
    {
      "cell_type": "code",
      "metadata": {
        "colab": {
          "base_uri": "https://localhost:8080/"
        },
        "id": "YYoNUOYpnLrw",
        "outputId": "9de7626c-73a0-45a8-96db-2b6c67f93958"
      },
      "source": [
        "##################         Algorithm   WITH pk=rk+beta*p(k-1)    ####################################\r\n",
        "\r\n",
        "x=np.zeros(3)\r\n",
        "r=b                        #r(x)=b-Ax\r\n",
        "p=b\r\n",
        "Nmax= 30                   # nombres  des iterations maximal\r\n",
        "epsilon=0.00000000001\r\n",
        "\r\n",
        "for i in range(1,Nmax+1):\r\n",
        "  rk=r\r\n",
        "  Ap=sp.dot(A,p)\r\n",
        "  alpha=(np.sum(r*r))/(np.sum(Ap*p))\r\n",
        "  x=x+alpha*p\r\n",
        "  \r\n",
        "  r=r-alpha*Ap\r\n",
        "  COND=sp.sum(r*r)\r\n",
        "  if sp.sqrt(COND) <= epsilon:\r\n",
        "    break\r\n",
        "  beta=(np.sum(r*r))/(np.sum(rk*rk))\r\n",
        "  p=r+beta*p\r\n",
        "print(\"la méthode converge vers \",x ,\" dans \",i ,\" ietration\",\" avec erreur de \",lg.norm(cond))\r\n",
        "print('les valeures propres de A sont :',lg.eigvals(A))  # Verification of  the Theorem 2.8."
      ],
      "execution_count": 84,
      "outputs": [
        {
          "output_type": "stream",
          "text": [
            "la méthode converge vers  [1.5 2.  1.5]  dans  2  ietration  avec erreur de  3.0000000000009657e-20\n",
            "les valeures propres de A sont : [3.41421356+0.j 2.        +0.j 0.58578644+0.j]\n"
          ],
          "name": "stdout"
        },
        {
          "output_type": "stream",
          "text": [
            "/usr/local/lib/python3.6/dist-packages/ipykernel_launcher.py:11: DeprecationWarning: scipy.dot is deprecated and will be removed in SciPy 2.0.0, use numpy.dot instead\n",
            "  # This is added back by InteractiveShellApp.init_path()\n",
            "/usr/local/lib/python3.6/dist-packages/ipykernel_launcher.py:16: DeprecationWarning: scipy.sum is deprecated and will be removed in SciPy 2.0.0, use numpy.sum instead\n",
            "  app.launch_new_instance()\n",
            "/usr/local/lib/python3.6/dist-packages/ipykernel_launcher.py:17: DeprecationWarning: scipy.sqrt is deprecated and will be removed in SciPy 2.0.0, use numpy.lib.scimath.sqrt instead\n"
          ],
          "name": "stderr"
        }
      ]
    },
    {
      "cell_type": "markdown",
      "metadata": {
        "id": "6VeGaLJm6wrH"
      },
      "source": [
        "**The Full Orthogonalisation (FOM) algorithm**"
      ]
    },
    {
      "cell_type": "code",
      "metadata": {
        "colab": {
          "base_uri": "https://localhost:8080/"
        },
        "id": "ZU8BTXAk8Yet",
        "outputId": "d7ed92ca-bc5f-477f-a242-2ca2f1269091"
      },
      "source": [
        "############### Algorithm for linear systems having non symmetric matrix ############\r\n",
        "n=A.shape[0]          \r\n",
        "x=np.array([0,1,0])\r\n",
        "r=b-sp.dot(A,x)                    #r(x)=b-Ax\r\n",
        "m=50         # nombres  des iterations maximal \r\n",
        "beta= lg.norm(r)\r\n",
        "V=np.zeros((n,m+1))\r\n",
        "H=np.zeros((m+1,m))\r\n",
        "V[:,0]=(1/beta)*r\r\n",
        "epsilon=1e-5\r\n",
        "for j in range(m):\r\n",
        "  w=sp.dot(A,V[:,j])\r\n",
        "  for i in range(j):\r\n",
        "    H[i,j]=sp.sum(w*V[:,i])\r\n",
        "    w=w-H[i,j]*V[:,i]\r\n",
        "  H[j+1,j]=lg.norm(w)\r\n",
        "  if H[j+1,j] <= 1e-12  :\r\n",
        "    break\r\n",
        "  else:\r\n",
        "    V[:,j+1]=(1/H[j+1,j])*w\r\n",
        "\r\n",
        "Hm=H[:m,:m]                    # The matrix obtained from H by deletiong its last row  and  we have Hm=trans(Vm)AVM\r\n",
        "Vm=V[:m,:m]                        #  V is the orthonormal basis of the Krylov subspace \r\n",
        "\r\n",
        "e=np.zeros(m)\r\n",
        "e[0]=1                        #   e1 \r\n",
        "\r\n",
        "y=sp.dot(lg.inv(Hm),beta*e)                      # In this case Hm is reduces to a tridiagonal matrix because A symmetric\r\n",
        "x=x+sp.dot(Vm,y)                   \r\n",
        "print(\"la méthode converge vers \",x)\r\n"
      ],
      "execution_count": 180,
      "outputs": [
        {
          "output_type": "stream",
          "text": [
            "la méthode converge vers  [1.5 2.  1.5]\n"
          ],
          "name": "stdout"
        },
        {
          "output_type": "stream",
          "text": [
            "/usr/local/lib/python3.6/dist-packages/ipykernel_launcher.py:4: DeprecationWarning: scipy.dot is deprecated and will be removed in SciPy 2.0.0, use numpy.dot instead\n",
            "  after removing the cwd from sys.path.\n",
            "/usr/local/lib/python3.6/dist-packages/ipykernel_launcher.py:12: DeprecationWarning: scipy.dot is deprecated and will be removed in SciPy 2.0.0, use numpy.dot instead\n",
            "  if sys.path[0] == '':\n",
            "/usr/local/lib/python3.6/dist-packages/ipykernel_launcher.py:14: DeprecationWarning: scipy.sum is deprecated and will be removed in SciPy 2.0.0, use numpy.sum instead\n",
            "  \n",
            "/usr/local/lib/python3.6/dist-packages/ipykernel_launcher.py:28: DeprecationWarning: scipy.dot is deprecated and will be removed in SciPy 2.0.0, use numpy.dot instead\n",
            "/usr/local/lib/python3.6/dist-packages/ipykernel_launcher.py:29: DeprecationWarning: scipy.dot is deprecated and will be removed in SciPy 2.0.0, use numpy.dot instead\n"
          ],
          "name": "stderr"
        }
      ]
    },
    {
      "cell_type": "markdown",
      "metadata": {
        "id": "I0mewYsHf_PQ"
      },
      "source": [
        "**The GMRES algorithm**"
      ]
    },
    {
      "cell_type": "code",
      "metadata": {
        "colab": {
          "base_uri": "https://localhost:8080/"
        },
        "id": "qe62nsKmZMna",
        "outputId": "1390e2dd-bcea-4df7-bfd2-0736fcaf98cc"
      },
      "source": [
        "#tQ,R=lg.qr(A)                                A=transp(Q)R\r\n",
        "#Q=sp.transpose(tQ)\r\n",
        "############### Algorithm for linear systems having non symmetric matrix and large problems ############\r\n",
        "n=A.shape[0]          \r\n",
        "x=np.ones(n)\r\n",
        "r=b-sp.dot(A,x)                    #r(x)=b-Ax\r\n",
        "m=4              # nombres  des iterations maximal \r\n",
        "beta= lg.norm(r)\r\n",
        "V=np.zeros((n,m+1))\r\n",
        "H=np.zeros((m+1,m))\r\n",
        "V[:,0]=(1/beta)*r\r\n",
        "\r\n",
        "tol=1e-10\r\n",
        "while beta>tol:\r\n",
        "  for j in range(m):\r\n",
        "    w=sp.dot(A,V[:,j])\r\n",
        "    for i in range(j):\r\n",
        "      H[i,j]=sp.sum(w*V[:,i])\r\n",
        "      w=w-H[i,j]*V[:,i]\r\n",
        "    H[j+1,j]=lg.norm(w)\r\n",
        "    if H[j+1,j] <= 1e-12  :\r\n",
        "      break\r\n",
        "    else:\r\n",
        "      V[:,j+1]=(1/H[j+1,j])*w\r\n",
        "  tQ,R=lg.qr(H)\r\n",
        "  Q=sp.transpose(tQ)                            #  QR decomposition for H\r\n",
        "  e=np.zeros(m+1)\r\n",
        "  e[0]=1                        #   e1 \r\n",
        "  g=beta*sp.dot(Q,e)\r\n",
        "  gm=g[:m]\r\n",
        "  Rm=R[:m,:m]                                         # the squars problem solving by using the QR factorization of H\r\n",
        "  y=sp.dot(lg.inv(Rm),gm)                             # we can use the LU decopostion to solve Rmy=gm\r\n",
        "  Vm=V[:m,:m]                                   \r\n",
        "  x=x+sp.dot(Vm,y)\r\n",
        "\r\n",
        "  r=b-sp.dot(A,x)\r\n",
        "  beta= lg.norm(r)\r\n",
        "  V[:,0]=(1/beta)*r\r\n",
        "\r\n",
        "\r\n",
        "print(\"la méthode converge vers \",x)\r\n"
      ],
      "execution_count": 182,
      "outputs": [
        {
          "output_type": "stream",
          "text": [
            "la méthode converge vers  [1.5 2.  1.5]\n"
          ],
          "name": "stdout"
        },
        {
          "output_type": "stream",
          "text": [
            "/usr/local/lib/python3.6/dist-packages/ipykernel_launcher.py:6: DeprecationWarning: scipy.dot is deprecated and will be removed in SciPy 2.0.0, use numpy.dot instead\n",
            "  \n",
            "/usr/local/lib/python3.6/dist-packages/ipykernel_launcher.py:16: DeprecationWarning: scipy.dot is deprecated and will be removed in SciPy 2.0.0, use numpy.dot instead\n",
            "  app.launch_new_instance()\n",
            "/usr/local/lib/python3.6/dist-packages/ipykernel_launcher.py:18: DeprecationWarning: scipy.sum is deprecated and will be removed in SciPy 2.0.0, use numpy.sum instead\n",
            "/usr/local/lib/python3.6/dist-packages/ipykernel_launcher.py:26: DeprecationWarning: scipy.transpose is deprecated and will be removed in SciPy 2.0.0, use numpy.transpose instead\n",
            "/usr/local/lib/python3.6/dist-packages/ipykernel_launcher.py:29: DeprecationWarning: scipy.dot is deprecated and will be removed in SciPy 2.0.0, use numpy.dot instead\n",
            "/usr/local/lib/python3.6/dist-packages/ipykernel_launcher.py:32: DeprecationWarning: scipy.dot is deprecated and will be removed in SciPy 2.0.0, use numpy.dot instead\n",
            "/usr/local/lib/python3.6/dist-packages/ipykernel_launcher.py:34: DeprecationWarning: scipy.dot is deprecated and will be removed in SciPy 2.0.0, use numpy.dot instead\n",
            "/usr/local/lib/python3.6/dist-packages/ipykernel_launcher.py:36: DeprecationWarning: scipy.dot is deprecated and will be removed in SciPy 2.0.0, use numpy.dot instead\n"
          ],
          "name": "stderr"
        }
      ]
    },
    {
      "cell_type": "markdown",
      "metadata": {
        "id": "AUEXysZ_qxE_"
      },
      "source": [
        "**The Symmetric Lanczos Algorithm for Linear Systems**"
      ]
    },
    {
      "cell_type": "code",
      "metadata": {
        "colab": {
          "base_uri": "https://localhost:8080/"
        },
        "id": "HgelXrxWseGW",
        "outputId": "a78fc779-8d05-4d24-f0d6-5d0e418b0765"
      },
      "source": [
        "########################### Algorithm for symtric matrix A############################\r\n",
        "\r\n",
        "n=A.shape[0]          \r\n",
        "x=np.ones(n)\r\n",
        "r=b-sp.dot(A,x)                    #r(x)=b-Ax\r\n",
        "m=3                           # nombres  des iterations maximal \r\n",
        "beta= lg.norm(r)\r\n",
        "V=np.zeros((n,m+1))\r\n",
        "V[:,0]=(1/beta)*r\r\n",
        "alphaT=sp.zeros(m)\r\n",
        "betaT=sp.zeros(m+1)\r\n",
        "for j in range(m):\r\n",
        "  w=sp.dot(A,V[:,j])-betaT[j]*V[:,j-1]\r\n",
        "  alphaT[j]=sp.sum(w*V[:,j])\r\n",
        "  w=w-alphaT[j]*V[:,j]\r\n",
        "  betaT[j+1]=lg.norm(w)\r\n",
        "  if betaT[j+1]==0:\r\n",
        "    break\r\n",
        "  else:\r\n",
        "    V[:,j+1]=(1/betaT[j+1])*w\r\n",
        "Beta=betaT[1:m]\r\n",
        "T=sp.diag(alphaT)+sp.diag(Beta,1)+sp.diag(Beta,-1)\r\n",
        "e=np.zeros(m)\r\n",
        "e[0]=1\r\n",
        "\r\n",
        "y=beta*sp.dot(lg.inv(T),e)\r\n",
        "Vm=V[:m,:m]\r\n",
        "x=x+sp.dot(Vm,y)\r\n",
        "print(\"la méthode converge vers \",x)"
      ],
      "execution_count": 195,
      "outputs": [
        {
          "output_type": "stream",
          "text": [
            "[1.5 2.  1.5]\n"
          ],
          "name": "stdout"
        },
        {
          "output_type": "stream",
          "text": [
            "/usr/local/lib/python3.6/dist-packages/ipykernel_launcher.py:3: DeprecationWarning: scipy.dot is deprecated and will be removed in SciPy 2.0.0, use numpy.dot instead\n",
            "  This is separate from the ipykernel package so we can avoid doing imports until\n",
            "/usr/local/lib/python3.6/dist-packages/ipykernel_launcher.py:8: DeprecationWarning: scipy.zeros is deprecated and will be removed in SciPy 2.0.0, use numpy.zeros instead\n",
            "  \n",
            "/usr/local/lib/python3.6/dist-packages/ipykernel_launcher.py:9: DeprecationWarning: scipy.zeros is deprecated and will be removed in SciPy 2.0.0, use numpy.zeros instead\n",
            "  if __name__ == '__main__':\n",
            "/usr/local/lib/python3.6/dist-packages/ipykernel_launcher.py:11: DeprecationWarning: scipy.dot is deprecated and will be removed in SciPy 2.0.0, use numpy.dot instead\n",
            "  # This is added back by InteractiveShellApp.init_path()\n",
            "/usr/local/lib/python3.6/dist-packages/ipykernel_launcher.py:12: DeprecationWarning: scipy.sum is deprecated and will be removed in SciPy 2.0.0, use numpy.sum instead\n",
            "  if sys.path[0] == '':\n",
            "/usr/local/lib/python3.6/dist-packages/ipykernel_launcher.py:20: DeprecationWarning: scipy.diag is deprecated and will be removed in SciPy 2.0.0, use numpy.diag instead\n",
            "/usr/local/lib/python3.6/dist-packages/ipykernel_launcher.py:24: DeprecationWarning: scipy.dot is deprecated and will be removed in SciPy 2.0.0, use numpy.dot instead\n",
            "/usr/local/lib/python3.6/dist-packages/ipykernel_launcher.py:26: DeprecationWarning: scipy.dot is deprecated and will be removed in SciPy 2.0.0, use numpy.dot instead\n"
          ],
          "name": "stderr"
        }
      ]
    }
  ]
}