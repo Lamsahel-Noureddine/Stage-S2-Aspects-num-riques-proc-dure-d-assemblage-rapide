{
  "nbformat": 4,
  "nbformat_minor": 0,
  "metadata": {
    "colab": {
      "name": "methodeQuadratureDir_matriceMasse.ipynb",
      "provenance": []
    },
    "kernelspec": {
      "name": "python3",
      "display_name": "Python 3"
    }
  },
  "cells": [
    {
      "cell_type": "markdown",
      "metadata": {
        "id": "jO4gKE-5tyEZ"
      },
      "source": [
        "**Imports**"
      ]
    },
    {
      "cell_type": "code",
      "metadata": {
        "colab": {
          "base_uri": "https://localhost:8080/"
        },
        "id": "9pf0p7vxoMP4",
        "outputId": "12207ac8-b6e7-4ef7-b7c9-c61aa481b5bf"
      },
      "source": [
        "!pip install pyccel\r\n",
        "!pip install numba\r\n",
        "import numpy as np\r\n",
        "import scipy as sp\r\n",
        "from scipy import special as ss\r\n",
        "import scipy.linalg as lg\r\n",
        "import matplotlib.pyplot as pl\r\n",
        "\r\n",
        "import time\r\n",
        "from time import process_time\r\n",
        "\r\n",
        "\r\n",
        "from numba import njit\r\n",
        "from pyccel.epyccel import epyccel\r\n",
        "from pyccel.decorators import types,pure"
      ],
      "execution_count": 48,
      "outputs": [
        {
          "output_type": "stream",
          "text": [
            "Requirement already satisfied: pyccel in /usr/local/lib/python3.6/dist-packages (1.0.0)\n",
            "Requirement already satisfied: numpy in /usr/local/lib/python3.6/dist-packages (from pyccel) (1.18.5)\n",
            "Requirement already satisfied: termcolor in /usr/local/lib/python3.6/dist-packages (from pyccel) (1.1.0)\n",
            "Requirement already satisfied: sympy>=1.2 in /usr/local/lib/python3.6/dist-packages (from pyccel) (1.7.1)\n",
            "Requirement already satisfied: textx>=1.6 in /usr/local/lib/python3.6/dist-packages (from pyccel) (2.3.0)\n",
            "Requirement already satisfied: mpmath>=0.19 in /usr/local/lib/python3.6/dist-packages (from sympy>=1.2->pyccel) (1.1.0)\n",
            "Requirement already satisfied: Arpeggio>=1.9.0 in /usr/local/lib/python3.6/dist-packages (from textx>=1.6->pyccel) (1.10.1)\n",
            "Requirement already satisfied: numba in /usr/local/lib/python3.6/dist-packages (0.48.0)\n",
            "Requirement already satisfied: llvmlite<0.32.0,>=0.31.0dev0 in /usr/local/lib/python3.6/dist-packages (from numba) (0.31.0)\n",
            "Requirement already satisfied: numpy>=1.15 in /usr/local/lib/python3.6/dist-packages (from numba) (1.18.5)\n",
            "Requirement already satisfied: setuptools in /usr/local/lib/python3.6/dist-packages (from numba) (50.3.2)\n"
          ],
          "name": "stdout"
        }
      ]
    },
    {
      "cell_type": "markdown",
      "metadata": {
        "id": "cZ9I4VTjt7CB"
      },
      "source": [
        "**Pure python function**"
      ]
    },
    {
      "cell_type": "code",
      "metadata": {
        "id": "5e3bCm-ZoYEg"
      },
      "source": [
        "\r\n",
        "def Bpyccel(n,k,t,C0):\r\n",
        "  return C0[n,k]*((1-t)**(n-k))*(t**k)                    #polynome de Bernstien\r\n",
        "\r\n",
        "def quadrature_pure(d,iteration,ita0,w0,ita1,w1,malphaBihaApp,C0,grs):\r\n",
        "  iteration=0\r\n",
        "  for alpha1 in range(0,d+1):\r\n",
        "    for bita1 in range(0,d+1):\r\n",
        "      for alpha2 in range(0,d-alpha1+1):\r\n",
        "        for bita2 in range(0,d-bita1+1):\r\n",
        "          cMalphaBihaApp=0.\r\n",
        "          for s in range(0,q):\r\n",
        "            for r in range(0,q):\r\n",
        "              cMalphaBihaApp=cMalphaBihaApp+(grs*w1[r]*Bpyccel(d,alpha1,ita1[r],C0)\r\n",
        "*Bpyccel(d,bita1,ita1[r],C0))*w0[s]*Bpyccel(d-alpha1,alpha2,ita0[s],C0)*Bpyccel(d-bita1,bita2,ita0[s],C0)  \r\n",
        "          malphaBihaApp[iteration]=((0.5)**3)*cMalphaBihaApp \r\n",
        "          iteration=iteration+1      \r\n",
        "    \r\n",
        "\r\n",
        "  return 0"
      ],
      "execution_count": 49,
      "outputs": []
    },
    {
      "cell_type": "markdown",
      "metadata": {
        "id": "j7pBKVLkuN9T"
      },
      "source": [
        "**Numba accelerator**"
      ]
    },
    {
      "cell_type": "code",
      "metadata": {
        "id": "PqX8yF0ToYaW"
      },
      "source": [
        "@njit\r\n",
        "def Bpyccel(n,k,t,C0):\r\n",
        "  return C0[n,k]*((1-t)**(n-k))*(t**k)                #polynome de Bernstien\r\n",
        "@njit\r\n",
        "def quadrature_numba(d,iteration,ita0,w0,ita1,w1,malphaBihaApp,C0,grs):\r\n",
        "\r\n",
        "  iteration=0\r\n",
        "  for alpha1 in range(0,d+1):\r\n",
        "    for bita1 in range(0,d+1):\r\n",
        "      for alpha2 in range(0,d-alpha1+1):\r\n",
        "        for bita2 in range(0,d-bita1+1):\r\n",
        "          cMalphaBihaApp=0.\r\n",
        "          for s in range(0,q):\r\n",
        "            for r in range(0,q):\r\n",
        "               cMalphaBihaApp=cMalphaBihaApp+(grs*w1[r]*Bpyccel(d,alpha1,ita1[r],C0)*Bpyccel(d,bita1,ita1[r],C0))*w0[s]*Bpyccel(d-alpha1,alpha2,ita0[s],C0)*Bpyccel(d-bita1,bita2,ita0[s],C0) \r\n",
        "          malphaBihaApp[iteration]=((0.5)**3)*cMalphaBihaApp \r\n",
        "          iteration=iteration+1      \r\n",
        "    \r\n",
        "\r\n",
        "  return 0"
      ],
      "execution_count": 37,
      "outputs": []
    },
    {
      "cell_type": "markdown",
      "metadata": {
        "id": "kzeygeQtuVd6"
      },
      "source": [
        "**Pyccel accelerator**"
      ]
    },
    {
      "cell_type": "code",
      "metadata": {
        "id": "vi70Dd5roYjC"
      },
      "source": [
        "@types('int','int','float[:]','float[:]','float[:]','float[:]','float[:]','float[:,:]','float')\r\n",
        "def quadrature_pyccel(d,iteration,ita0,w0,ita1,w1,malphaBihaApp,C0,grs):\r\n",
        "  @types('int','int','float','float[:,:]')\r\n",
        "  def Bpyccel(n,k,t,C0):\r\n",
        "    return C0[n,k]*((1-t)**(n-k))*(t**k)                            #polynome de Bernstien\r\n",
        "  q=d+1\r\n",
        "  for alpha1 in range(0,d+1):\r\n",
        "    for bita1 in range(0,d+1):\r\n",
        "      for alpha2 in range(0,d-alpha1+1):\r\n",
        "        for bita2 in range(0,d-bita1+1):\r\n",
        "          cMalphaBihaApp=0.\r\n",
        "          for s in range(0,q):\r\n",
        "            c=0.\r\n",
        "            for r in range(0,q):\r\n",
        "               cMalphaBihaApp=cMalphaBihaApp+(grs*w1[r]*Bpyccel(d,alpha1,ita1[r],C0)*Bpyccel(d,bita1,ita1[r],C0))*w0[s]*Bpyccel(d-alpha1,alpha2,ita0[s],C0)*Bpyccel(d-bita1,bita2,ita0[s],C0)  \r\n",
        "          malphaBihaApp[iteration]=((0.5)**3)*cMalphaBihaApp \r\n",
        "          iteration=iteration+1\r\n",
        "\r\n",
        "  return 0"
      ],
      "execution_count": 7,
      "outputs": []
    },
    {
      "cell_type": "code",
      "metadata": {
        "id": "qbEiZpazoYrU"
      },
      "source": [
        "quadrature=epyccel(quadrature_pyccel,language='fortran')"
      ],
      "execution_count": 8,
      "outputs": []
    },
    {
      "cell_type": "markdown",
      "metadata": {
        "id": "vuGY-kI6udKD"
      },
      "source": [
        "**Inputs**"
      ]
    },
    {
      "cell_type": "code",
      "metadata": {
        "colab": {
          "base_uri": "https://localhost:8080/"
        },
        "id": "RUupsT4RoYzq",
        "outputId": "02bd23bc-311c-48e3-d6d5-2152afec1b39"
      },
      "source": [
        "C0=sp.diag(sp.ones(500))\r\n",
        "C0[:,0]=sp.ones(500)\r\n",
        "for n in range(1,500):                                   # Formule de pascal\r\n",
        "     for m in range(1,n+1):\r\n",
        "        C0[n,m]= C0[n-1,m-1]+C0[n-1,m] \r\n",
        "\r\n",
        "\r\n",
        "def JT(x):\r\n",
        "  return sp.array([[1,2],[-1,0]])                          #Jacobien de FT\r\n",
        "  \r\n",
        "  \r\n",
        "  \r\n",
        "def F(x):\r\n",
        "  return sp.array([x[0],(1-x[0])*x[1]])                    #Transformation de Duffy\r\n",
        "\r\n",
        "\r\n",
        "iteration=0\r\n",
        "\r\n",
        "itars=sp.array([0,0])\r\n",
        "zetars=F(itars)\r\n",
        "grs=lg.det(JT(zetars))"
      ],
      "execution_count": 9,
      "outputs": [
        {
          "output_type": "stream",
          "text": [
            "/usr/local/lib/python3.6/dist-packages/ipykernel_launcher.py:1: DeprecationWarning: scipy.ones is deprecated and will be removed in SciPy 2.0.0, use numpy.ones instead\n",
            "  \"\"\"Entry point for launching an IPython kernel.\n",
            "/usr/local/lib/python3.6/dist-packages/ipykernel_launcher.py:1: DeprecationWarning: scipy.diag is deprecated and will be removed in SciPy 2.0.0, use numpy.diag instead\n",
            "  \"\"\"Entry point for launching an IPython kernel.\n",
            "/usr/local/lib/python3.6/dist-packages/ipykernel_launcher.py:2: DeprecationWarning: scipy.ones is deprecated and will be removed in SciPy 2.0.0, use numpy.ones instead\n",
            "  \n",
            "/usr/local/lib/python3.6/dist-packages/ipykernel_launcher.py:19: DeprecationWarning: scipy.array is deprecated and will be removed in SciPy 2.0.0, use numpy.array instead\n",
            "/usr/local/lib/python3.6/dist-packages/ipykernel_launcher.py:14: DeprecationWarning: scipy.array is deprecated and will be removed in SciPy 2.0.0, use numpy.array instead\n",
            "  \n",
            "/usr/local/lib/python3.6/dist-packages/ipykernel_launcher.py:9: DeprecationWarning: scipy.array is deprecated and will be removed in SciPy 2.0.0, use numpy.array instead\n",
            "  if __name__ == '__main__':\n"
          ],
          "name": "stderr"
        }
      ]
    },
    {
      "cell_type": "code",
      "metadata": {
        "id": "GZ62Nx0bkKgk"
      },
      "source": [
        "degremax=100"
      ],
      "execution_count": 45,
      "outputs": []
    },
    {
      "cell_type": "markdown",
      "metadata": {
        "id": "Nd8OxFivuiyD"
      },
      "source": [
        "**CALL Functions**"
      ]
    },
    {
      "cell_type": "markdown",
      "metadata": {
        "id": "rbgcprh_ut0T"
      },
      "source": [
        "**Function with pyccel accelerator**"
      ]
    },
    {
      "cell_type": "code",
      "metadata": {
        "id": "R8ZB11byqDj7"
      },
      "source": [
        "temCPUpyccelQ=[]\r\n",
        "degre=[]\r\n",
        "for i in range(1,degremax+1):\r\n",
        "  degre.append(i)\r\n",
        "  q=i+1\r\n",
        "  t0,w0=ss.roots_jacobi(q,0,0)  \r\n",
        "  ita0=(1/2)+0.5*t0  \r\n",
        "  t1,w1=ss.roots_jacobi(q,1,0)                   #Méthode de Gauss-Jacobi\r\n",
        "  ita1=(1/2)+0.5*t1\r\n",
        "  ind=int(C0[i+2,2]**2)\r\n",
        "  malphaBihaApp=np.zeros(ind)\r\n",
        "\r\n",
        "  t1P= process_time()\r\n",
        "  quadrature(i,iteration,ita0,w0,ita1,w1,malphaBihaApp,C0,grs)\r\n",
        "  t2P= process_time()\r\n",
        "\r\n",
        "  temCPUpyccelQ.append(t2P-t1P)\r\n"
      ],
      "execution_count": 40,
      "outputs": []
    },
    {
      "cell_type": "markdown",
      "metadata": {
        "id": "HNjwwsgHu-J0"
      },
      "source": [
        "**Function with numba accelerator**"
      ]
    },
    {
      "cell_type": "code",
      "metadata": {
        "id": "9pxWTcu5qDot"
      },
      "source": [
        "temCPUnumbaQ=[]\r\n",
        "degre=[]\r\n",
        "for i in range(1,degremax+1):\r\n",
        "  degre.append(i)\r\n",
        "  q=i+1\r\n",
        "  t0,w0=ss.roots_jacobi(q,0,0)  \r\n",
        "  ita0=(1/2)+0.5*t0  \r\n",
        "  t1,w1=ss.roots_jacobi(q,1,0)\r\n",
        "  ita1=(1/2)+0.5*t1\r\n",
        "  ind=int(C0[i+2,2]**2)\r\n",
        "  malphaBihaApp=np.zeros(ind)\r\n",
        "\r\n",
        "  t1N= process_time()\r\n",
        "  quadrature_numba(i,iteration,ita0,w0,ita1,w1,malphaBihaApp,C0,grs)\r\n",
        "  t2N= process_time()\r\n",
        "  \r\n",
        "  temCPUnumbaQ.append(t2N-t1N)"
      ],
      "execution_count": 46,
      "outputs": []
    },
    {
      "cell_type": "markdown",
      "metadata": {
        "id": "wmJJTD2zvVT9"
      },
      "source": [
        "**Pure function**"
      ]
    },
    {
      "cell_type": "code",
      "metadata": {
        "colab": {
          "base_uri": "https://localhost:8080/"
        },
        "id": "OlVXfHdfqDsL",
        "outputId": "168d02b3-d663-4930-b0e4-fec97c5767d7"
      },
      "source": [
        "temCPUpureQ=[]\r\n",
        "degre=[]\r\n",
        "for i in range(1,degremax+1):\r\n",
        "  degre.append(i)\r\n",
        "  q=i+1\r\n",
        "  t0,w0=ss.roots_jacobi(q,0,0)  \r\n",
        "  ita0=(1/2)+0.5*t0  \r\n",
        "  t1,w1=ss.roots_jacobi(q,1,0)\r\n",
        "  ita1=(1/2)+0.5*t1\r\n",
        "  ind=int(C0[i+2,2]**2)\r\n",
        "  malphaBihaApp=np.zeros(ind)\r\n",
        "\r\n",
        "  t1r= process_time()\r\n",
        "  quadrature_pure(i,iteration,ita0,w0,ita1,w1,malphaBihaApp,C0,grs)\r\n",
        "  t2r= process_time()\r\n",
        "\r\n",
        "  temCPUpureQ.append(t2r-t1r)"
      ],
      "execution_count": 32,
      "outputs": [
        {
          "output_type": "stream",
          "text": [
            "[0.16666667 0.08333333 0.08333333 0.16666667 0.08333333 0.08333333\n",
            " 0.08333333 0.08333333 0.16666667]\n"
          ],
          "name": "stdout"
        }
      ]
    },
    {
      "cell_type": "markdown",
      "metadata": {
        "id": "Mc_DsK6yvhCW"
      },
      "source": [
        "*PLOTS*"
      ]
    },
    {
      "cell_type": "markdown",
      "metadata": {
        "id": "T8t257x5vllz"
      },
      "source": [
        "**Plot pyccel function**"
      ]
    },
    {
      "cell_type": "code",
      "metadata": {
        "colab": {
          "base_uri": "https://localhost:8080/",
          "height": 299
        },
        "id": "68pUoK4EqDv1",
        "outputId": "12f482fd-ea39-43ef-bc09-5d35fc831df1"
      },
      "source": [
        "ax = pl.axes(xscale='log', yscale='log')\r\n",
        "pl.plot(degre,temCPUpyccelQ,label='Quadrature directe avec Pyccel')\r\n",
        "pl.title(\"Temps de calcul de matrice de masse avec Pyccel\")\r\n",
        "pl.xlabel(\" degre d\")\r\n",
        "pl.ylabel(\"temps CPU\")\r\n",
        "Degre=np.array(degre)\r\n",
        "cst=4.3*(10**(-9))\r\n",
        "Z=cst*(Degre**6)\r\n",
        "pl.plot(degre,Z,'r--',label='$d^6$')\r\n",
        "pl.legend()\r\n",
        "pl.grid()\r\n",
        "pl.show() "
      ],
      "execution_count": 41,
      "outputs": [
        {
          "output_type": "display_data",
          "data": {
            "image/png": "[encoded data removed]",
            "text/plain": [
              "<Figure size 432x288 with 1 Axes>"
            ]
          },
          "metadata": {
            "tags": [],
            "needs_background": "light"
          }
        }
      ]
    },
    {
      "cell_type": "markdown",
      "metadata": {
        "id": "pc0FzOzNvtSB"
      },
      "source": [
        "**Plot numba function**"
      ]
    },
    {
      "cell_type": "code",
      "metadata": {
        "colab": {
          "base_uri": "https://localhost:8080/",
          "height": 299
        },
        "id": "Xml64d0Zqy68",
        "outputId": "19588ac0-fd79-4f70-fcc0-42abb3fe0713"
      },
      "source": [
        "ax = pl.axes(xscale='log', yscale='log')\r\n",
        "pl.plot(degre,temCPUnumbaQ,label='Quadrature directe  avec numba')\r\n",
        "pl.title(\"Temps de calcul de matrice de masse avec numba\")\r\n",
        "pl.xlabel(\" degre d\")\r\n",
        "pl.ylabel(\"temps CPU\")\r\n",
        "Degre=np.array(degre)\r\n",
        "cst=5*(10**(-12))\r\n",
        "Z=cst*(Degre**6)\r\n",
        "pl.plot(degre,Z,'r--',label='$d^6$')\r\n",
        "pl.legend()\r\n",
        "pl.grid()\r\n",
        "pl.show() "
      ],
      "execution_count": 47,
      "outputs": [
        {
          "output_type": "display_data",
          "data": {
            "image/png": "[encoded data removed]",
            "text/plain": [
              "<Figure size 432x288 with 1 Axes>"
            ]
          },
          "metadata": {
            "tags": [],
            "needs_background": "light"
          }
        }
      ]
    },
    {
      "cell_type": "markdown",
      "metadata": {
        "id": "8_su7MPSvz3m"
      },
      "source": [
        "**Plot pure function**"
      ]
    },
    {
      "cell_type": "code",
      "metadata": {
        "colab": {
          "base_uri": "https://localhost:8080/",
          "height": 299
        },
        "id": "71ViStJeq0-s",
        "outputId": "c7fb2447-a256-4329-806e-248b35ac7c19"
      },
      "source": [
        "ax = pl.axes(xscale='log', yscale='log')\r\n",
        "pl.plot(degre,temCPUpureQ,label='Quadrature directe  avec pure')\r\n",
        "pl.title(\"Temps de calcul de matrice de masse avec pure\")\r\n",
        "pl.xlabel(\" degre d\")\r\n",
        "pl.ylabel(\"temps CPU\")\r\n",
        "Degre=np.array(degre)\r\n",
        "cst=4.5*(10**(-7))\r\n",
        "Z=cst*(Degre**6)\r\n",
        "pl.plot(degre,Z,'r--',label='$d^6$')\r\n",
        "pl.legend()\r\n",
        "pl.grid()\r\n",
        "pl.show() "
      ],
      "execution_count": 27,
      "outputs": [
        {
          "output_type": "display_data",
          "data": {
            "image/png": "[encoded data removed]",
            "text/plain": [
              "<Figure size 432x288 with 1 Axes>"
            ]
          },
          "metadata": {
            "tags": [],
            "needs_background": "light"
          }
        }
      ]
    },
    {
      "cell_type": "markdown",
      "metadata": {
        "id": "UeQyS8pfv5tf"
      },
      "source": [
        "*Plots pure, numba and pyccel functions*"
      ]
    },
    {
      "cell_type": "code",
      "metadata": {
        "colab": {
          "base_uri": "https://localhost:8080/",
          "height": 299
        },
        "id": "6QklZuVFq1Q9",
        "outputId": "6d554f4c-b6c1-42c8-9eb9-d0083cbcaa1b"
      },
      "source": [
        "ax = pl.axes(xscale='log', yscale='log')\r\n",
        "pl.plot(degre,temCPUpureQ,label='Quadrature directe  avec pure')\r\n",
        "pl.plot(degre,temCPUnumbaQ,label='Quadrature directe  avec numba')\r\n",
        "pl.plot(degre,temCPUpyccelQ,label='Quadrature directe  avec Pyccel')\r\n",
        "pl.title(\"Temps de calcul de matrice de masse avec pure, numba et pyccel\")\r\n",
        "pl.xlabel(\" degre d\")\r\n",
        "pl.ylabel(\"temps CPU\")\r\n",
        "Degre=np.array(degre)\r\n",
        "cst=4.5*(10**(-10))\r\n",
        "Z=cst*(Degre**6)\r\n",
        "#pl.plot(degre,Z,'r--',label='$d^6$')\r\n",
        "pl.legend()\r\n",
        "pl.grid()\r\n",
        "pl.show() "
      ],
      "execution_count": 28,
      "outputs": [
        {
          "output_type": "display_data",
          "data": {
            "image/png": "[encoded data removed]",
            "text/plain": [
              "<Figure size 432x288 with 1 Axes>"
            ]
          },
          "metadata": {
            "tags": [],
            "needs_background": "light"
          }
        }
      ]
    }
  ]
}